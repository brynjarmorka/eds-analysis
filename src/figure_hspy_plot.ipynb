{
 "cells": [
  {
   "cell_type": "code",
   "execution_count": null,
   "metadata": {},
   "outputs": [],
   "source": [
    "import hyperspy.api as hs\n",
    "import numpy as np\n",
    "import matplotlib.pyplot as plt\n",
    "from utils.get_raw_data import locate_raw_data\n",
    "\n",
    "emsa = locate_raw_data()\n",
    "\n",
    "\n"
   ]
  },
  {
   "cell_type": "code",
   "execution_count": null,
   "metadata": {},
   "outputs": [],
   "source": [
    "%matplotlib qt"
   ]
  },
  {
   "cell_type": "code",
   "execution_count": null,
   "metadata": {},
   "outputs": [],
   "source": []
  },
  {
   "cell_type": "code",
   "execution_count": null,
   "metadata": {},
   "outputs": [],
   "source": [
    "ss = hs.load(emsa[7], signal_type=\"EDS_TEM\")\n",
    "ss.add_elements([\"As\", \"Ga\"])\n",
    "ss.metadata"
   ]
  },
  {
   "cell_type": "code",
   "execution_count": null,
   "metadata": {},
   "outputs": [],
   "source": [
    "ss.metadata.General.title = \"GaAs bulk, 30 kV\"\n",
    "# update the xaxis and yaxis labels\n",
    "ss.axes_manager\n",
    "ss.axes_manager[0].name = \"Energy\""
   ]
  },
  {
   "cell_type": "code",
   "execution_count": null,
   "metadata": {},
   "outputs": [],
   "source": [
    "ss.plot(xray_lines=True)"
   ]
  },
  {
   "cell_type": "code",
   "execution_count": null,
   "metadata": {},
   "outputs": [],
   "source": []
  },
  {
   "cell_type": "code",
   "execution_count": null,
   "metadata": {},
   "outputs": [],
   "source": [
    "m = ss.create_model(auto_background=True)\n",
    "m.fit()\n",
    "m.plot(True)"
   ]
  },
  {
   "cell_type": "code",
   "execution_count": null,
   "metadata": {},
   "outputs": [],
   "source": [
    "m.active_components[1].A.value"
   ]
  },
  {
   "cell_type": "code",
   "execution_count": null,
   "metadata": {},
   "outputs": [],
   "source": [
    "m.active_components[1].name"
   ]
  },
  {
   "cell_type": "code",
   "execution_count": null,
   "metadata": {},
   "outputs": [],
   "source": [
    "sm = hs.signals.Signal1D(np.zeros(2048))\n",
    "sm.axes_manager[0].offset = ss.axes_manager[0].offset\n",
    "sm.axes_manager[0].scale = ss.axes_manager[0].scale\n",
    "\n",
    "mg = sm.create_model()\n",
    "g = hs.model.components1D.Gaussian()\n",
    "mg.append(g)\n",
    "gau = []\n",
    "\n",
    "for i in range(1, len(m.active_components)):\n",
    "        g.centre.value = m.active_components[i].centre.value\n",
    "        g.sigma.value = m.active_components[i].sigma.value\n",
    "        g.A.value = m.active_components[i].A.value /97\n",
    "        gs = mg.as_signal()\n",
    "        name = f'{m.active_components[i].name:<8}'\n",
    "        name+= f'fwhm={m.active_components[i].fwhm*1000:<5.0f}'\n",
    "        name+= f'μ={m.active_components[i].centre.value:<7.2f}'\n",
    "        name+= f'A={m.active_components[i].A.value:<8.0}'\n",
    "        name+= f'σ={m.active_components[i].sigma.value*1000:.0f}'\n",
    "        gs.metadata.General.title = name\n",
    "        # print(g.A.value)\n",
    "        gau.append(gs)\n",
    "\n",
    "gau.append(ss)\n",
    "gau.append(m.as_signal())\n",
    "\n",
    "\n",
    "fig, ax = plt.subplots(1,1, figsize=(20,12))\n",
    "plt.rcParams['font.size'] = '16'\n",
    "plt.rcParams['lines.linewidth'] = 3\n",
    "plt.rcParams['font.family'] = 'monospace'\n",
    "\n",
    "hs.plot.plot_spectra(gau,legend='auto', ax=ax, fig=fig, style='overlap')\n",
    "\n",
    "plt.title('Gaussian curves are scaled with 1/97, I do not know why this is needed')\n",
    "\n",
    "# y scale in log\n",
    "plt.yscale('log')\n",
    "# lim ymin at 50\n",
    "plt.ylim(ymin=50)\n",
    "\n",
    "plt.show()\n",
    "\n",
    "\n"
   ]
  },
  {
   "cell_type": "code",
   "execution_count": null,
   "metadata": {},
   "outputs": [],
   "source": [
    "plt.close('all')"
   ]
  },
  {
   "cell_type": "code",
   "execution_count": null,
   "metadata": {},
   "outputs": [],
   "source": [
    "sL = ss.isig[0.8:1.5]\n",
    "sL.plot(xray_lines=True)"
   ]
  },
  {
   "cell_type": "code",
   "execution_count": null,
   "metadata": {},
   "outputs": [],
   "source": [
    "sK = ss.isig[8.5:12.5]\n",
    "sK.plot(xray_lines=True)"
   ]
  },
  {
   "cell_type": "code",
   "execution_count": null,
   "metadata": {},
   "outputs": [],
   "source": [
    "sGK = ss.isig[9.0:9.5]\n",
    "sGK.plot(xray_lines=True)"
   ]
  },
  {
   "cell_type": "code",
   "execution_count": null,
   "metadata": {},
   "outputs": [],
   "source": [
    "plt.close('all')"
   ]
  },
  {
   "cell_type": "code",
   "execution_count": null,
   "metadata": {},
   "outputs": [],
   "source": []
  }
 ],
 "metadata": {
  "kernelspec": {
   "display_name": "Python 3.8.13 ('hspy')",
   "language": "python",
   "name": "python3"
  },
  "language_info": {
   "codemirror_mode": {
    "name": "ipython",
    "version": 3
   },
   "file_extension": ".py",
   "mimetype": "text/x-python",
   "name": "python",
   "nbconvert_exporter": "python",
   "pygments_lexer": "ipython3",
   "version": "3.8.15"
  },
  "orig_nbformat": 4,
  "vscode": {
   "interpreter": {
    "hash": "eedee208f6f0fe67ac5ec53646d8853bbb152098f521b748accd5958a126e1a5"
   }
  }
 },
 "nbformat": 4,
 "nbformat_minor": 2
}
