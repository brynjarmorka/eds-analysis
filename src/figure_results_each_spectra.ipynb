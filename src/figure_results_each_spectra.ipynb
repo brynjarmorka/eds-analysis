{
 "cells": [
  {
   "cell_type": "code",
   "execution_count": 1,
   "metadata": {},
   "outputs": [],
   "source": [
    "import plotly.graph_objects as go\n",
    "import numpy as np\n",
    "import hyperspy.api as hs\n",
    "from plotly.subplots import make_subplots\n",
    "# from scipy.signal import find_peaks\n",
    "\n",
    "from utils.get_raw_data import  locate_raw_data\n",
    "from utils.get_raw_data import get_array_and_names\n",
    "\n",
    "emsa = locate_raw_data()"
   ]
  },
  {
   "cell_type": "code",
   "execution_count": 2,
   "metadata": {},
   "outputs": [
    {
     "data": {
      "text/plain": [
       "{'Lb1': {'weight': 0.32736, 'energy (keV)': 2.3948},\n",
       " 'Kb': {'weight': 0.15, 'energy (keV)': 19.6072},\n",
       " 'Ka': {'weight': 1.0, 'energy (keV)': 17.4793},\n",
       " 'Lb2': {'weight': 0.04509, 'energy (keV)': 2.5184},\n",
       " 'La': {'weight': 1.0, 'energy (keV)': 2.2932},\n",
       " 'Ln': {'weight': 0.0128, 'energy (keV)': 2.1205},\n",
       " 'Ll': {'weight': 0.0415, 'energy (keV)': 2.0156},\n",
       " 'Lb3': {'weight': 0.06299, 'energy (keV)': 2.4732},\n",
       " 'Lg3': {'weight': 0.0105, 'energy (keV)': 2.8307},\n",
       " 'Lg1': {'weight': 0.01335, 'energy (keV)': 2.6233}}"
      ]
     },
     "execution_count": 2,
     "metadata": {},
     "output_type": "execute_result"
    }
   ],
   "source": [
    "hs.material.elements['Mo'].Atomic_properties.Xray_lines.as_dictionary()\n",
    "# hs.eds.get_xray_lines_near_energy(0.96)"
   ]
  },
  {
   "cell_type": "code",
   "execution_count": 3,
   "metadata": {},
   "outputs": [
    {
     "name": "stdout",
     "output_type": "stream",
     "text": [
      "Cu_5kV\n",
      "Cu_10kV\n",
      "Cu_30kV\n",
      "Fe_30kV\n",
      "GaAs_5kV\n",
      "GaAs_10kV\n",
      "GaAs_15kV\n",
      "GaAs_30kV\n",
      "Mo_5kV\n",
      "Mo_10kV\n",
      "Mo_15kV\n",
      "Mo_30kV\n",
      "NW_5kV\n",
      "NW_10kV\n",
      "NW_15kV\n",
      "NW_30kV\n",
      "Si_5kV\n",
      "Si_10kV\n",
      "Si_15kV\n",
      "Si_30kV\n",
      "\n",
      "\n",
      "\n",
      "\n",
      "\n",
      "\n",
      "\n",
      "\n",
      "\n",
      "\n",
      "\n",
      "\n",
      "\n",
      "\n",
      "\n",
      "\n",
      "\n",
      "\n"
     ]
    }
   ],
   "source": [
    "# read the file and print line 2, 15 and 16\n",
    "\n",
    "def print_lines(file, lines):\n",
    "    with open(file, 'r') as f:\n",
    "        pr = ''\n",
    "        for i, line in enumerate(f):\n",
    "            if i in lines:\n",
    "                # print()\n",
    "                pr += (line.split(':')[1][1:-1])\n",
    "        print(pr)\n",
    "\n",
    "l = [2, 15, 16] \n",
    "for f in emsa:\n",
    "    print_lines(f, [2])\n",
    "\n",
    "print('\\n\\n\\n\\n\\n\\n\\n\\n\\n\\n\\n\\n\\n\\n\\n\\n\\n')"
   ]
  },
  {
   "cell_type": "code",
   "execution_count": null,
   "metadata": {},
   "outputs": [],
   "source": []
  },
  {
   "cell_type": "code",
   "execution_count": null,
   "metadata": {},
   "outputs": [],
   "source": []
  },
  {
   "cell_type": "code",
   "execution_count": null,
   "metadata": {},
   "outputs": [],
   "source": []
  },
  {
   "cell_type": "code",
   "execution_count": 4,
   "metadata": {},
   "outputs": [],
   "source": [
    "# hs.material.elements['Mo'].Atomic_properties.Xray_lines.as_dictionary()"
   ]
  },
  {
   "cell_type": "code",
   "execution_count": 5,
   "metadata": {},
   "outputs": [],
   "source": [
    "# hs.eds.get_xray_lines_near_energy(0.96)"
   ]
  },
  {
   "cell_type": "code",
   "execution_count": 6,
   "metadata": {},
   "outputs": [],
   "source": [
    "ga, ga_names = get_array_and_names('GaAs')\n",
    "mo, mo_names = get_array_and_names('Mo')\n",
    "nw, nw_names = get_array_and_names('NW')\n",
    "cu, cu_names = get_array_and_names('Cu') # mostly C\n",
    "si, si_names = get_array_and_names('Si')\n",
    "fe, fe_names = get_array_and_names('Fe') # it is Al not Fe"
   ]
  },
  {
   "cell_type": "code",
   "execution_count": 7,
   "metadata": {},
   "outputs": [],
   "source": [
    "def split_names(names):\n",
    "    if '_' in names[0]:\n",
    "        names = [name.split('_') for name in names]\n",
    "        names = [name[0] + ' ' + name[1] for name in names]\n",
    "        names = [name.replace('kV', ' kV') for name in names]\n",
    "        names = [name.replace('05', '5') for name in names]\n",
    "        return names\n",
    "\n",
    "ga_names = split_names(ga_names)\n",
    "mo_names = split_names(mo_names)\n",
    "nw_names = split_names(nw_names)\n",
    "cu_names = split_names(cu_names)\n",
    "si_names = split_names(si_names)\n",
    "fe_names = split_names(fe_names)\n"
   ]
  },
  {
   "cell_type": "code",
   "execution_count": 8,
   "metadata": {},
   "outputs": [],
   "source": [
    "# GaAs calibration\n",
    "dispersion = 0.010030009470672611  # keV/channel\n",
    "offset = 21.1267053826366  # channel\n",
    "keV = np.arange(0, 2048) * dispersion - offset * dispersion"
   ]
  },
  {
   "cell_type": "code",
   "execution_count": 9,
   "metadata": {},
   "outputs": [],
   "source": [
    "# hs.material.elements['Ga'].Atomic_properties.Xray_lines.as_dictionary()"
   ]
  },
  {
   "cell_type": "code",
   "execution_count": 108,
   "metadata": {},
   "outputs": [],
   "source": [
    "# alpha in ascii: \\u03B1\n",
    "# ααααααααααααααααααααααααααααα\n",
    "def make_fig():\n",
    "    fig = go.Figure()\n",
    "    fig.update_layout(font=dict(family=\"EB Garamond SemiBold\", size=14, color=\"black\"))\n",
    "    fig.update_layout(width=800, height=400)\n",
    "    fig.update_layout(margin=dict(l=0, r=0, t=0, b=0))\n",
    "    fig.update_layout(legend=dict(x=0.81, y=0.92))\n",
    "    fig.update_layout(xaxis_title='Energy [keV]', yaxis_title='Relative intensity [a.u.]')\n",
    "    # fig.update_layout(paper_bgcolor='#E7E7E5')\n",
    "    return fig"
   ]
  },
  {
   "cell_type": "markdown",
   "metadata": {},
   "source": [
    "# GaAs"
   ]
  },
  {
   "cell_type": "code",
   "execution_count": 109,
   "metadata": {},
   "outputs": [
    {
     "data": {
      "text/plain": [
       "'GaAs'"
      ]
     },
     "execution_count": 109,
     "metadata": {},
     "output_type": "execute_result"
    }
   ],
   "source": [
    "# fig = go.Figure()\n",
    "\n",
    "# fig.update_layout(font=dict(size=12))\n",
    "# fig.update_layout(width=800, height=400)\n",
    "# fig.update_layout(margin=dict(l=0, r=0, t=0, b=0))\n",
    "# fig.update_layout(legend=dict(x=0.8, y=0.90))\n",
    "# fig.update_layout(xaxis_title='Energy [keV]', yaxis_title='Relative intensity [a.u.]')\n",
    "fig = make_fig()\n",
    "for i, y in enumerate(ga):\n",
    "    fig.add_trace(go.Scatter(x=keV, y=y, mode='lines', name=ga_names[i]))\n",
    "# max x at 14 keV\n",
    "fig.update_xaxes(range=[-0.01, 12.3])\n",
    "fig.update_yaxes(range=[-0.001, 0.2])\n",
    "\n",
    "# annotate Ga La at 1.1, 0.99\n",
    "fig.add_annotation(x=1.10, y=0.178, text=\"Ga L\\u03B1<br>1.10 keV\", showarrow=True, arrowhead=0, ax=190, ay=0)\n",
    "# annotate As La at 1.2, 0.72\n",
    "fig.add_annotation(x=1.28, y=0.15, text=\"As L\\u03B1<br>1.28 keV\", showarrow=True, arrowhead=0, ax=130, ay=0)\n",
    "# Ga Ll at 0.96, 0.11\n",
    "fig.add_annotation(x=0.96, y=0.109, text=\"Ga Ll<br>0.96 keV\", showarrow=True, arrowhead=0, ax=60, ay=-40)\n",
    "\n",
    "# annotate C ka at 0.28, 0.05\n",
    "fig.add_annotation(x=0.28, y=0.051, text=\"C K\\u03B1<br>0.28 keV\", showarrow=True, arrowhead=0, ax=100, ay=-30)\n",
    "# annotate O Ka at 0.51, 0.09\n",
    "fig.add_annotation(x=0.52, y=0.088, text=\"O K\\u03B1<br>0.52 keV\", showarrow=True, arrowhead=0, ax=0, ay=-100)\n",
    "# Si Ka at 1.75, 0.1\n",
    "fig.add_annotation(x=1.74, y=0.016, text=\"Si K\\u03B1<br>1.74 keV\", showarrow=True, arrowhead=0, ax=100, ay=-70)\n",
    "\n",
    "# annotate Ga Ka at 9.25,035\n",
    "fig.add_annotation(x=9.25, y=0.175, text=\"Ga K\\u03B1<br>9.25 keV\", showarrow=True, arrowhead=0, ax=-90, ay=0)\n",
    "# annotate As Ka at 10.5, 0.2\n",
    "fig.add_annotation(x=10.54, y=0.108, text=\"As K\\u03B1<br>10.54 keV\", showarrow=True, arrowhead=0, ax=-140, ay=0)\n",
    "# annotate Ga Kb at 10.25, 0.055\n",
    "fig.add_annotation(x=10.26, y=0.055, text=\"Ga K\\u03B2<br>10.26 keV\", showarrow=True, arrowhead=0, ax=-20, ay=-40)\n",
    "# As Kb at 11.5, 0.03\n",
    "fig.add_annotation(x=11.73, y=0.033, text=\"As K\\u03B2<br>11.73 keV\", showarrow=True, arrowhead=0, ax=0, ay=-50)\n",
    "\n",
    "# Sum peaks Ga La and As La at 2.2, 0.025\n",
    "fig.add_annotation(x=2.21, y=0.022, text=\"*Sum peaks Ga L\\u03B1 and As L\\u03B1<br>2.2 and 2.4 keV\", showarrow=True, arrowhead=0, ax=140, ay=-30)\n",
    "# another arrow to 2.4, 0.025\n",
    "fig.add_annotation(x=2.41, y=0.0240, text=\"                               <br> \", showarrow=True, arrowhead=0, ax=100, ay=-25)\n",
    "\n",
    "# sum peaks Ga Ka and As Ka\n",
    "fig.add_annotation(x=18.5, y=0.0015, text=\"*Sum peaks Ga K\\u03B1 and As K\\u03B1<br>18.5 and 19.8 keV\", showarrow=True, arrowhead=0, ax=-50, ay=-80)\n",
    "# another arrow to 2.4, 0.025\n",
    "fig.add_annotation(x=19.8, y=0.0015, text=\"                              <br>                              \", showarrow=True, arrowhead=0, ax=-50, ay=-80)\n",
    "\n",
    "# vline at 1.10, 1.28 and 9.25 and 10.54\n",
    "fig.add_vline(x=1.10,line_width=1, line_dash=\"dash\", line_color=\"grey\")\n",
    "fig.add_vline(x=1.28,line_width=1, line_dash=\"dash\", line_color=\"grey\")\n",
    "fig.add_vline(x=9.25,line_width=1, line_dash=\"dash\", line_color=\"grey\")\n",
    "fig.add_vline(x=10.54,line_width=1, line_dash=\"dash\", line_color=\"grey\")\n",
    "\n",
    "'GaAs'"
   ]
  },
  {
   "cell_type": "code",
   "execution_count": 110,
   "metadata": {},
   "outputs": [
    {
     "data": {
      "text/plain": [
       "2"
      ]
     },
     "execution_count": 110,
     "metadata": {},
     "output_type": "execute_result"
    }
   ],
   "source": [
    "# # # whole spectrum\n",
    "fig.write_image('../plots/spectra_plots/GaAs_everything.png', width=800, height=400, scale=2)\n",
    "\n",
    "2"
   ]
  },
  {
   "cell_type": "code",
   "execution_count": 111,
   "metadata": {},
   "outputs": [],
   "source": [
    "# Background and sum peaks\n",
    "\n",
    "# # limit y axis to 0.2, and x to 0.6\n",
    "fig.update_yaxes(range=[0, 0.027])\n",
    "fig.update_xaxes(range=[0.25, 20.3])\n",
    "# # # # save png as \"GaAs_bg_and_sum_peaks.png\"\n",
    "fig.write_image('../plots/spectra_plots/GaAs_bg_and_sum_peaks.png', width=800, height=400, scale=2)\n",
    "# fig"
   ]
  },
  {
   "cell_type": "markdown",
   "metadata": {},
   "source": [
    "# Cu"
   ]
  },
  {
   "cell_type": "code",
   "execution_count": 112,
   "metadata": {},
   "outputs": [],
   "source": [
    "fig = make_fig()\n",
    "fig.add_trace(go.Scatter(x=keV, y=cu[0], mode='lines', name=cu_names[0]))\n",
    "fig.add_trace(go.Scatter(x=keV, y=cu[1], mode='lines', name=cu_names[1]))\n",
    "fig.add_trace(go.Scatter(x=keV, y=cu[2], mode='lines', name=cu_names[2], line=dict(color='#AB63FA')))\n",
    "    # '#636EFA', '#EF553B', '#00CC96', '#AB63FA',))\n",
    " \n",
    "# fig.update_layout(margin=dict(l=0, r=0, t=0, b=0))\n",
    "# fig.update_layout(width=800, height=400)\n",
    "# fig.update_layout(font=dict(size=12))\n",
    "# fig.update_layout(legend=dict(x=0.8, y=0.90))\n",
    "# fig.update_layout(xaxis_title='Energy [keV]', yaxis_title='Relative intensity [a.u.]')\n",
    "fig.update_xaxes(range=[-0.1, 9.5])\n",
    "fig.update_yaxes(range=[-0.001, 0.06])\n",
    "\n",
    "# add annotations\n",
    "# annotate \"Zero peak\" at 0.008, 0.04\n",
    "fig.add_annotation(x=0.008, y=0.04, text=\"*Zero peak<br>0.008 keV\", showarrow=True, arrowhead=0, ax=100, ay=0)\n",
    "# C ka at 0.26, 0.05\n",
    "fig.add_annotation(x=0.28, y=0.050, text=\"C K\\u03B1<br>0.28 keV\", showarrow=True, arrowhead=0, ax=140, ay=0)\n",
    "# O Ka at 0.51, 0.09\n",
    "fig.add_annotation(x=0.52, y=0.0547, text=\"O K\\u03B1<br>0.52 keV\", showarrow=True, arrowhead=0, ax=90, ay=0)\n",
    "# Si Ka at 1.75, 0.1\n",
    "fig.add_annotation(x=1.735, y=0.017, text=\"Si K\\u03B1<br>1.74 keV\", showarrow=True, arrowhead=0, ax=0, ay=-60)\n",
    "\n",
    "# Mo La at 2.29, 0.012\n",
    "fig.add_annotation(x=2.29, y=0.012, text=\"Mo L\\u03B1<br>2.29 keV\", showarrow=True, arrowhead=0, ax=0, ay=-30)\n",
    "\n",
    "# Cu Ka at 8.05, 0.016\n",
    "fig.add_annotation(x=8.05, y=0.016, text=\"Cu K\\u03B1<br>8.05 keV\", showarrow=True, arrowhead=0, ax=0, ay=-30)\n",
    "# Cu Kb at 8.905, 0.016\n",
    "fig.add_annotation(x=8.91, y=0.0035, text=\"Cu K\\u03B2<br>8.91 keV\", showarrow=True, arrowhead=0, ax=0, ay=-30)\n",
    "# annotate \"Missing Cu La\" at 0.9295, 0.016\n",
    "fig.add_annotation(x=0.93, y=0.0045, text=\"Missing Cu L\\u03B1<br>0.93 keV\", showarrow=True, arrowhead=0, ax=10, ay=-50)\n",
    "\n",
    "# add vline at 0.26\n",
    "fig.add_vline(x=0.26, line_width=1, line_dash=\"dash\", line_color=\"grey\")\n",
    "\n",
    "# save png as \"Cu_everything.png\"\n",
    "fig.write_image('../plots/spectra_plots/Cu_everything.png', width=800, height=400, scale=2)\n",
    "# # 'cu'\n",
    "\n"
   ]
  },
  {
   "cell_type": "markdown",
   "metadata": {},
   "source": [
    "# Si"
   ]
  },
  {
   "cell_type": "code",
   "execution_count": 113,
   "metadata": {},
   "outputs": [],
   "source": [
    "fig = make_fig()\n",
    "for i, y in enumerate(si):\n",
    "    fig.add_trace(go.Scatter(x=keV, y=y, mode='lines', name=si_names[i]))\n",
    "# fig.update_layout(margin=dict(l=0, r=0, t=0, b=0))\n",
    "# fig.update_layout(width=800, height=400)\n",
    "# fig.update_layout(legend=dict(x=0.8, y=0.90))\n",
    "# fig.update_layout(xaxis_title='Energy [keV]', yaxis_title='Relative intensity [a.u.]')\n",
    "# fig.update_layout(font=dict(size=12))\n",
    "fig.update_xaxes(range=[-0.1, 3.8])\n",
    "fig.update_yaxes(range=[-0.001, 0.075])\n",
    "\n",
    "\n",
    "# C ka at 0.28, 0.05\n",
    "fig.add_annotation(x=0.28, y=0.019, text=\"C K\\u03B1<br>0.28 keV\", showarrow=True, arrowhead=0, ax=90, ay=0)\n",
    "# O Ka at 0.51, 0.09\n",
    "fig.add_annotation(x=0.52, y=0.030, text=\"O K\\u03B1<br>0.52 keV\", showarrow=True, arrowhead=0, ax=50, ay=-60)\n",
    "# Si Ka at 1.75, 0.1\n",
    "fig.add_annotation(x=1.735, y=0.06, text=\"Si K\\u03B1<br>1.735 keV\", showarrow=True, arrowhead=0, ax=-60, ay=-40)\n",
    "# annotate \"Zero peak\" at 0.0087, 0.00448\n",
    "fig.add_annotation(x=0.0087, y=0.0448, text=\"*Zero peak<br>0.008 keV\", showarrow=True, arrowhead=0, ax=90, ay=-110)\n",
    "\n",
    "# annotate Unknown at 0.078, 0.0263\n",
    "fig.add_annotation(x=0.078, y=0.0245, text=\"*Unknown<br>0.08 keV\", showarrow=True, arrowhead=0, ax=60, ay=-60)\n",
    "\n",
    "# annotate \"Si Ka sum peak\" at 3.47,0.02\n",
    "fig.add_annotation(x=3.48, y=0.0189, text=\"*Si K\\u03B1 sum peak<br>3.48 keV\", showarrow=True, arrowhead=0, ax=0, ay=-60)\n",
    "# annotate Si Kb at 1.8389, 0.04\n",
    "fig.add_annotation(x=1.8389, y=0.015, text=\"Si K\\u03B2<br>1.84 keV\", showarrow=True, arrowhead=0, ax=70, ay=-40)\n",
    "\n",
    "fig.add_vline(x=1.735, line_width=1, line_dash=\"dash\", line_color=\"grey\")\n",
    "fig.add_vline(x=1.8389, line_width=1, line_dash=\"dash\", line_color=\"grey\")\n",
    "\n",
    "# save png as \"Si_everything.png\"\n",
    "fig.write_image('../plots/spectra_plots/Si_everything.png', width=800, height=400, scale=2)\n",
    "# 'si'"
   ]
  },
  {
   "cell_type": "code",
   "execution_count": null,
   "metadata": {},
   "outputs": [],
   "source": []
  },
  {
   "cell_type": "markdown",
   "metadata": {},
   "source": [
    "# Fe, but really Al"
   ]
  },
  {
   "cell_type": "code",
   "execution_count": 114,
   "metadata": {},
   "outputs": [],
   "source": [
    "fe_names[0] = 'Al 30 kV'"
   ]
  },
  {
   "cell_type": "code",
   "execution_count": 115,
   "metadata": {},
   "outputs": [
    {
     "data": {
      "text/plain": [
       "array([0.00000000e+00, 0.00000000e+00, 0.00000000e+00, ...,\n",
       "       3.04461889e-05, 2.53718241e-05, 2.53718241e-05])"
      ]
     },
     "execution_count": 115,
     "metadata": {},
     "output_type": "execute_result"
    }
   ],
   "source": [
    "fe[0]"
   ]
  },
  {
   "cell_type": "code",
   "execution_count": 116,
   "metadata": {},
   "outputs": [],
   "source": [
    "fig = make_fig()\n",
    "for i, y in enumerate(fe):\n",
    "    fig.add_trace(go.Scatter(x=keV, y=y, mode='lines', name=fe_names[i], line=dict(color='#AB63FA')))\n",
    "\n",
    "fig.update_xaxes(range=[-0.1, 10])\n",
    "fig.update_yaxes(range=[-0.0005, 0.015])\n",
    "# show legend\n",
    "fig.update_layout(showlegend=True)\n",
    "\n",
    "# annotate \"Zero peak\" at 0.008, 0.015\n",
    "fig.add_annotation(x=0.008, y=0.010, text=\"*Zero peak<br>0.008 keV\", showarrow=True, arrowhead=0, ax=45, ay=0)\n",
    "# C ka at 0.26, 0.05\n",
    "fig.add_annotation(x=0.28, y=0.0018, text=\"C K\\u03B1<br>0.28 keV\", showarrow=True, arrowhead=0, ax=20, ay=-100)\n",
    "# O Ka at 0.51, 0.09\n",
    "fig.add_annotation(x=0.52, y=0.0013, text=\"O K\\u03B1<br>0.52 keV\", showarrow=True, arrowhead=0, ax=40, ay=20)\n",
    "# Si Ka at 1.75, 0.1\n",
    "fig.add_annotation(x=1.74, y=0.0023, text=\"Si K\\u03B1<br>1.74 keV\", showarrow=True, arrowhead=0, ax=30, ay=-40)\n",
    "\n",
    "# Al ka at 1.486, 0.1\n",
    "fig.add_annotation(x=1.49, y=0.0098, text=\"Al K\\u03B1<br>1.49 keV\", showarrow=True, arrowhead=0, ax=80, ay=0)\n",
    "# Al Kb at 1.5596, 0.05\n",
    "fig.add_annotation(x=1.56, y=0.005, text=\"Al K\\u03B2<br>1.56 keV\", showarrow=True, arrowhead=0, ax=60, ay=-40)\n",
    "\n",
    "# Mg Ka at 1.25, 0.0136\n",
    "fig.add_annotation(x=1.25, y=0.0136, text=\"Mg K\\u03B1<br>1.25 keV\", showarrow=True, arrowhead=0, ax=-50, ay=0)\n",
    "# Mn Ka at 5.90, 0.00178\n",
    "fig.add_annotation(x=5.90, y=0.00178, text=\"Mn K\\u03B1<br>5.90 keV\", showarrow=True, arrowhead=0, ax=0, ay=-40)\n",
    "# Al Ka sum peak at 2.97, 0.00523\n",
    "fig.add_annotation(x=2.97, y=0.00523, text=\"*Al K\\u03B1 sum peak<br>2.97 keV\", showarrow=True, arrowhead=0, ax=50, ay=-40)\n",
    "\n",
    "# # Add missing \"Fe Ka\" at 6.40, 0.001\n",
    "# fig.add_annotation(x=6.40, y=0.001, text=\"Fe K\\u03B1<br>6.40 keV\", showarrow=True, arrowhead=0, ax=0, ay=-140)\n",
    "\n",
    "# vline at 1.486\n",
    "fig.add_vline(x=1.486, line_width=1, line_dash=\"dash\", line_color=\"grey\")\n",
    "# 1.5596\n",
    "fig.add_vline(x=1.5596, line_width=1, line_dash=\"dash\", line_color=\"grey\")\n",
    "\n",
    "# save png as \"Fe_everything.png\"\n",
    "fig.write_image('../plots/spectra_plots/Al_everything.png', width=800, height=400, scale=2)\n",
    "\n",
    "# 'Al or Fe'"
   ]
  },
  {
   "cell_type": "markdown",
   "metadata": {},
   "source": [
    "# Mo"
   ]
  },
  {
   "cell_type": "code",
   "execution_count": 117,
   "metadata": {},
   "outputs": [
    {
     "data": {
      "text/plain": [
       "'Mo'"
      ]
     },
     "execution_count": 117,
     "metadata": {},
     "output_type": "execute_result"
    }
   ],
   "source": [
    "fig = make_fig()\n",
    "for i, y in enumerate(mo):\n",
    "    fig.add_trace(go.Scatter(x=keV, y=y, mode='lines', name=mo_names[i]))\n",
    "\n",
    "\n",
    "\n",
    "fig.update_yaxes(range=[-0.0005, 0.2])\n",
    "fig.update_layout(showlegend=True)\n",
    "\n",
    "# annotate \"Zero peak\" at 0.008, 0.015\n",
    "# fig.add_annotation(x=0.008, y=0.069, text=\"Zero peak<br>0.008 keV\", showarrow=True, arrowhead=0, ax=160, ay=0)\n",
    "# C ka at 0.26, 0.05\n",
    "fig.add_annotation(x=0.28, y=0.02, text=\"C K\\u03B1<br>0.28 keV\", showarrow=True, arrowhead=0, ax=30, ay=-60)\n",
    "# O Ka at 0.51, 0.09\n",
    "fig.add_annotation(x=0.52, y=0.126, text=\"O K\\u03B1<br>0.52 keV\", showarrow=True, arrowhead=0, ax=140, ay=30)\n",
    "# # Si Ka at 1.75, 0.1\n",
    "# fig.add_annotation(x=1.733, y=0.0023, text=\"Si K\\u03B1<br>1.73 keV\", showarrow=True, arrowhead=0, ax=30, ay=-40)\n",
    "# B Ka at 0.18, 0.130\n",
    "# fig.add_annotation(x=0.18, y=0.130, text=\"B K\\u03B1?<br>0.18 keV\", showarrow=True, arrowhead=0, ax=140, ay=-30)\n",
    "fig.add_annotation(x=0.18, y=0.130, text=\"*Unknown<br>0.18 keV\", showarrow=True, arrowhead=0, ax=140, ay=-30)\n",
    "\n",
    "# unknown peak at 2.01, 0.08\n",
    "fig.add_annotation(x=2.02, y=0.08, text=\"Mo Ll<br>2.02 keV\", showarrow=True, arrowhead=0, ax=100, ay=-0)\n",
    "\n",
    "\n",
    "# Mo Ka at 17.46, 0.019\n",
    "fig.add_annotation(x=17.48, y=0.019, text=\"Mo K\\u03B1<br>17.48 keV\", showarrow=True, arrowhead=0, ax=0, ay=-50)\n",
    "# Mo Kb at 19.62, 0.0036\n",
    "fig.add_annotation(x=19.61, y=0.0036, text=\"Mo K\\u03B2<br>19.61 keV\", showarrow=True, arrowhead=0, ax=0, ay=-50)\n",
    "# Mo La at 2.29, 0.001\n",
    "fig.add_annotation(x=2.29, y=0.177, text=\"Mo L\\u03B1<br>2.29 keV\", showarrow=True, arrowhead=0, ax=180, ay=-0)\n",
    "# vline at 2.29\n",
    "fig.add_vline(x=2.29, line_width=1, line_dash=\"dash\", line_color=\"grey\")\n",
    "\n",
    "# vline at 2.38\n",
    "fig.add_vline(x=2.38, line_width=1, line_dash=\"dash\", line_color=\"grey\")\n",
    "# Mo Lb1 at 2.38, 0.001\n",
    "fig.add_annotation(x=2.39, y=0.127, text=\"Mo L\\u03B21<br>2.39 keV\", showarrow=True, arrowhead=0, ax=140, ay=0)\n",
    "\n",
    "# Mo La sum peak at4.6, 0.02\n",
    "fig.add_annotation(x=4.6, y=0.02, text=\"*Mo L\\u03B1 sum peak<br>4.6 keV\", showarrow=True, arrowhead=0, ax=100, ay=-20)\n",
    "\n",
    "# Mo Lg3 at 2.83, 0.032\n",
    "fig.add_annotation(x=2.83, y=0.032, text=\"Mo L\\u03B33<br>2.83 keV\", showarrow=True, arrowhead=0, ax=40, ay=-20)\n",
    "\n",
    "\n",
    "# save png as \"Mo_everything.png\"\n",
    "fig.write_image('../plots/spectra_plots/Mo_everything.png', width=800, height=400, scale=2)\n",
    "\n",
    "'Mo'"
   ]
  },
  {
   "cell_type": "markdown",
   "metadata": {},
   "source": [
    "# NW"
   ]
  },
  {
   "cell_type": "code",
   "execution_count": 118,
   "metadata": {},
   "outputs": [],
   "source": [
    "fig = make_fig()\n",
    "for i, y in enumerate(nw):\n",
    "    fig.add_trace(go.Scatter(x=keV, y=y, mode='lines', name=nw_names[i]))\n",
    "\n",
    "\n",
    "\n",
    "\n",
    "fig.update_xaxes(range=[0.068, 12.5])\n",
    "fig.update_yaxes(range=[-0.0005, 0.2])\n",
    "fig.update_layout(showlegend=True)\n",
    "\n",
    "# annotate \"Zero peak\" at 0.008, 0.015\n",
    "# fig.add_annotation(x=0.008, y=0.069, text=\"Zero peak<br>0.008 keV\", showarrow=True, arrowhead=0, ax=160, ay=0)\n",
    "# C ka at 0.26, 0.05\n",
    "fig.add_annotation(x=0.28, y=0.19, text=\"C K\\u03B1<br>0.28 keV\", showarrow=True, arrowhead=0, ax=180, ay=0)\n",
    "# O Ka at 0.51, 0.09\n",
    "fig.add_annotation(x=0.52, y=0.182, text=\"O K\\u03B1<br>0.52 keV\", showarrow=True, arrowhead=0, ax=90, ay=0)\n",
    "# Si Ka at 1.75, 0.1\n",
    "fig.add_annotation(x=1.74, y=0.0335, text=\"Si K\\u03B1<br>1.74 keV\", showarrow=True, arrowhead=0, ax=30, ay=-40)\n",
    "\n",
    "# N Ka at 0.389, 0.086\n",
    "# fig.add_annotation(x=0.389, y=0.086, text=\"N K\\u03B1?<br>0.389 keV\", showarrow=True, arrowhead=0, ax=110, ay=0)\n",
    "fig.add_annotation(x=0.38, y=0.086, text=\"*Unknown<br>0.38 keV\", showarrow=True, arrowhead=0, ax=110, ay=0)\n",
    "\n",
    "# Ga La at 1.1, 0.1\n",
    "fig.add_annotation(x=1.10, y=0.165, text=\"Ga L\\u03B1<br>1.10 keV\", showarrow=True, arrowhead=0, ax=120, ay=-0)\n",
    "# As La at 1.28, 0.1\n",
    "fig.add_annotation(x=1.28, y=0.115, text=\"As L\\u03B1<br>1.28 keV\", showarrow=True, arrowhead=0, ax=80, ay=-0)\n",
    "# Cu La at 0.92, 0.146\n",
    "fig.add_annotation(x=0.93, y=0.146, text=\"Cu L\\u03B1<br>0.93 keV\", showarrow=True, arrowhead=0, ax=60, ay=-0)\n",
    "\n",
    "# vline at 1.1 and 1.28\n",
    "fig.add_vline(x=1.1, line_width=1, line_dash=\"dash\", line_color=\"grey\")\n",
    "fig.add_vline(x=1.28, line_width=1, line_dash=\"dash\", line_color=\"grey\")\n",
    "\n",
    "# Sb La at 3.60\n",
    "fig.add_annotation(x=3.61, y=0.028, text=\"Sb L\\u03B1<br>3.60 keV\", showarrow=True, arrowhead=0, ax=80, ay=-60)\n",
    "# Sb Lb1 at 3.84\n",
    "fig.add_annotation(x=3.84, y=0.0167, text=\"Sb L\\u03B21<br>3.84 keV\", showarrow=True, arrowhead=0, ax=60, ay=-40)\n",
    "# Sb Lb2 at 4.10\n",
    "fig.add_annotation(x=4.10, y=0.0104, text=\"Sb L\\u03B22<br>4.10 keV\", showarrow=True, arrowhead=0, ax=80, ay=-10)\n",
    "\n",
    "# Ni Ka at 7.49\n",
    "fig.add_annotation(x=7.48, y=0.026, text=\"Ni K\\u03B1<br>7.48 keV\", showarrow=True, arrowhead=0, ax=-40, ay=-90)\n",
    "# Ni La at 0.85, 0.066\n",
    "fig.add_annotation(x=0.85, y=0.066, text=\"Ni L\\u03B1<br>0.85 keV\", showarrow=True, arrowhead=0, ax=-15, ay=99)\n",
    "\n",
    "# Cu Ka\n",
    "fig.add_annotation(x=8.05, y=0.13, text=\"Cu K\\u03B1<br>8.05 keV\", showarrow=True, arrowhead=0, ax=-80, ay=-10)\n",
    "# Cu Kb at 8.92\n",
    "fig.add_annotation(x=8.91, y=0.0213, text=\"Cu K\\u03B2<br>8.91 keV\", showarrow=True, arrowhead=0, ax=-20, ay=-40)\n",
    "\n",
    "# annotate Ga Ka at 9.25,035\n",
    "fig.add_annotation(x=9.25, y=0.164, text=\"Ga K\\u03B1<br>9.25 keV\", showarrow=True, arrowhead=0, ax=-60, ay=0)\n",
    "# annotate As Ka at 10.5, 0.2\n",
    "fig.add_annotation(x=10.54, y=0.115, text=\"As K\\u03B1<br>10.54 keV\", showarrow=True, arrowhead=0, ax=60, ay=60)\n",
    "# annotate Ga Kb at 10.25, 0.055\n",
    "fig.add_annotation(x=10.26, y=0.024, text=\"Ga K\\u03B2<br>10.26 keV\", showarrow=True, arrowhead=0, ax=-20, ay=-60)\n",
    "# As Kb at 11.5, 0.03\n",
    "fig.add_annotation(x=11.73, y=0.0174, text=\"As K\\u03B2<br>11.73 keV\", showarrow=True, arrowhead=0, ax=0, ay=-40)\n",
    "\n",
    "# Mo La at 2.29, 0.03\n",
    "fig.add_annotation(x=2.29, y=0.03, text=\"Mo L\\u03B1<br>2.29 keV\", showarrow=True, arrowhead=0, ax=70, ay=-80)\n",
    "\n",
    "# annotate Unknown at 2.00, 0.02\n",
    "fig.add_annotation(x=2.02, y=0.015, text=\"Mo Ll<br>2.02 keV\", showarrow=True, arrowhead=0, ax=65, ay=-35)\n",
    "\n",
    "# save png as \"NW_everything.png\"\n",
    "fig.write_image('../plots/spectra_plots/NW_everything.png', width=800, height=400, scale=2)\n",
    "\n",
    "# 'NW'\n"
   ]
  },
  {
   "cell_type": "code",
   "execution_count": 119,
   "metadata": {},
   "outputs": [
    {
     "data": {
      "text/plain": [
       "{'Lb1': {'weight': 0.32736, 'energy (keV)': 2.3948},\n",
       " 'Kb': {'weight': 0.15, 'energy (keV)': 19.6072},\n",
       " 'Ka': {'weight': 1.0, 'energy (keV)': 17.4793},\n",
       " 'Lb2': {'weight': 0.04509, 'energy (keV)': 2.5184},\n",
       " 'La': {'weight': 1.0, 'energy (keV)': 2.2932},\n",
       " 'Ln': {'weight': 0.0128, 'energy (keV)': 2.1205},\n",
       " 'Ll': {'weight': 0.0415, 'energy (keV)': 2.0156},\n",
       " 'Lb3': {'weight': 0.06299, 'energy (keV)': 2.4732},\n",
       " 'Lg3': {'weight': 0.0105, 'energy (keV)': 2.8307},\n",
       " 'Lg1': {'weight': 0.01335, 'energy (keV)': 2.6233}}"
      ]
     },
     "execution_count": 119,
     "metadata": {},
     "output_type": "execute_result"
    }
   ],
   "source": [
    "# print Mo lines\n",
    "hs.material.elements['Mo'].Atomic_properties.Xray_lines.as_dictionary()"
   ]
  },
  {
   "cell_type": "code",
   "execution_count": 120,
   "metadata": {},
   "outputs": [
    {
     "data": {
      "text/plain": [
       "['Pa_Lg3']"
      ]
     },
     "execution_count": 120,
     "metadata": {},
     "output_type": "execute_result"
    }
   ],
   "source": [
    "hs.eds.get_xray_lines_near_energy(20.0)"
   ]
  }
 ],
 "metadata": {
  "kernelspec": {
   "display_name": "Python 3.8.13 ('hspy')",
   "language": "python",
   "name": "python3"
  },
  "language_info": {
   "codemirror_mode": {
    "name": "ipython",
    "version": 3
   },
   "file_extension": ".py",
   "mimetype": "text/x-python",
   "name": "python",
   "nbconvert_exporter": "python",
   "pygments_lexer": "ipython3",
   "version": "3.8.13"
  },
  "orig_nbformat": 4,
  "vscode": {
   "interpreter": {
    "hash": "eedee208f6f0fe67ac5ec53646d8853bbb152098f521b748accd5958a126e1a5"
   }
  }
 },
 "nbformat": 4,
 "nbformat_minor": 2
}
