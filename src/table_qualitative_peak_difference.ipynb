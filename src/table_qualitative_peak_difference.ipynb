{
 "cells": [
  {
   "cell_type": "markdown",
   "metadata": {},
   "source": [
    "## Plotting the qualitative data\n",
    "\n",
    "First use calibration from Ga and As to make a table to see if the peaks deviate from the expected values.\n",
    "\n",
    "Then plot the qualitative data of each sample place."
   ]
  },
  {
   "cell_type": "code",
   "execution_count": 3,
   "metadata": {},
   "outputs": [],
   "source": [
    "import numpy as np\n",
    "import plotly.graph_objects as go\n",
    "import plotly.express as px\n",
    "import hyperspy.api as hs\n",
    "from scipy.signal import find_peaks\n",
    "\n",
    "# utils and helper_files\n",
    "from utils.get_raw_data import get_array_and_names\n",
    "from helper_files.normalizations import normalize_high_peak\n",
    "from helper_files.peak_ratios import channel_to_kev, make_fit, n_gaussians_and_m_order_bg\n",
    "from helper_files.calibration import calibrate_channel_width_two_peaks"
   ]
  },
  {
   "cell_type": "code",
   "execution_count": 4,
   "metadata": {},
   "outputs": [],
   "source": [
    "ga, ga_names = get_array_and_names('GaAs')\n",
    "mo, mo_names = get_array_and_names('Mo')\n",
    "nw, nw_names = get_array_and_names('NW')\n",
    "cu, cu_names = get_array_and_names('Cu') # mostly C\n",
    "si, si_names = get_array_and_names('Si')\n",
    "fe, fe_names = get_array_and_names('Fe') # it is Al not Fe"
   ]
  },
  {
   "cell_type": "code",
   "execution_count": 5,
   "metadata": {},
   "outputs": [],
   "source": [
    "def calibrate_spectrum(spectrum, peaks_keV, initial_dispersion=0.01, initial_offset=20, deg=12, plot_fit=False):\n",
    "    \"\"\"\n",
    "    Calibrate a spectrum using two peak positions.\n",
    "    Finding the peaks automatically.\n",
    "    Making a fit model with n gaussians and <deg> order background.\n",
    "    Finding the closest peaks to the given peaks_keV.\n",
    "    Then returning the dispersion and offset.\n",
    "    \"\"\"\n",
    "    channels = np.arange(len(spectrum))\n",
    "    # find peaks\n",
    "    peaks_channel_est, _ = find_peaks(spectrum, prominence=0.01)\n",
    "    peaks_keV_est = channel_to_kev(peaks_channel_est, dispersion=initial_dispersion, offset=initial_offset)\n",
    "\n",
    "    # find the peaks that are closest to the peaks_keV\n",
    "    peaks_to_fit_index = []\n",
    "    for peak in peaks_keV:\n",
    "        peaks_to_fit_index.append(np.argmin(np.abs(peaks_keV_est - peak)))\n",
    "\n",
    "    # fit with make_fit\n",
    "    # make_fit(array, x, deg=12, prominence=0.01, pixel_removal=50, offset=20) >>> fit_vals, covar\n",
    "    fit_vals, _ = make_fit(spectrum, channels, deg=deg)\n",
    "\n",
    "\n",
    "    fit_peaks = fit_vals[deg + 2::3]\n",
    "    dispersion, offset = calibrate_channel_width_two_peaks(fit_peaks[peaks_to_fit_index], peaks_keV)\n",
    "    fit_peaks_keV = channel_to_kev(fit_peaks, dispersion=dispersion, offset=offset)\n",
    "    keV = channel_to_kev(channels, dispersion=dispersion, offset=offset)\n",
    "    if plot_fit:\n",
    "        fit = n_gaussians_and_m_order_bg(channels, deg, *fit_vals)\n",
    "        fig = go.Figure()\n",
    "        fig.add_trace(go.Scatter(x=keV, y=spectrum, name='spectrum', mode='markers'))\n",
    "        fig.add_trace(go.Scatter(x=keV, y=fit, name='fit'))\n",
    "        fig.add_vline(x=fit_peaks_keV[peaks_to_fit_index[0]], line_width=2, line_dash=\"dash\")\n",
    "        fig.add_vline(x=fit_peaks_keV[peaks_to_fit_index[1]], line_width=2, line_dash=\"dash\")\n",
    "        fig.update_layout(title='Calibration of the spectrum', xaxis_title='Energy [keV]', yaxis_title='Relative intensity')\n",
    "        fig.show()\n",
    "    \n",
    "    return dispersion, offset\n",
    "\n",
    "def find_nearest(array, value, max_deviation=0.05):\n",
    "    \"\"\"\n",
    "    Finds the index of the value in array that is closest to value.\n",
    "    If the deviation is larger than max_deviation in percent, returns None.\n",
    "\n",
    "    Parameters\n",
    "    ----------\n",
    "    array : array of floats\n",
    "        peak array\n",
    "    value : float\n",
    "        float to find the closest value to\n",
    "    max_deviation : float, optional\n",
    "        max deviation in percent, by default 0.05\n",
    "\n",
    "    Returns\n",
    "    -------\n",
    "    index : int or None\n",
    "        Index of the closest value in array to value. None if the deviation is larger than max_deviation.\n",
    "    \"\"\"\n",
    "    array = np.asarray(array)\n",
    "    idx = (np.abs(array - value)).argmin()\n",
    "    # check if the deviation is larger than max_deviation in percent\n",
    "    if np.abs(array[idx] - value) / value > max_deviation:\n",
    "        print(f'Warning: {array[idx]} is not within {max_deviation * 100}% of {value}')\n",
    "        return idx\n",
    "    return idx\n",
    "\n",
    "def peak_deviation(peaks_energy, peaks_fit):\n",
    "    \"\"\"\n",
    "    Finds the corresponding peaks in peaks_fit to peaks_energy,\n",
    "    and returns the deviation in percent.\n",
    "    \"\"\"\n",
    "    peaks_energy = np.array(peaks_energy)\n",
    "    peaks_fit_selected = []\n",
    "    for p in peaks_energy:\n",
    "        index = find_nearest(peaks_fit, p)\n",
    "        if index is not None:\n",
    "            peaks_fit_selected.append(peaks_fit[index])\n",
    "\n",
    "    peaks_fit_selected = np.array(peaks_fit_selected)\n",
    "    # deviation = np.abs(peaks_fit_selected - peaks_energy) / peaks_energy * 100\n",
    "    deviation = (peaks_fit_selected - peaks_energy) / peaks_energy * 100\n",
    "\n",
    "    return deviation, peaks_fit_selected\n"
   ]
  },
  {
   "cell_type": "code",
   "execution_count": 6,
   "metadata": {},
   "outputs": [
    {
     "name": "stdout",
     "output_type": "stream",
     "text": [
      "Calibrating on GaAs_30kV, with peaks [1.098, 10.5436]\n",
      "The calibration factor is: 0.0100300 keV/channel, with 21.127 channels zero offset\n"
     ]
    }
   ],
   "source": [
    "peaks_calibration = [1.098, 10.5436]\n",
    "print(f'Calibrating on {ga_names[-1]}, with peaks {peaks_calibration}')\n",
    "dispersion, offset = calibrate_spectrum(ga[-1], peaks_calibration, plot_fit=False)\n"
   ]
  },
  {
   "cell_type": "code",
   "execution_count": 7,
   "metadata": {},
   "outputs": [],
   "source": [
    "# figure out how good the calibration is on other peaks\n",
    "def calibration_check_on_peaks(spectrum, elements, lines, vacc, dispersion, offset):\n",
    "    \"\"\"\n",
    "    Checks the calibration on a spectrum.\n",
    "    Quantifies this by the deviation of the peak positions from the expected positions.\n",
    "\n",
    "    Parameters\n",
    "    ----------\n",
    "    spectrum : array of floats\n",
    "        intensity values\n",
    "    elements : array of strings\n",
    "        elements to check\n",
    "    lines : array of strings\n",
    "        lines to check\n",
    "    vacc : int\n",
    "        acceleration voltage\n",
    "    dispersion : float\n",
    "        dispersion of the calibration\n",
    "    offset : float\n",
    "        offset of the calibration in channels\n",
    "    \n",
    "    Returns\n",
    "    -------\n",
    "    deviation : array of floats\n",
    "        deviation of the peak positions from the expected positions\n",
    "    peaks_fit : array of floats\n",
    "        peak positions of the fit, only the selected peaks\n",
    "    peaks_energy : array of floats\n",
    "        expected peak positions, from HyperSpy\n",
    "    peaks_names : array of strings\n",
    "        names of the peaks\n",
    "    \"\"\"    \n",
    "    peaks_energy = []\n",
    "    peaks_names = []\n",
    "    for e in elements:\n",
    "        for l in lines:\n",
    "            try:\n",
    "                energy = float(hs.material.elements[e].Atomic_properties['Xray_lines'][l]['energy (keV)'])\n",
    "                if energy < vacc:\n",
    "                    peaks_energy.append(energy)\n",
    "                    peaks_names.append(f'{e} {l}')\n",
    "                else:\n",
    "                    print(f'{e} {l} at {energy} is above E_0 = {vacc} kV')\n",
    "                if energy > vacc / 2:\n",
    "                    print(f'Warning: {e:<2} {l:<2} at {energy:<8} have overvoltage below 2')\n",
    "            except KeyError:\n",
    "                pass\n",
    "    print(f'Checking peaks: {peaks_names} at {peaks_energy}, with Vacc = {vacc} kV')\n",
    "\n",
    "    channels = np.arange(len(spectrum))\n",
    "    # keV = channel_to_kev(channels, dispersion=dispersion, offset=offset)\n",
    "    fit_vals, _ = make_fit(spectrum, channels, deg=12)\n",
    "    fit_peaks = fit_vals[12 + 2::3]\n",
    "    fit_peaks_kev = channel_to_kev(fit_peaks, dispersion=dispersion, offset=offset)\n",
    "\n",
    "    dev, peaks_fit_selected = peak_deviation(peaks_energy, fit_peaks_kev)\n",
    "    print(dev)\n",
    "    for i in range(len(dev)):\n",
    "        print(f'{peaks_names[i]:<6} {peaks_fit_selected[i]:<8.4f} deviates {dev[i]:.3f}% from {peaks_energy[i]}')\n",
    "\n",
    "    return dev, peaks_fit_selected, peaks_energy, peaks_names\n"
   ]
  },
  {
   "cell_type": "code",
   "execution_count": 8,
   "metadata": {},
   "outputs": [
    {
     "name": "stdout",
     "output_type": "stream",
     "text": [
      "Checking peaks: ['As Ka', 'As La', 'Ga Ka', 'Ga La'] at [10.5436, 1.2819, 9.2517, 1.098], with Vacc = 30 kV\n",
      "[0.         0.3684714  0.02364178 0.        ]\n",
      "As Ka  10.5436  deviates 0.000% from 10.5436\n",
      "As La  1.2866   deviates 0.368% from 1.2819\n",
      "Ga Ka  9.2539   deviates 0.024% from 9.2517\n",
      "Ga La  1.0980   deviates 0.000% from 1.098\n",
      "Warning: As Ka at 10.5436  have overvoltage below 2\n",
      "Warning: Ga Ka at 9.2517   have overvoltage below 2\n",
      "Checking peaks: ['As Ka', 'As La', 'Ga Ka', 'Ga La'] at [10.5436, 1.2819, 9.2517, 1.098], with Vacc = 15 kV\n",
      "[-0.06100983  0.37623324  0.02257412  0.12921206]\n",
      "As Ka  10.5372  deviates -0.061% from 10.5436\n",
      "As La  1.2867   deviates 0.376% from 1.2819\n",
      "Ga Ka  9.2538   deviates 0.023% from 9.2517\n",
      "Ga La  1.0994   deviates 0.129% from 1.098\n",
      "Checking peaks: ['As La', 'Ga La'] at [1.2819, 1.098], with Vacc = 10 kV\n",
      "[0.39715446 0.195558  ]\n",
      "As La  1.2870   deviates 0.397% from 1.2819\n",
      "Ga La  1.1001   deviates 0.196% from 1.098\n",
      "Checking peaks: ['As La', 'Ga La'] at [1.2819, 1.098], with Vacc = 5 kV\n",
      "[0.41680165 0.26947321]\n",
      "As La  1.2872   deviates 0.417% from 1.2819\n",
      "Ga La  1.1010   deviates 0.269% from 1.098\n"
     ]
    }
   ],
   "source": [
    "ga30 = calibration_check_on_peaks(ga[-1], ['As', 'Ga'], ['Ka', 'La'], 30, dispersion, offset)\n",
    "ga15 = calibration_check_on_peaks(ga[-2], ['As', 'Ga'], ['Ka', 'La'], 15, dispersion, offset)\n",
    "ga10 = calibration_check_on_peaks(ga[-3], ['As', 'Ga'], ['La'], 10, dispersion, offset)\n",
    "ga05 = calibration_check_on_peaks(ga[0], ['As', 'Ga'], ['La'], 5, dispersion, offset)\n"
   ]
  },
  {
   "cell_type": "code",
   "execution_count": 9,
   "metadata": {},
   "outputs": [
    {
     "data": {
      "text/html": [
       "<ul style=\"margin: 0px; list-style-position: outside;\">\n",
       "                    <details open>\n",
       "                    <summary style=\"display: list-item;\">\n",
       "                    <li style=\"display: inline;\">\n",
       "                    Ka\n",
       "                    </li></summary>\n",
       "                    \n",
       "    <ul style=\"margin: 0px; list-style-position: outside;\">\n",
       "    <li style='margin-left:1em; padding-left: 0.5em'>energy (keV) = 6.4039</li></ul>\n",
       "    \n",
       "    <ul style=\"margin: 0px; list-style-position: outside;\">\n",
       "    <li style='margin-left:1em; padding-left: 0.5em'>weight = 1.0</li></ul>\n",
       "    </details></ul><ul style=\"margin: 0px; list-style-position: outside;\">\n",
       "                    <details open>\n",
       "                    <summary style=\"display: list-item;\">\n",
       "                    <li style=\"display: inline;\">\n",
       "                    Kb\n",
       "                    </li></summary>\n",
       "                    \n",
       "    <ul style=\"margin: 0px; list-style-position: outside;\">\n",
       "    <li style='margin-left:1em; padding-left: 0.5em'>energy (keV) = 7.058</li></ul>\n",
       "    \n",
       "    <ul style=\"margin: 0px; list-style-position: outside;\">\n",
       "    <li style='margin-left:1em; padding-left: 0.5em'>weight = 0.1272</li></ul>\n",
       "    </details></ul><ul style=\"margin: 0px; list-style-position: outside;\">\n",
       "                    <details open>\n",
       "                    <summary style=\"display: list-item;\">\n",
       "                    <li style=\"display: inline;\">\n",
       "                    La\n",
       "                    </li></summary>\n",
       "                    \n",
       "    <ul style=\"margin: 0px; list-style-position: outside;\">\n",
       "    <li style='margin-left:1em; padding-left: 0.5em'>energy (keV) = 0.7045</li></ul>\n",
       "    \n",
       "    <ul style=\"margin: 0px; list-style-position: outside;\">\n",
       "    <li style='margin-left:1em; padding-left: 0.5em'>weight = 1.0</li></ul>\n",
       "    </details></ul><ul style=\"margin: 0px; list-style-position: outside;\">\n",
       "                    <details open>\n",
       "                    <summary style=\"display: list-item;\">\n",
       "                    <li style=\"display: inline;\">\n",
       "                    Lb3\n",
       "                    </li></summary>\n",
       "                    \n",
       "    <ul style=\"margin: 0px; list-style-position: outside;\">\n",
       "    <li style='margin-left:1em; padding-left: 0.5em'>energy (keV) = 0.7921</li></ul>\n",
       "    \n",
       "    <ul style=\"margin: 0px; list-style-position: outside;\">\n",
       "    <li style='margin-left:1em; padding-left: 0.5em'>weight = 0.02448</li></ul>\n",
       "    </details></ul><ul style=\"margin: 0px; list-style-position: outside;\">\n",
       "                    <details open>\n",
       "                    <summary style=\"display: list-item;\">\n",
       "                    <li style=\"display: inline;\">\n",
       "                    Ll\n",
       "                    </li></summary>\n",
       "                    \n",
       "    <ul style=\"margin: 0px; list-style-position: outside;\">\n",
       "    <li style='margin-left:1em; padding-left: 0.5em'>energy (keV) = 0.6152</li></ul>\n",
       "    \n",
       "    <ul style=\"margin: 0px; list-style-position: outside;\">\n",
       "    <li style='margin-left:1em; padding-left: 0.5em'>weight = 0.3086</li></ul>\n",
       "    </details></ul><ul style=\"margin: 0px; list-style-position: outside;\">\n",
       "                    <details open>\n",
       "                    <summary style=\"display: list-item;\">\n",
       "                    <li style=\"display: inline;\">\n",
       "                    Ln\n",
       "                    </li></summary>\n",
       "                    \n",
       "    <ul style=\"margin: 0px; list-style-position: outside;\">\n",
       "    <li style='margin-left:1em; padding-left: 0.5em'>energy (keV) = 0.6282</li></ul>\n",
       "    \n",
       "    <ul style=\"margin: 0px; list-style-position: outside;\">\n",
       "    <li style='margin-left:1em; padding-left: 0.5em'>weight = 0.12525</li></ul>\n",
       "    </details></ul>"
      ],
      "text/plain": [
       "├── Ka\n",
       "│   ├── energy (keV) = 6.4039\n",
       "│   └── weight = 1.0\n",
       "├── Kb\n",
       "│   ├── energy (keV) = 7.058\n",
       "│   └── weight = 0.1272\n",
       "├── La\n",
       "│   ├── energy (keV) = 0.7045\n",
       "│   └── weight = 1.0\n",
       "├── Lb3\n",
       "│   ├── energy (keV) = 0.7921\n",
       "│   └── weight = 0.02448\n",
       "├── Ll\n",
       "│   ├── energy (keV) = 0.6152\n",
       "│   └── weight = 0.3086\n",
       "└── Ln\n",
       "    ├── energy (keV) = 0.6282\n",
       "    └── weight = 0.12525"
      ]
     },
     "execution_count": 9,
     "metadata": {},
     "output_type": "execute_result"
    }
   ],
   "source": [
    "# see lines\n",
    "hs.material.elements['Fe'].Atomic_properties['Xray_lines']"
   ]
  },
  {
   "cell_type": "code",
   "execution_count": 10,
   "metadata": {},
   "outputs": [
    {
     "name": "stdout",
     "output_type": "stream",
     "text": [
      "Checking peaks: ['As La', 'As Ka', 'Ga La', 'Ga Ka', 'Cu La', 'Cu Ka'] at [1.2819, 10.5436, 1.098, 9.2517, 0.9295, 8.0478], with Vacc = 30 kV\n",
      "[ 0.42177766 -0.00999266  0.31793251  0.02423443  0.85669511  0.04549944]\n",
      "As La  1.2873   deviates 0.422% from 1.2819\n",
      "As Ka  10.5425  deviates -0.010% from 10.5436\n",
      "Ga La  1.1015   deviates 0.318% from 1.098\n",
      "Ga Ka  9.2539   deviates 0.024% from 9.2517\n",
      "Cu La  0.9375   deviates 0.857% from 0.9295\n",
      "Cu Ka  8.0515   deviates 0.045% from 8.0478\n"
     ]
    }
   ],
   "source": [
    "nw30 = calibration_check_on_peaks(nw[-1], ['As', 'Ga', 'Cu', ], ['La', 'Ka',], 30, dispersion, offset)"
   ]
  },
  {
   "cell_type": "code",
   "execution_count": 11,
   "metadata": {},
   "outputs": [
    {
     "name": "stdout",
     "output_type": "stream",
     "text": [
      "Checking peaks: ['As La', 'As Ka', 'Ga La', 'Ga Ka', 'Cu La', 'Cu Ka'] at [1.2819, 10.5436, 1.098, 9.2517, 0.9295, 8.0478], with Vacc = 30 kV\n",
      "[ 1.0002528  -0.20229805  1.04392777 -0.15325131  1.76709794 -0.11383186]\n",
      "As La  1.2947   deviates 1.000% from 1.2819\n",
      "As Ka  10.5223  deviates -0.202% from 10.5436\n",
      "Ga La  1.1095   deviates 1.044% from 1.098\n",
      "Ga Ka  9.2375   deviates -0.153% from 9.2517\n",
      "Cu La  0.9459   deviates 1.767% from 0.9295\n",
      "Cu Ka  8.0386   deviates -0.114% from 8.0478\n"
     ]
    }
   ],
   "source": [
    "dispersion_AZ = 0.01\n",
    "offset_AZ = 20\n",
    "nw30_AZ = calibration_check_on_peaks(nw[-1], ['As', 'Ga', 'Cu', ], ['La', 'Ka',], 30, dispersion_AZ, offset_AZ)"
   ]
  },
  {
   "cell_type": "code",
   "execution_count": 12,
   "metadata": {},
   "outputs": [
    {
     "data": {
      "text/plain": [
       "21.078679696848823"
      ]
     },
     "execution_count": 12,
     "metadata": {},
     "output_type": "execute_result"
    }
   ],
   "source": [
    "0.211377  / 0.010028"
   ]
  },
  {
   "cell_type": "code",
   "execution_count": 13,
   "metadata": {},
   "outputs": [
    {
     "name": "stdout",
     "output_type": "stream",
     "text": [
      "Checking peaks: ['As La', 'As Ka', 'Ga La', 'Ga Ka', 'Cu La', 'Cu Ka'] at [1.2819, 10.5436, 1.098, 9.2517, 0.9295, 8.0478], with Vacc = 30 kV\n",
      "[ 0.43922793 -0.02545753  0.34169594  0.00940054  0.88830187  0.03144001]\n",
      "As La  1.2875   deviates 0.439% from 1.2819\n",
      "As Ka  10.5409  deviates -0.025% from 10.5436\n",
      "Ga La  1.1018   deviates 0.342% from 1.098\n",
      "Ga Ka  9.2526   deviates 0.009% from 9.2517\n",
      "Cu La  0.9378   deviates 0.888% from 0.9295\n",
      "Cu Ka  8.0503   deviates 0.031% from 8.0478\n"
     ]
    }
   ],
   "source": [
    "# # # if I use calibration from model fit in HyperSpy, Ga Ka_Calibrated center_ is 9.2525 and not 9.2528\n",
    "# HyperSpy modelfit of 30 kV: dispersion = 0.010028, offset = 0.211377  / 0.010028\n",
    "\n",
    "dispersion_HS = 0.010028\n",
    "offset_HS =  0.211377  / 0.010028\n",
    "nw30_HS = calibration_check_on_peaks(nw[-1], ['As', 'Ga', 'Cu', ], ['La', 'Ka',], 30, dispersion_HS, offset_HS)"
   ]
  },
  {
   "cell_type": "code",
   "execution_count": 14,
   "metadata": {},
   "outputs": [
    {
     "name": "stdout",
     "output_type": "stream",
     "text": [
      "Warning: Mo Ka at 17.4793  have overvoltage below 2\n",
      "Checking peaks: ['Mo Ka', 'Mo La'] at [17.4793, 2.2932], with Vacc = 30 kV\n",
      "[-0.09047494  0.85778642]\n",
      "Mo Ka  17.4635  deviates -0.090% from 17.4793\n",
      "Mo La  2.3129   deviates 0.858% from 2.2932\n",
      "Warning: Mo Ka at 17.4793  have overvoltage below 2\n",
      "Checking peaks: ['Mo Ka', 'Mo La'] at [17.4793, 2.2932], with Vacc = 30 kV\n",
      "[-0.32494166  1.04734763]\n",
      "Mo Ka  17.4225  deviates -0.325% from 17.4793\n",
      "Mo La  2.3172   deviates 1.047% from 2.2932\n",
      "Warning: Mo Ka at 17.4793  have overvoltage below 2\n",
      "Checking peaks: ['Mo Ka', 'Mo La'] at [17.4793, 2.2932], with Vacc = 30 kV\n",
      "[-0.10773613  0.85858127]\n",
      "Mo Ka  17.4605  deviates -0.108% from 17.4793\n",
      "Mo La  2.3129   deviates 0.859% from 2.2932\n"
     ]
    }
   ],
   "source": [
    "mo30 = calibration_check_on_peaks(mo[-1], ['Mo'], ['Ka','La'], 30, dispersion, offset)\n",
    "mo30_AZ = calibration_check_on_peaks(mo[-1], ['Mo'], ['Ka','La'], 30, dispersion_AZ, offset_AZ)\n",
    "mo30_HS = calibration_check_on_peaks(mo[-1], ['Mo'], ['Ka','La'], 30, dispersion_HS, offset_HS)"
   ]
  },
  {
   "cell_type": "code",
   "execution_count": 15,
   "metadata": {},
   "outputs": [
    {
     "name": "stdout",
     "output_type": "stream",
     "text": [
      "Checking peaks: ['Si Ka'] at [1.7397], with Vacc = 30 kV\n",
      "[-0.18246153]\n",
      "Si Ka  1.7365   deviates -0.182% from 1.7397\n",
      "Checking peaks: ['Si Ka'] at [1.7397], with Vacc = 30 kV\n",
      "[0.16653105]\n",
      "Si Ka  1.7426   deviates 0.167% from 1.7397\n",
      "Checking peaks: ['Si Ka'] at [1.7397], with Vacc = 30 kV\n",
      "[-0.17477654]\n",
      "Si Ka  1.7367   deviates -0.175% from 1.7397\n"
     ]
    }
   ],
   "source": [
    "si30 = calibration_check_on_peaks(si[-1], ['Si'], ['Ka'], 30, dispersion, offset)\n",
    "si30_AZ = calibration_check_on_peaks(si[-1], ['Si'], ['Ka'], 30, dispersion_AZ, offset_AZ)\n",
    "si30_HS = calibration_check_on_peaks(si[-1], ['Si'], ['Ka'], 30, dispersion_HS, offset_HS)"
   ]
  },
  {
   "cell_type": "code",
   "execution_count": 16,
   "metadata": {},
   "outputs": [
    {
     "name": "stdout",
     "output_type": "stream",
     "text": [
      "Checking peaks: ['Al Ka'] at [1.4865], with Vacc = 30 kV\n",
      "[-0.25941194]\n",
      "Al Ka  1.4826   deviates -0.259% from 1.4865\n",
      "Checking peaks: ['Al Ka'] at [1.4865], with Vacc = 30 kV\n",
      "[0.20012592]\n",
      "Al Ka  1.4895   deviates 0.200% from 1.4865\n",
      "Checking peaks: ['Al Ka'] at [1.4865], with Vacc = 30 kV\n",
      "[-0.2469962]\n",
      "Al Ka  1.4828   deviates -0.247% from 1.4865\n"
     ]
    }
   ],
   "source": [
    "# on Fe, which is really Al\n",
    "al30 = calibration_check_on_peaks(fe[0], ['Al'], ['Ka'], 30, dispersion, offset)\n",
    "al30_AZ = calibration_check_on_peaks(fe[0], ['Al'], ['Ka'], 30, dispersion_AZ, offset_AZ)\n",
    "al30_HS = calibration_check_on_peaks(fe[0], ['Al'], ['Ka'], 30, dispersion_HS, offset_HS)"
   ]
  },
  {
   "cell_type": "code",
   "execution_count": 17,
   "metadata": {},
   "outputs": [
    {
     "name": "stdout",
     "output_type": "stream",
     "text": [
      "Checking peaks: ['Cu Ka', 'C Ka'] at [8.0478, 0.2774], with Vacc = 30 kV\n",
      "Warning: 0.258709671102402 is not within 5.0% of 0.2774\n",
      "[ 0.04347143 -6.73768165]\n",
      "Cu Ka  8.0513   deviates 0.043% from 8.0478\n",
      "C Ka   0.2587   deviates -6.738% from 0.2774\n",
      "Checking peaks: ['Cu Ka', 'C Ka'] at [8.0478, 0.2774], with Vacc = 30 kV\n",
      "[-0.11585381 -2.95505631]\n",
      "Cu Ka  8.0385   deviates -0.116% from 8.0478\n",
      "C Ka   0.2692   deviates -2.955% from 0.2774\n",
      "Checking peaks: ['Cu Ka', 'C Ka'] at [8.0478, 0.2774], with Vacc = 30 kV\n",
      "Warning: 0.2591394412731087 is not within 5.0% of 0.2774\n",
      "[ 0.0294124  -6.58275369]\n",
      "Cu Ka  8.0502   deviates 0.029% from 8.0478\n",
      "C Ka   0.2591   deviates -6.583% from 0.2774\n"
     ]
    }
   ],
   "source": [
    "# on Cu, which is mostly C\n",
    "c30 = calibration_check_on_peaks(cu[-1], ['Cu', 'C'], ['Ka'], 30, dispersion, offset)\n",
    "c30_AZ = calibration_check_on_peaks(cu[-1], ['Cu', 'C'], ['Ka'], 30, dispersion_AZ, offset_AZ)\n",
    "c30_HS = calibration_check_on_peaks(cu[-1], ['Cu', 'C'], ['Ka'], 30, dispersion_HS, offset_HS)"
   ]
  },
  {
   "cell_type": "code",
   "execution_count": 22,
   "metadata": {},
   "outputs": [
    {
     "name": "stdout",
     "output_type": "stream",
     "text": [
      "Peak                 & Theoretical [keV]    & AZ dev. [%]     & HS dev. [%]     & My dev. [%]     \\\\\n",
      "As L$\\alpha$         & 1.2819               & 1.000           & 0.439           & 0.422           \\\\\n",
      "As K$\\alpha$         & 10.5436              & -0.202          & -0.025          & -0.010          \\\\\n",
      "Ga L$\\alpha$         & 1.098                & 1.044           & 0.342           & 0.318           \\\\\n",
      "Ga K$\\alpha$         & 9.2517               & -0.153          & 0.009           & 0.024           \\\\\n",
      "Cu L$\\alpha$         & 0.9295               & 1.767           & 0.888           & 0.857           \\\\\n",
      "Cu K$\\alpha$         & 8.0478               & -0.114          & 0.031           & 0.045           \\\\\n",
      "Mo K$\\alpha$         & 17.4793              & -0.325          & -0.108          & -0.090          \\\\\n",
      "Mo L$\\alpha$         & 2.2932               & 1.047           & 0.859           & 0.858           \\\\\n",
      "Si K$\\alpha$         & 1.7397               & 0.167           & -0.175          & -0.182          \\\\\n",
      "Al K$\\alpha$         & 1.4865               & 0.200           & -0.247          & -0.259          \\\\\n",
      "Cu K$\\alpha$         & 8.0478               & -0.116          & 0.029           & 0.043           \\\\\n",
      "C K$\\alpha$          & 0.2774               & -2.955          & -6.583          & -6.738          \\\\\n"
     ]
    }
   ],
   "source": [
    "hspy = nw30_HS\n",
    "az = nw30_AZ\n",
    "my = nw30\n",
    "\n",
    "hspy2 = mo30_HS\n",
    "az2 = mo30_AZ\n",
    "my2 = mo30\n",
    "\n",
    "hspy3 = si30_HS\n",
    "az3 = si30_AZ\n",
    "my3 = si30\n",
    "\n",
    "hspy4 = al30_HS\n",
    "az4 = al30_AZ\n",
    "my4 = al30\n",
    "\n",
    "hspy5 = c30_HS\n",
    "az5 = c30_AZ\n",
    "my5 = c30\n",
    "\n",
    "hyper = [hspy, hspy2, hspy3, hspy4, hspy5]\n",
    "aztec = [az, az2, az3, az4, az5]\n",
    "mycalib = [my, my2, my3, my4, my5]\n",
    "\n",
    "alpha = '$\\\\alpha$'\n",
    "\n",
    "print(f'{\"Peak\":<20} & {\"Theoretical [keV]\":<20} & {\"AZ dev. [%]\":<15} & {\"HS dev. [%]\":<15} & {\"My dev. [%]\":<15} \\\\\\\\')\n",
    "\n",
    "for i in range(len(hyper)):\n",
    "    for j in range(len(hyper[i][0])):\n",
    "        print(f'{hyper[i][3][j][:-1]+alpha:<20} & {hyper[i][2][j]:<20} & {aztec[i][0][j]:<15.3f} & {hyper[i][0][j]:<15.3f} & {mycalib[i][0][j]:<15.3f} \\\\\\\\')\n"
   ]
  },
  {
   "cell_type": "code",
   "execution_count": null,
   "metadata": {},
   "outputs": [],
   "source": []
  }
 ],
 "metadata": {
  "kernelspec": {
   "display_name": "Python 3.8.13 ('hspy')",
   "language": "python",
   "name": "python3"
  },
  "language_info": {
   "codemirror_mode": {
    "name": "ipython",
    "version": 3
   },
   "file_extension": ".py",
   "mimetype": "text/x-python",
   "name": "python",
   "nbconvert_exporter": "python",
   "pygments_lexer": "ipython3",
   "version": "3.8.13"
  },
  "orig_nbformat": 4,
  "vscode": {
   "interpreter": {
    "hash": "eedee208f6f0fe67ac5ec53646d8853bbb152098f521b748accd5958a126e1a5"
   }
  }
 },
 "nbformat": 4,
 "nbformat_minor": 2
}
