{
 "cells": [
  {
   "cell_type": "markdown",
   "metadata": {},
   "source": [
    "# notebook to find peaks using the HyperSpy library\n"
   ]
  },
  {
   "cell_type": "code",
   "execution_count": 1,
   "metadata": {},
   "outputs": [],
   "source": [
    "import hyperspy.api as hs"
   ]
  },
  {
   "cell_type": "code",
   "execution_count": 8,
   "metadata": {},
   "outputs": [
    {
     "name": "stdout",
     "output_type": "stream",
     "text": [
      "\u001b[1;31mType:\u001b[0m           DictionaryTreeBrowser\n",
      "\u001b[1;31mString form:\u001b[0m   \n",
      "├── Binding_energies\n",
      "           │   ├── K\n",
      "           │   │   ├── edge =\n",
      "           │   │   ├── onset_energy (eV) = 7113.0\n",
      "           │   │   <...>    └── weight = 0.3086\n",
      "           └── Ln\n",
      "           ├── energy (keV) = 0.6282\n",
      "           └── weight = 0.12525\n",
      "           \n",
      "\u001b[1;31mLength:\u001b[0m         2\n",
      "\u001b[1;31mFile:\u001b[0m           c:\\users\\brynjar\\miniconda3\\envs\\hspy\\lib\\site-packages\\hyperspy\\misc\\utils.py\n",
      "\u001b[1;31mDocstring:\u001b[0m     \n",
      "A class to comfortably browse a dictionary using a CLI.\n",
      "\n",
      "In addition to accessing the values using dictionary syntax\n",
      "the class enables navigating  a dictionary that constains\n",
      "nested dictionaries as attribures of nested classes.\n",
      "Also it is an iterator over the (key, value) items. The\n",
      "`__repr__` method provides pretty tree printing. Private\n",
      "keys, i.e. keys that starts with an underscore, are not\n",
      "printed, counted when calling len nor iterated.\n",
      "\n",
      "Methods\n",
      "-------\n",
      "export : saves the dictionary in pretty tree printing format in a text\n",
      "    file.\n",
      "keys : returns a list of non-private keys.\n",
      "as_dictionary : returns a dictionary representation of the object.\n",
      "set_item : easily set items, creating any necessary nodes on the way.\n",
      "has_item: given a path, or part of a path, checks if the item exists.\n",
      "get_item  given a path, or part of a path, return the value of the item.\n",
      "add_node : add all non existing nodes in a given path.\n",
      "add_dictionary: add new items from dictionary.\n",
      "\n",
      "Examples\n",
      "--------\n",
      ">>> tree = DictionaryTreeBrowser()\n",
      ">>> tree.set_item(\"Branch.Leaf1.color\", \"green\")\n",
      ">>> tree.set_item(\"Branch.Leaf2.color\", \"brown\")\n",
      ">>> tree.set_item(\"Branch.Leaf2.caterpillar\", True)\n",
      ">>> tree.set_item(\"Branch.Leaf1.caterpillar\", False)\n",
      ">>> tree\n",
      "└── Branch\n",
      "    ├── Leaf1\n",
      "    │   ├── caterpillar = False\n",
      "    │   └── color = green\n",
      "    └── Leaf2\n",
      "        ├── caterpillar = True\n",
      "        └── color = brown\n",
      ">>> tree.Branch\n",
      "├── Leaf1\n",
      "│   ├── caterpillar = False\n",
      "│   └── color = green\n",
      "└── Leaf2\n",
      "    ├── caterpillar = True\n",
      "    └── color = brown\n",
      ">>> for label, leaf in tree.Branch:\n",
      "...     print(\"%s is %s\" % (label, leaf.color))\n",
      "Leaf1 is green\n",
      "Leaf2 is brown\n",
      ">>> tree.Branch.Leaf2.caterpillar\n",
      "True\n",
      ">>> \"Leaf1\" in tree.Branch\n",
      "True\n",
      ">>> \"Leaf3\" in tree.Branch\n",
      "False\n",
      ">>>\n",
      "\u001b[1;31mInit docstring:\u001b[0m\n",
      "When creating a DictionaryTreeBrowser lazily, the dictionary is\n",
      "added to the `_lazy_attributes` attribute. The first time a lazy\n",
      "attribute is called or the DictionaryTreeBrowser is printed, the\n",
      "DictionaryTreeBrowser processes the lazy attributes with the\n",
      "`process_lazy_attributes` method.\n",
      "DictionaryTreeBrowser is lazy by default, using non-lazy instances\n",
      "can be useful for debugging purposes.\n"
     ]
    }
   ],
   "source": [
    "hs.material.elements.Fe.Atomic_properties\n",
    "# hs.eds.get_xray_lines_near_energy(0.96)"
   ]
  },
  {
   "cell_type": "code",
   "execution_count": 3,
   "metadata": {},
   "outputs": [],
   "source": [
    "def line(element, all=False):\n",
    "    print(element)\n",
    "    d =  hs.material.elements[element].Atomic_properties.Xray_lines.as_dictionary()\n",
    "    lines = []\n",
    "    for key in d.keys():\n",
    "        if all:\n",
    "            lines.append([d[key]['energy (keV)'], key])\n",
    "        if key == 'La' or key == 'Lb' or key == 'Ka' or key == 'Kb':\n",
    "            lines.append([d[key]['energy (keV)'], key])\n",
    "    lines.sort(key=lambda x: x[0])\n",
    "    for line in lines:\n",
    "        print(f'{line[1]:5} {line[0]:.4f}')\n",
    "    \n",
    "        \n",
    "def energy(element):\n",
    "    return hs.eds.get_xray_lines_near_energy(element)"
   ]
  },
  {
   "cell_type": "code",
   "execution_count": 4,
   "metadata": {},
   "outputs": [
    {
     "name": "stdout",
     "output_type": "stream",
     "text": [
      "Ga\n",
      "Ll    0.9573\n",
      "Ln    0.9842\n",
      "La    1.0980\n",
      "La    1.0980\n",
      "Lb1   1.1249\n",
      "Lb3   1.1948\n",
      "Ka    9.2517\n",
      "Ka    9.2517\n",
      "Kb    10.2642\n",
      "Kb    10.2642\n"
     ]
    }
   ],
   "source": [
    "# Ga\n",
    "line('Ga', all=True)"
   ]
  },
  {
   "cell_type": "code",
   "execution_count": null,
   "metadata": {},
   "outputs": [],
   "source": []
  }
 ],
 "metadata": {
  "kernelspec": {
   "display_name": "Python 3.8.13 ('hspy')",
   "language": "python",
   "name": "python3"
  },
  "language_info": {
   "codemirror_mode": {
    "name": "ipython",
    "version": 3
   },
   "file_extension": ".py",
   "mimetype": "text/x-python",
   "name": "python",
   "nbconvert_exporter": "python",
   "pygments_lexer": "ipython3",
   "version": "3.8.13"
  },
  "orig_nbformat": 4,
  "vscode": {
   "interpreter": {
    "hash": "eedee208f6f0fe67ac5ec53646d8853bbb152098f521b748accd5958a126e1a5"
   }
  }
 },
 "nbformat": 4,
 "nbformat_minor": 2
}
