{
 "cells": [
  {
   "cell_type": "code",
   "execution_count": 1,
   "metadata": {},
   "outputs": [],
   "source": [
    "import hyperspy.api as hs\n",
    "import plotly.graph_objects as go\n",
    "import numpy as np\n",
    "\n",
    "from utils.get_raw_data import locate_raw_data, get_multiple_data_arrays\n",
    "from helper_files.plotting import plotly_plot\n",
    "from helper_files.gaussian_fitting import gaussian, n_gaussians, fit_n_peaks_to_gaussian, area_under_peak\n",
    "from helper_files.calibration import calibrate_channel_width_two_peaks, channel_to_keV\n",
    "from helper_files.spectrum_dict import init_known_spectrum\n",
    "from helper_files.peak_ratios import  n_gaussians_and_m_order_bg, make_fit\n",
    "\n",
    "\n",
    "emsa = locate_raw_data()"
   ]
  },
  {
   "cell_type": "code",
   "execution_count": 2,
   "metadata": {},
   "outputs": [
    {
     "name": "stdout",
     "output_type": "stream",
     "text": [
      "Reading C:\\Users\\Brynjar\\Documents\\Masteroppgave\\2022-09-06_EDS-Apreo\\exports\\GaAs_30kV.emsa\n",
      "The first line looks like this: '#FORMAT      : EMSA/MAS Spectral Data File\\n'\n",
      "Reading from line 42 to 2091.\n",
      "2048 data points, first entry = [-0.2, 0.0], last entry = [20.27, 52.0]\n",
      "\n"
     ]
    }
   ],
   "source": [
    "s = init_known_spectrum(\n",
    "    name=\"GaAs at 30kV\",\n",
    "    filepath=emsa[7],\n",
    "    start_str=\"#SPECTRUM    : Spectral Data Starts Here\",\n",
    "    stop_str=\"#ENDOFDATA   : \",\n",
    "    line_endings=\"\\n\",\n",
    "    delimiter=\", \",\n",
    "    # calibrate on Ga_La and As_Ka\n",
    "    peaks_keV=[1.098, 10.5436],\n",
    "    peaks_names=['Ga L&#945;</sub>', 'As K&#945;</sub>'],\n",
    "    peaks_channel=[131, 1072, 944, 1044],\n",
    ")"
   ]
  },
  {
   "cell_type": "code",
   "execution_count": 3,
   "metadata": {},
   "outputs": [],
   "source": [
    "ga30 = get_multiple_data_arrays(filters=[\"GaAs_30\"])[0][1]"
   ]
  },
  {
   "cell_type": "code",
   "execution_count": 4,
   "metadata": {},
   "outputs": [],
   "source": [
    "# Ga La, Ga Lb1, As La, As Lb1, Ga Ka, Ga Kb, As Ka, As Kb\n",
    "peaks = [['Ga', 'La'], ['Ga', 'Lb1'], ['As', 'La'], ['As', 'Lb1'], ['Ga', 'Ka'], ['Ga', 'Kb'], ['As', 'Ka'], ['As', 'Kb']]\n",
    "peaks_names = ['Ga L&#945;', 'Ga L&#946;<sub>1</sub>', 'As L&#945;', 'As L&#946;<sub>1</sub>', 'Ga K&#945;', 'Ga K&#946;', 'As K&#945;', 'As K&#946;'],\n",
    "ga_ = hs.material.elements['Ga'].Atomic_properties.Xray_lines.as_dictionary()\n",
    "as_ = hs.material.elements['As'].Atomic_properties.Xray_lines.as_dictionary()"
   ]
  },
  {
   "cell_type": "code",
   "execution_count": 5,
   "metadata": {},
   "outputs": [
    {
     "name": "stdout",
     "output_type": "stream",
     "text": [
      "line     energy   weight\n",
      "Ga  La   1.098    1.0   \n",
      "Ga  Lb1  1.1249   0.16704\n",
      "As  La   1.2819   1.0   \n",
      "As  Lb1  1.3174   0.16704\n",
      "Ga  Ka   9.2517   1.0   \n",
      "Ga  Kb   10.2642  0.1287\n",
      "As  Ka   10.5436  1.0   \n",
      "As  Kb   11.7262  0.14589\n"
     ]
    },
    {
     "data": {
      "text/plain": [
       "[1.098, 1.1249, 1.2819, 1.3174, 9.2517, 10.2642, 10.5436, 11.7262]"
      ]
     },
     "execution_count": 5,
     "metadata": {},
     "output_type": "execute_result"
    }
   ],
   "source": [
    "peaks_keV = []\n",
    "peaks_weight = []\n",
    "print(f\"{'line':<8} {'energy':<8} {'weight':<6}\")\n",
    "\n",
    "for p in peaks:\n",
    "    if p[0] == 'Ga':\n",
    "        print(f\"{p[0]:<3} {p[1]:<4} {ga_[p[1]]['energy (keV)']:<8} {ga_[p[1]]['weight']:<6}\")\n",
    "        peaks_keV.append(ga_[p[1]]['energy (keV)'])\n",
    "        peaks_weight.append(ga_[p[1]]['weight'])\n",
    "    else:\n",
    "        print(f'{p[0]:<3} {p[1]:<4} {as_[p[1]][\"energy (keV)\"]:<8} {as_[p[1]][\"weight\"]:<6}')\n",
    "        peaks_keV.append(as_[p[1]]['energy (keV)'])\n",
    "        peaks_weight.append(as_[p[1]]['weight'])\n",
    "peaks_keV"
   ]
  },
  {
   "cell_type": "code",
   "execution_count": 6,
   "metadata": {},
   "outputs": [
    {
     "name": "stdout",
     "output_type": "stream",
     "text": [
      "Fitted peaks at channel: [ 130.56740439 1072.45815316  943.74174496 1045.33579055]\n"
     ]
    }
   ],
   "source": [
    "# fitting\n",
    "fit_vals = fit_n_peaks_to_gaussian(\n",
    "    x=s[\"channel\"],\n",
    "    y=s[\"intensity\"],\n",
    "    guessed_peaks=s[\"peaks_channel\"],\n",
    ")\n",
    "s[\"fit_params\"] = fit_vals[0]\n",
    "s[\"fit_cov\"] = fit_vals[1]\n",
    "s[\"peaks_channel\"] = s[\"fit_params\"][1::3]\n",
    "s[\"intensity_fit\"] = n_gaussians(s[\"channel\"], *fit_vals[0])\n",
    "print(f'Fitted peaks at channel: {s[\"peaks_channel\"]}')"
   ]
  },
  {
   "cell_type": "code",
   "execution_count": 7,
   "metadata": {},
   "outputs": [
    {
     "name": "stdout",
     "output_type": "stream",
     "text": [
      "The calibration factor is: 0.0100283 keV/channel, with 21.078 channels zero offset\n"
     ]
    }
   ],
   "source": [
    "fig_fit = plotly_plot(\n",
    "    s[\"channel\"],\n",
    "    s[\"intensity\"],\n",
    "    y_fit=s[\"intensity_fit\"],\n",
    "    vlines=s[\"peaks_channel\"],\n",
    "    vlines_name=s[\"peaks_names\"],\n",
    "    title=f\"Gaussian fitting of {s['name']}\",\n",
    ")\n",
    "# fig_fit = plotly_plot(x=s['channel'], fig=fig_fit, fit_params=s['fit_params'], title=f\"Gaussian fitting of {s['name']}\")\n",
    "# fig_fit.show()\n",
    "\n",
    "calib = calibrate_channel_width_two_peaks(s[\"peaks_channel\"], s[\"peaks_keV\"])\n"
   ]
  },
  {
   "cell_type": "code",
   "execution_count": 8,
   "metadata": {},
   "outputs": [
    {
     "name": "stdout",
     "output_type": "stream",
     "text": [
      "Peak name        | Peak position (mu) [keV] | Peak amplitude (a) | FWHM (std*2*sqrt(2*ln(2))) [keV] | Area under peak\n",
      "Ga L&#945;</sub> | 1.098000                 | 0.9979             | 0.0750                           | 0.995223\n",
      "As K&#945;</sub> | 10.543600                | 0.2013             | 0.1724                           | 0.200806\n",
      "peak 2           | 9.252788                 | 0.3561             | 0.1633                           | 0.355143\n",
      "peak 3           | 10.271608                | 0.0534             | 0.2027                           | 0.053281\n"
     ]
    }
   ],
   "source": [
    "s[\"dispersion\"] = calib[0]\n",
    "s[\"offset\"] = calib[1]\n",
    "# s[\"dispersion\"] = 0.010028 # model fit calibration in HyperSpy\n",
    "# s[\"offset\"] = 0.211377  / 0.010028\n",
    "s[\"kev_calibrated\"] = (s[\"channel\"] - s[\"offset\"]) * s[\"dispersion\"]\n",
    "\n",
    "print(\"Peak name        | Peak position (mu) [keV] | Peak amplitude (a) | FWHM (std*2*sqrt(2*ln(2))) [keV] | Area under peak\")\n",
    "for i in range(len(s[\"fit_params\"]) // 3):\n",
    "    try:\n",
    "        peak_name = s[\"peaks_names\"][i]\n",
    "    except (\n",
    "        IndexError,\n",
    "        TypeError,\n",
    "    ):  # if s['peaks_names'] is None or not as long as the number of peaks\n",
    "        peak_name = f\"peak {i}\"\n",
    "    mu = channel_to_keV(s, value=s['fit_params'][i*3+1])\n",
    "    amp = s['fit_params']\n",
    "    fwhm = channel_to_keV(s, value=s['fit_params'][i * 3 + 2] * 2 * (np.log(2) * 2)**0.5, use_offset=False)\n",
    "    area = area_under_peak(s['fit_params'][i*3+1], s['fit_params'][2 + 3 * i], s['fit_params'][3 * i])\n",
    "    print(f\"{peak_name:<16} | {mu:<24.6f} | {amp[i*3]:<18.4f} | {fwhm:<32.4f} | {area:.6f}\")\n",
    "\n",
    "\n",
    "s[\"peaks_keV_fitted\"] = channel_to_keV(s, value=s['peaks_channel'])\n",
    "\n"
   ]
  },
  {
   "cell_type": "code",
   "execution_count": 9,
   "metadata": {},
   "outputs": [
    {
     "name": "stdout",
     "output_type": "stream",
     "text": [
      "rms error for order 12: 0.00140\n"
     ]
    }
   ],
   "source": [
    "channels = np.arange(0, 2048)\n",
    "\n",
    "def make_fit_y_vals(order=12, prominence=0.01):\n",
    "    fit_vals, _ = make_fit(s['intensity'], channels, deg=order, prominence=prominence)\n",
    "    bg_fit = np.polyval(fit_vals[:order+1], channels)\n",
    "    fit = n_gaussians_and_m_order_bg(channels, order, *fit_vals)\n",
    "    print(f'rms error for order {order}: {np.sqrt(np.mean((s[\"intensity\"] - fit)**2)):.5f}')\n",
    "    return fit, bg_fit\n",
    "\n",
    "f12, bg12 = make_fit_y_vals(order=12, prominence=0.01)"
   ]
  },
  {
   "cell_type": "code",
   "execution_count": 25,
   "metadata": {},
   "outputs": [],
   "source": [
    "fig = go.Figure()\n",
    "fig.update_layout(yaxis_range=[-0.01,0.4], xaxis_range=[9.15,9.45], xaxis_title=\"Energy [keV]\", yaxis_title=\"Intensity [a.u.]\")\n",
    "fig.update_layout(margin=dict(l=0, r=0, t=0, b=0))\n",
    "fig.update_layout(width=800, height=500)\n",
    "fig.add_trace(go.Scatter(x=s[\"kev_calibrated\"], y=f12, name=\"Fit\"))\n",
    "fig.add_trace(go.Scatter(x=s[\"kev_calibrated\"], y=s[\"intensity\"], name=\"Raw data\", mode='markers'))\n",
    "\n",
    "lines = [\n",
    "#  ['Fitted peak center', 9.25279, [  118,    0], 'darkred'],\n",
    " ['Fitted peak center, i.e. GaAs calibrated K\\u03B1', 9.25279, [  181,    0], 'darkred'],\n",
    "\n",
    " ['HS K\\u03B1 ', 9.2517,        [  85,    0], 'darkblue'],\n",
    " ['XRB K\\u03B11 ', 9.25174,      [95,    0],  'darkgreen'],\n",
    " ['XRB K\\u03B12', 9.22482,       [ 158,    0], 'darkgreen'],\n",
    " ['AZ calibrated K\\u03B1', 9.23741, [  148,    0], 'sienna'],\n",
    " ['Mo calibrated K\\u03B1', 9.2517+0.0119, [  85,    0], 'darkorange'],\n",
    " ['HS calibrated K\\u03B1 ', 9.2517+0.0009, [  115,    0], 'grey'],\n",
    " ]\n",
    "fig.update_layout(legend=dict(x=0.83, y=0.97, traceorder=\"normal\", font=dict(size=14, color=\"black\"), bgcolor=\"LightSteelBlue\", bordercolor=\"Black\", borderwidth=2))\n",
    "\n",
    "for i in range(len(lines)):\n",
    "    fig.add_shape(type=\"line\", x0=lines[i][1], y0=-0.01, x1=lines[i][1], y1=0.4, line=dict(color=lines[i][3], width=2, dash=\"dash\"), name=lines[i][0],)\n",
    "y_annotate = [0.02, 0.040, 0.06, 0.08, 0.1, 0.12, 0.14]\n",
    "for i in range(len(lines)):\n",
    "    fig.add_annotation(x=lines[i][1], y=y_annotate[i], text=lines[i][0], showarrow=True, arrowhead=0, ax=lines[i][2][0], ay=lines[i][2][1])\n",
    "annotation = 'Energy difference from fitted peak center<br><br> Peak                  &#916;E   <br>'\n",
    "for i in range(1, len(lines)):\n",
    "    annotation += f'{lines[i][0]:>20} {(lines[i][1] - lines[0][1])*1000:>15.2f} eV<br>'\n",
    "fig.add_annotation(x=0.975, y=0.51, xref='paper', yref='paper', showarrow=False, text=annotation, align='right', borderpad=4)\n",
    "fig\n",
    "\n",
    "# set EB Garamond SemiBold font\n",
    "fig.update_layout(font=dict(family=\"EB Garamond SemiBold\", size=14, color=\"black\"))\n",
    "\n",
    "fig.write_image(\"../plots/Ga-K.png\", width=800, height=500, scale=2)\n",
    "fig.write_image(\"../../tex_project_TFY4520/figures/Ga-K.png\", width=800, height=500, scale=2)"
   ]
  },
  {
   "cell_type": "code",
   "execution_count": null,
   "metadata": {},
   "outputs": [],
   "source": []
  },
  {
   "cell_type": "code",
   "execution_count": null,
   "metadata": {},
   "outputs": [],
   "source": []
  },
  {
   "cell_type": "code",
   "execution_count": null,
   "metadata": {},
   "outputs": [],
   "source": []
  }
 ],
 "metadata": {
  "kernelspec": {
   "display_name": "Python 3.8.13 ('hspy')",
   "language": "python",
   "name": "python3"
  },
  "language_info": {
   "codemirror_mode": {
    "name": "ipython",
    "version": 3
   },
   "file_extension": ".py",
   "mimetype": "text/x-python",
   "name": "python",
   "nbconvert_exporter": "python",
   "pygments_lexer": "ipython3",
   "version": "3.8.13"
  },
  "orig_nbformat": 4,
  "vscode": {
   "interpreter": {
    "hash": "eedee208f6f0fe67ac5ec53646d8853bbb152098f521b748accd5958a126e1a5"
   }
  }
 },
 "nbformat": 4,
 "nbformat_minor": 2
}
