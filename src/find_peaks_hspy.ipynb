{
 "cells": [
  {
   "cell_type": "markdown",
   "metadata": {},
   "source": [
    "# notebook to find peaks using the HyperSpy library\n"
   ]
  },
  {
   "cell_type": "code",
   "execution_count": 1,
   "metadata": {},
   "outputs": [],
   "source": [
    "import hyperspy.api as hs"
   ]
  },
  {
   "cell_type": "code",
   "execution_count": 22,
   "metadata": {},
   "outputs": [],
   "source": [
    "# hs.material.elements.Mo.Atomic_properties.Xray_lines.as_dictionary()\n",
    "# hs.eds.get_xray_lines_near_energy(0.96)"
   ]
  },
  {
   "cell_type": "code",
   "execution_count": 3,
   "metadata": {},
   "outputs": [],
   "source": [
    "def line(element, all=False):\n",
    "    print(element)\n",
    "    d =  hs.material.elements[element].Atomic_properties.Xray_lines.as_dictionary()\n",
    "    lines = []\n",
    "    for key in d.keys():\n",
    "        if all:\n",
    "            lines.append([d[key]['energy (keV)'], key])\n",
    "        if key == 'La' or key == 'Lb' or key == 'Ka' or key == 'Kb':\n",
    "            lines.append([d[key]['energy (keV)'], key])\n",
    "    lines.sort(key=lambda x: x[0])\n",
    "    for line in lines:\n",
    "        print(f'{line[1]:5} {line[0]:.4f}')\n",
    "    \n",
    "        \n",
    "def energy(element):\n",
    "    return hs.eds.get_xray_lines_near_energy(element)"
   ]
  },
  {
   "cell_type": "code",
   "execution_count": 4,
   "metadata": {},
   "outputs": [
    {
     "name": "stdout",
     "output_type": "stream",
     "text": [
      "Ga\n",
      "Ll    0.9573\n",
      "Ln    0.9842\n",
      "La    1.0980\n",
      "La    1.0980\n",
      "Lb1   1.1249\n",
      "Lb3   1.1948\n",
      "Ka    9.2517\n",
      "Ka    9.2517\n",
      "Kb    10.2642\n",
      "Kb    10.2642\n"
     ]
    }
   ],
   "source": [
    "# Ga\n",
    "line('Ga', all=True)"
   ]
  },
  {
   "cell_type": "code",
   "execution_count": null,
   "metadata": {},
   "outputs": [],
   "source": []
  }
 ],
 "metadata": {
  "kernelspec": {
   "display_name": "Python 3.8.13 ('hspy')",
   "language": "python",
   "name": "python3"
  },
  "language_info": {
   "codemirror_mode": {
    "name": "ipython",
    "version": 3
   },
   "file_extension": ".py",
   "mimetype": "text/x-python",
   "name": "python",
   "nbconvert_exporter": "python",
   "pygments_lexer": "ipython3",
   "version": "3.8.13"
  },
  "orig_nbformat": 4,
  "vscode": {
   "interpreter": {
    "hash": "eedee208f6f0fe67ac5ec53646d8853bbb152098f521b748accd5958a126e1a5"
   }
  }
 },
 "nbformat": 4,
 "nbformat_minor": 2
}
