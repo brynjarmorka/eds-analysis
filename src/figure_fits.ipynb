{
 "cells": [
  {
   "cell_type": "code",
   "execution_count": 2,
   "metadata": {},
   "outputs": [],
   "source": [
    "import numpy as np\n",
    "import plotly.graph_objects as go\n",
    "from scipy.signal import find_peaks\n",
    "\n",
    "# utils and helper_files\n",
    "from utils.get_raw_data import get_multiple_data_arrays\n",
    "from helper_files.normalizations import normalize_high_peak\n",
    "from helper_files.gaussian_fitting import gaussian\n",
    "from helper_files.peak_ratios import split_arrs, channel_to_kev, find_peaks_arrs, remove_linear_bg, n_gaussians_and_m_order_bg, print_table, make_fit, find_nearest, fwhm, table_values_FWHM, plotly_table\n"
   ]
  },
  {
   "cell_type": "code",
   "execution_count": 3,
   "metadata": {},
   "outputs": [],
   "source": [
    "ga = get_multiple_data_arrays(filters=['GaAs'], normalize=False)\n",
    "# highest peak normalization\n",
    "norm = normalize_high_peak(ga)\n",
    "norm, names = split_arrs(norm)\n",
    "s = norm[3]"
   ]
  },
  {
   "cell_type": "code",
   "execution_count": 4,
   "metadata": {},
   "outputs": [],
   "source": [
    "dispersion = 0.0100283 # from GaAs, Ga La and As Ka peaks\n",
    "offset = 21.079\n",
    "deg = 12 # degree of the polynomial to the background\n",
    "prominence = 0.01 # prominence of the peaks, for the find_peaks\n",
    "pixel_removal = 50 # removal of pixels before and after each peak\n",
    "channel_points = 2048\n",
    "Vacc = 30\n",
    "\n",
    "channels = np.arange(0, channel_points)\n",
    "res_increase = 10 # resolution increase for fit\n",
    "channels_high_res = np.linspace(0, len(channels), len(channels) * res_increase)\n",
    "# to center the high_res on channels, we need to shift it by half res_increase\n",
    "# channels_high_res -= res_increase / 20\n",
    "\n",
    "keV = channel_to_kev(arr=channels, dispersion=dispersion, offset=offset)\n",
    "keV_high_res = channel_to_kev(arr=channels_high_res, dispersion=dispersion, offset=offset)\n",
    "\n",
    "title = 'GaAs'\n",
    "\n",
    "# the keV of the peaks for the table\n",
    "gaLa = 1.098\n",
    "asLa = 1.282\n",
    "gaKa = 9.251\n",
    "asKa = 10.543\n",
    "gaKb = 10.264\n",
    "asKb = 11.726\n",
    "\n",
    "# p_names = [\"Ga La\", \"As La\", \"Ga Ka\", \"As Ka\", \"Ga Kb\", \"As Kb\"]\n",
    "poi = [gaLa, asLa, gaKa, asKa, gaKb, asKb] # poi, peak of interest"
   ]
  },
  {
   "cell_type": "code",
   "execution_count": 5,
   "metadata": {},
   "outputs": [],
   "source": [
    "peaks, _ = find_peaks(s, prominence=prominence)\n",
    "# fig = go.Figure()\n",
    "# fig.update_layout(title=\"Plot on channels, find the calibration peaks\")\n",
    "# fig.add_trace(go.Scatter(x=channels, y=s, mode=\"markers\", name=names[0]))\n",
    "# for p in peaks:\n",
    "#     fig.add_vline(x=p, line_width=1, line_dash=\"dash\", line_color=\"red\", annotation_text=f\"{p}\")\n",
    "# fig"
   ]
  },
  {
   "cell_type": "code",
   "execution_count": 6,
   "metadata": {},
   "outputs": [
    {
     "data": {
      "text/plain": [
       "'2'"
      ]
     },
     "execution_count": 6,
     "metadata": {},
     "output_type": "execute_result"
    }
   ],
   "source": [
    "bg40 = remove_linear_bg(s, peaks, pixel_removal=40, offset=int(offset))\n",
    "bg100 = remove_linear_bg(s, peaks, pixel_removal=100, offset=int(offset))\n",
    "\n",
    "fig = go.Figure()\n",
    "fig.update_layout(title=\"Plot on channels, find the calibration peaks\")\n",
    "# fig.add_trace(go.Scatter(x=channels, y=s, mode=\"lines\", name='raw'))\n",
    "fig.add_trace(go.Scatter(x=keV, y=bg40, mode=\"lines\", name='bg'))\n",
    "fig.add_trace(go.Scatter(x=keV, y=bg100, mode=\"lines\", name='bg'))\n",
    "for p in peaks:\n",
    "    pk = channel_to_kev(p, dispersion=dispersion, offset=offset)\n",
    "    # fig.add_vline(x=p, line_width=1, line_dash=\"dash\", line_color=\"red\", annotation_text=f\"{p}\")\n",
    "    fig.add_vline(x=pk, line_width=1, line_dash=\"dash\", line_color=\"grey\")\n",
    "\n",
    "fig.update_layout(title=title, xaxis_title='keV', yaxis_title='Normalized intensity')\n",
    "\n",
    "'2'\n"
   ]
  },
  {
   "cell_type": "code",
   "execution_count": 7,
   "metadata": {},
   "outputs": [
    {
     "name": "stdout",
     "output_type": "stream",
     "text": [
      "rms error for order 6: 0.00157\n",
      "rms error for order 12: 0.00140\n"
     ]
    }
   ],
   "source": [
    "def make_fit_on_fig(fig, order=12, prominence=0.01):\n",
    "    fit_vals, _ = make_fit(s, channels, deg=order, prominence=prominence)\n",
    "    bg_fit = np.polyval(fit_vals[:order+1], channels)\n",
    "        # fig.add_trace(go.Scatter(x=keV, y=bg_fit, mode=\"lines\", name=f'order {order} bg'))\n",
    "    fit = n_gaussians_and_m_order_bg(channels, order, *fit_vals)\n",
    "    # fig.add_trace(go.Scatter(x=keV, y=fit, mode=\"lines\", name=f'order {order} fit'))\n",
    "    print(f'rms error for order {order}: {np.sqrt(np.mean((s - fit)**2)):.5f}')\n",
    "    return fit, bg_fit\n",
    "\n",
    "\n",
    "def add_fit(fig, fit, bg_fit, order):\n",
    "    fig.add_trace(go.Scatter(x=keV, y=bg_fit, mode=\"lines\", name=f'order {order} bg'))\n",
    "    fig.add_trace(go.Scatter(x=keV, y=fit, mode=\"lines\", name=f'order {order} fit'))\n",
    "\n",
    "def fit_fig(f6, bg6, f12, bg12):\n",
    "    fig = go.Figure()\n",
    "    fig.add_trace(go.Scatter(x=keV, y=s, mode=\"markers\", name='Raw'))\n",
    "    add_fit(fig, f6, bg6, 6)\n",
    "    add_fit(fig, f12, bg12, 12)\n",
    "    fig.update_layout(margin=dict(l=0, r=0, t=0, b=0))\n",
    "    fig.update_layout(width=800, height=400)\n",
    "    fig.update_layout(legend=dict(x=0.75, y=0.90))\n",
    "    fig.update_layout(font=dict(size=18))\n",
    "    fig.update_layout(showlegend=True)\n",
    "\n",
    "    return fig\n",
    "\n",
    "def rmse_range(fit, start, stop):\n",
    "    return np.sqrt(np.mean((s[start:stop] - fit[start:stop])**2))\n",
    "\n",
    "\n",
    "f6, bg6 = make_fit_on_fig(fig, order=6)\n",
    "f12, bg12 = make_fit_on_fig(fig, order=12)"
   ]
  },
  {
   "cell_type": "code",
   "execution_count": 13,
   "metadata": {},
   "outputs": [
    {
     "name": "stdout",
     "output_type": "stream",
     "text": [
      "[-0.00420987 -0.00380955 -0.00341754 ...  0.00114818  0.0011756\n",
      "  0.00120428]\n"
     ]
    }
   ],
   "source": [
    "print(f12)"
   ]
  },
  {
   "cell_type": "code",
   "execution_count": 8,
   "metadata": {},
   "outputs": [
    {
     "data": {
      "text/plain": [
       "'h'"
      ]
     },
     "execution_count": 8,
     "metadata": {},
     "output_type": "execute_result"
    }
   ],
   "source": [
    "fig = fit_fig(f6, bg6, f12, bg12)\n",
    "start = 21\n",
    "stop = 2048\n",
    "rmse6 = rmse_range(f6, start, stop)\n",
    "rmse12 = rmse_range(f12, start, stop)\n",
    "\n",
    "start_keV = (start-offset)*dispersion\n",
    "stop_keV = (stop-offset)*dispersion\n",
    "\n",
    "# fig.update_layout(showlegend=False)\n",
    "fig.add_annotation(x=0.4, y=0.95, xref=\"paper\", yref=\"paper\", text=f\"RMSE for {np.abs(start_keV):.2f}-{stop_keV:.2f} keV\", showarrow=False, font=dict(size=18))\n",
    "fig.add_annotation(x=0.4, y=0.90, xref=\"paper\", yref=\"paper\", text=f\"{'order 6:':<11} {rmse6:.5f}\", showarrow=False, font=dict(size=18))\n",
    "fig.add_annotation(x=0.4, y=0.85, xref=\"paper\", yref=\"paper\", text=f\"{'order 12:':<10} {rmse12:.5f}\", showarrow=False, font=dict(size=18))\n",
    "\n",
    "# fig.add_annotation(x=0.4, y=0.95, xref=\"paper\", yref=\"paper\", text=f\"RMSE order {'6':3}: {rmse6:.5f}\", showarrow=False, font=dict(size=18))\n",
    "# fig.add_annotation(x=0.4, y=0.90, xref=\"paper\", yref=\"paper\", text=f\"RMSE order 12: {rmse12:.5f}\", showarrow=False, font=dict(size=18))\n",
    "fig.update_layout(xaxis_title='Energy [keV]', yaxis_title='Relative intensity [a.u.]')\n",
    "fig.update_yaxes(range=[-0.02, 1.02])\n",
    "\n",
    "\n",
    "'h'\n",
    "# fig.write_image(\"../plots/fit/fit_GaAs30kV_whole.png\", scale=2)"
   ]
  },
  {
   "cell_type": "code",
   "execution_count": 9,
   "metadata": {},
   "outputs": [],
   "source": [
    "start = 910\n",
    "stop = 1220\n",
    "fig = fit_fig(f6, bg6, f12, bg12)\n",
    "rmse6 = rmse_range(f6, start, stop)\n",
    "rmse12 = rmse_range(f12, start, stop)\n",
    "start_keV = (start-offset)*dispersion\n",
    "stop_keV = (stop-offset)*dispersion\n",
    "\n",
    "fig.update_layout(showlegend=False)\n",
    "fig.add_annotation(x=0.96, y=0.95, xref=\"paper\", yref=\"paper\", text=f\"RMSE for {start_keV:.2f}-{stop_keV:.2f} keV\", showarrow=False, font=dict(size=18))\n",
    "fig.add_annotation(x=0.96, y=0.90, xref=\"paper\", yref=\"paper\", text=f\"{'order 6:':<11} {rmse6:.5f}\", showarrow=False, font=dict(size=18))\n",
    "fig.add_annotation(x=0.96, y=0.85, xref=\"paper\", yref=\"paper\", text=f\"{'order 12:':<10} {rmse12:.5f}\", showarrow=False, font=dict(size=18))\n",
    "# fig.add_annotation(x=0.85, y=0.95, xref=\"paper\", yref=\"paper\", text=f\"RMSE order {'6':3}: {rmse6:.5f}\", showarrow=False, font=dict(size=18))\n",
    "# fig.add_annotation(x=0.85, y=0.90, xref=\"paper\", yref=\"paper\", text=f\"RMSE order 12: {rmse12:.5f}\", showarrow=False, font=dict(size=18))\n",
    "fig.update_xaxes(range=[8.9, 12.0])\n",
    "fig.update_yaxes(range=[-0.0005, 0.38])\n",
    "\n",
    "fig.write_image(\"../plots/fit/fit_GaAs30kV_K.png\", scale=2)\n"
   ]
  },
  {
   "cell_type": "code",
   "execution_count": 10,
   "metadata": {},
   "outputs": [],
   "source": [
    "fig = fit_fig(f6, bg6, f12, bg12)\n",
    "\n",
    "start = 30\n",
    "stop = 215\n",
    "fig = fit_fig(f6, bg6, f12, bg12)\n",
    "rmse6 = rmse_range(f6, start, stop)\n",
    "rmse12 = rmse_range(f12, start, stop)\n",
    "\n",
    "# fig.update_layout(showlegend=False)\n",
    "# fig.add_annotation(x=0.15, y=0.95, xref=\"paper\", yref=\"paper\", text=f\"RMSE order {'6':3}: {rmse6:.5f}\", showarrow=False, font=dict(size=18))\n",
    "# fig.add_annotation(x=0.15, y=0.90, xref=\"paper\", yref=\"paper\", text=f\"RMSE order 12: {rmse12:.5f}\", showarrow=False, font=dict(size=18))\n",
    "\n",
    "start_keV = (start-offset)*dispersion\n",
    "stop_keV = (stop-offset)*dispersion\n",
    "\n",
    "fig.update_layout(showlegend=False)\n",
    "fig.add_annotation(x=0.10, y=0.95, xref=\"paper\", yref=\"paper\", text=f\"RMSE for {start_keV:.2f}-{stop_keV:.2f} keV\", showarrow=False, font=dict(size=18))\n",
    "fig.add_annotation(x=0.10, y=0.90, xref=\"paper\", yref=\"paper\", text=f\"{'order 6:':<11} {rmse6:.5f}\", showarrow=False, font=dict(size=18))\n",
    "fig.add_annotation(x=0.10, y=0.85, xref=\"paper\", yref=\"paper\", text=f\"{'order 12:':<10} {rmse12:.5f}\", showarrow=False, font=dict(size=18))\n",
    "fig.update_xaxes(range=[-0.1, 1.9])\n",
    "fig.update_yaxes(range=[-0.0005, 0.5])\n",
    "\n",
    "fig.write_image(\"../plots/fit/fit_GaAs30kV_L.png\", scale=2)\n"
   ]
  },
  {
   "cell_type": "code",
   "execution_count": 11,
   "metadata": {},
   "outputs": [],
   "source": [
    "fig = fit_fig(f6, bg6, f12, bg12)\n",
    "fig.update_xaxes(range=[-0.1, 10])\n",
    "fig.update_yaxes(range=[-0.0005, 0.025])\n",
    "\n",
    "fig = fit_fig(f6, bg6, f12, bg12)\n",
    "\n",
    "start = 22\n",
    "stop = 270\n",
    "fig = fit_fig(f6, bg6, f12, bg12)\n",
    "rmse6 = rmse_range(f6, start, stop)\n",
    "rmse12 = rmse_range(f12, start, stop)\n",
    "\n",
    "start_keV = (start-offset)*dispersion\n",
    "stop_keV = (stop-offset)*dispersion\n",
    "\n",
    "fig.update_layout(showlegend=False)\n",
    "fig.add_annotation(x=0.96, y=0.95, xref=\"paper\", yref=\"paper\", text=f\"RMSE for {start_keV:.2f}-{stop_keV:.2f} keV\", showarrow=False, font=dict(size=18))\n",
    "fig.add_annotation(x=0.96, y=0.90, xref=\"paper\", yref=\"paper\", text=f\"{'order 6:':<11} {rmse6:.5f}\", showarrow=False, font=dict(size=18))\n",
    "fig.add_annotation(x=0.96, y=0.85, xref=\"paper\", yref=\"paper\", text=f\"{'order 12:':<10} {rmse12:.5f}\", showarrow=False, font=dict(size=18))\n",
    "\n",
    "fig.update_xaxes(range=[-0.1, 3.7])\n",
    "fig.update_yaxes(range=[-0.0005, 0.025])\n",
    "\n",
    "fig.write_image(\"../plots/fit/fit_GaAs30kV_bg.png\", scale=2)\n"
   ]
  }
 ],
 "metadata": {
  "kernelspec": {
   "display_name": "hspy",
   "language": "python",
   "name": "python3"
  },
  "language_info": {
   "codemirror_mode": {
    "name": "ipython",
    "version": 3
   },
   "file_extension": ".py",
   "mimetype": "text/x-python",
   "name": "python",
   "nbconvert_exporter": "python",
   "pygments_lexer": "ipython3",
   "version": "3.8.13"
  },
  "orig_nbformat": 4,
  "vscode": {
   "interpreter": {
    "hash": "eedee208f6f0fe67ac5ec53646d8853bbb152098f521b748accd5958a126e1a5"
   }
  }
 },
 "nbformat": 4,
 "nbformat_minor": 2
}
