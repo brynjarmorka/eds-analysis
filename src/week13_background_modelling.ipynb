{
 "cells": [
  {
   "cell_type": "code",
   "execution_count": 22,
   "metadata": {},
   "outputs": [],
   "source": [
    "import numpy as np\n",
    "import plotly.graph_objects as go\n",
    "\n",
    "# scipy \n",
    "from scipy.signal import find_peaks\n",
    "from scipy.optimize import curve_fit\n",
    "\n",
    "# utils and helper_files\n",
    "from utils.get_raw_data import get_multiple_data_arrays\n",
    "from helper_files.gaussian_fitting import gaussian, n_gaussians"
   ]
  },
  {
   "cell_type": "code",
   "execution_count": 23,
   "metadata": {},
   "outputs": [],
   "source": [
    "# parameters\n",
    "\n",
    "deg = 12 # degree of the polynomial to the background\n",
    "prominence = 0.01 # prominence of the peaks, for the find_peaks\n",
    "std_buffer = 4 # area around the peak to remove\n",
    "\n",
    "ga30 = get_multiple_data_arrays(filters=[\"GaAs_30\"])\n",
    "name = ga30[0][0]\n",
    "data = ga30[0][1]\n",
    "channels = np.arange(0, len(data))"
   ]
  },
  {
   "cell_type": "code",
   "execution_count": 24,
   "metadata": {},
   "outputs": [],
   "source": [
    "# peaks, p_dict = find_peaks(data, prominence=prominence)"
   ]
  },
  {
   "cell_type": "code",
   "execution_count": 25,
   "metadata": {},
   "outputs": [],
   "source": [
    "peaks, _ = find_peaks(data, prominence=prominence)\n",
    "fig = go.Figure()\n",
    "fig.update_layout(title=\"Plot on channels, find the calibration peaks\")\n",
    "fig.add_trace(go.Scatter(x=channels, y=data, mode=\"lines\", name=name))\n",
    "for p in peaks:\n",
    "    fig.add_vline(x=p, line_width=1, line_dash=\"dash\", line_color=\"red\", annotation_text=f\"{p}\")\n",
    "# fig"
   ]
  },
  {
   "cell_type": "code",
   "execution_count": 26,
   "metadata": {},
   "outputs": [],
   "source": [
    "# bounds = ((-np.inf, -3, -np.inf), (np.inf, 3, np.inf))\n",
    "p0 = [1, peaks[0], 1]\n",
    "for i in range(1, len(peaks)):\n",
    "    p0 += [1, peaks[i], 1]\n",
    "\n",
    "# fit_vals, covar = curve_fit(n_gaussians, channels, data, p0=p0, bounds=bounds)\n",
    "fit_vals, covar = curve_fit(n_gaussians, channels, data, p0=p0)\n",
    "fit_amp = fit_vals[0::3]\n",
    "fit_peaks = fit_vals[1::3]\n",
    "fit_std = fit_vals[2::3]"
   ]
  },
  {
   "cell_type": "code",
   "execution_count": 27,
   "metadata": {},
   "outputs": [],
   "source": [
    "fig = go.Figure()\n",
    "fig.update_layout(title=\"Fitted peaks <br> <sub>See if a peak is substituded for background in the fitting</sub>\")\n",
    "fig.add_trace(go.Scatter(x=channels, y=data, mode=\"lines\", name=name))\n",
    "for i in range(len(fit_peaks)):\n",
    "    fig.add_vline(x=fit_peaks[i], line_width=1, line_dash=\"dash\", line_color=\"red\", annotation_text=f\"{np.round(fit_peaks[i], decimals=2):.2f}\")\n",
    "    # add gaussian fit of each peak\n",
    "    fig.add_trace(go.Scatter(x=channels, y=gaussian(channels, fit_amp[i], fit_peaks[i], fit_std[i]), mode=\"lines\", name=f\"fit {fit_peaks[i]:.2f}\"))\n",
    "# fig"
   ]
  },
  {
   "cell_type": "code",
   "execution_count": 28,
   "metadata": {},
   "outputs": [],
   "source": [
    "# data where the peaks are set to np.nan\n",
    "bg = data.copy()\n",
    "\n",
    "def remove_peaks(data, peaks, stds, buffer=3):\n",
    "    for i in range(len(peaks)):\n",
    "        data[int((peaks[i] - stds[i] * buffer)) : int((peaks[i] + stds[i] * buffer))] = np.nan\n",
    "    return data\n",
    "# for i in range(len(fit_peaks)):\n",
    "#     bg[int(fit_peaks[i] - fit_std[i]*std_buffer) : int(fit_peaks[i] + fit_std[i]*std_buffer)] = np.nan\n",
    "\n",
    "# bg[29:34] = np.nan # for GaAs_30 to remove a small section\n",
    "\n",
    "bg = remove_peaks(bg, fit_peaks, fit_std, buffer=std_buffer)\n",
    "\n",
    "fig = go.Figure()\n",
    "fig.update_layout(title=\"Plot on channels, find the calibration peaks\")\n",
    "fig.add_trace(go.Scatter(x=channels, y=bg, mode=\"lines\", name=name))\n",
    "for p in fit_peaks:\n",
    "    fig.add_vline(x=p, line_width=1, line_dash=\"dash\", line_color=\"red\", annotation_text=f\"{np.round(p, decimals=2):.2f}\")\n",
    "# fig"
   ]
  },
  {
   "cell_type": "code",
   "execution_count": 29,
   "metadata": {},
   "outputs": [],
   "source": [
    "# linear background fit under peaks\n",
    "\n",
    "def remove_bg_linear(data_bg, plot=False):\n",
    "\n",
    "    while np.isnan(data_bg).any():\n",
    "        # find the last valid value before the nan\n",
    "        nan1 = np.where(np.isnan(data_bg))[0][0]\n",
    "        valid1 = nan1 - 1\n",
    "        if valid1 == -1:\n",
    "            valid1 = 0\n",
    "        # find the first non-nan after the nan\n",
    "        valid2 = np.where(np.isnan(data_bg[nan1::]) == False)[0][0] + valid1 + 1\n",
    "        # fit a line between the two points using np.linspace\n",
    "        y = np.linspace(data_bg[valid1], data_bg[valid2], valid2 - valid1)\n",
    "\n",
    "        # replace the nan with the fitted line\n",
    "        data_bg[valid1:valid2] = y\n",
    "    \n",
    "    if plot:\n",
    "        fig = go.Figure()\n",
    "        fig.update_layout(title=\"Plot on channels, find the calibration peaks\")\n",
    "        fig.add_trace(go.Scatter(x=channels, y=data_bg, mode=\"lines\", name=name))\n",
    "        fig.show()\n",
    "    return data_bg"
   ]
  },
  {
   "cell_type": "code",
   "execution_count": 30,
   "metadata": {},
   "outputs": [],
   "source": [
    "bg = remove_bg_linear(bg, plot=False)"
   ]
  },
  {
   "cell_type": "code",
   "execution_count": 31,
   "metadata": {},
   "outputs": [
    {
     "data": {
      "text/plain": [
       "0"
      ]
     },
     "execution_count": 31,
     "metadata": {},
     "output_type": "execute_result"
    }
   ],
   "source": [
    "# count nan\n",
    "np.isnan(bg).sum()"
   ]
  },
  {
   "cell_type": "code",
   "execution_count": 32,
   "metadata": {},
   "outputs": [],
   "source": [
    "# refine the peak finding, then remove background again\n",
    "data_wo_bg = data - bg\n",
    "\n",
    "# fit_vals, covar = curve_fit(n_gaussians, channels, data, p0=p0, bounds=bounds)\n",
    "fit_vals, covar = curve_fit(n_gaussians, channels, data_wo_bg, p0=p0)\n",
    "fit_amp = fit_vals[0::3]\n",
    "fit_peaks = fit_vals[1::3]\n",
    "fit_std = fit_vals[2::3]\n",
    "\n",
    "fig = go.Figure()\n",
    "fig.update_layout(title=\"Plot on channels, find the calibration peaks\")\n",
    "fig.add_trace(go.Scatter(x=channels, y=data_wo_bg, mode=\"lines\", name=name))\n",
    "for i in range(len(fit_peaks)):\n",
    "    fig.add_vline(x=fit_peaks[i], line_width=1, line_dash=\"dash\", line_color=\"black\", annotation_text=f\"{np.round(fit_peaks[i], decimals=2):.2f}\")\n",
    "    fig.add_vline(x=fit_peaks[i]-fit_std[i]*3, line_width=0.3, line_dash=\"dash\", line_color=\"grey\")\n",
    "    fig.add_vline(x=fit_peaks[i]+fit_std[i]*3, line_width=0.3, line_dash=\"dash\", line_color=\"brown\")\n",
    "\n",
    "    # add gaussian fit of each peak\n",
    "    fig.add_trace(go.Scatter(x=channels, y=gaussian(channels, fit_amp[i], fit_peaks[i], fit_std[i]), mode=\"lines\", name=f\"fit {fit_peaks[i]:.2f}\"))\n",
    "# fig"
   ]
  },
  {
   "cell_type": "code",
   "execution_count": 33,
   "metadata": {},
   "outputs": [
    {
     "name": "stdout",
     "output_type": "stream",
     "text": [
      "299\n"
     ]
    }
   ],
   "source": [
    "bg = remove_peaks(bg, fit_peaks, fit_std, buffer=std_buffer)\n",
    "print(np.isnan(bg).sum())\n",
    "data_wo_bg = data - remove_bg_linear(bg)"
   ]
  },
  {
   "cell_type": "code",
   "execution_count": 34,
   "metadata": {},
   "outputs": [],
   "source": [
    "fig = go.Figure()\n",
    "fig.update_layout(title=\"Peaks after background removal\")\n",
    "fig.add_trace(go.Scatter(x=channels, y=data_wo_bg, mode=\"lines\", name=name))\n",
    "for i in range(len(fit_peaks)):\n",
    "    fig.add_vline(x=fit_peaks[i], line_width=1, line_dash=\"dash\", line_color=\"black\", annotation_text=f\"{np.round(fit_peaks[i], decimals=2):.2f}\")\n",
    "    fig.add_vline(x=fit_peaks[i]-fit_std[i]*3, line_width=0.3, line_dash=\"dash\", line_color=\"grey\")\n",
    "    fig.add_vline(x=fit_peaks[i]+fit_std[i]*3, line_width=0.3, line_dash=\"dash\", line_color=\"brown\")\n",
    "\n",
    "    # add gaussian fit of each peak\n",
    "    fig.add_trace(go.Scatter(x=channels, y=gaussian(channels, fit_amp[i], fit_peaks[i], fit_std[i]), mode=\"lines\", name=f\"fit {fit_peaks[i]:.2f}\"))\n",
    "# fig"
   ]
  },
  {
   "cell_type": "code",
   "execution_count": 41,
   "metadata": {},
   "outputs": [
    {
     "data": {
      "text/plain": [
       "'s'"
      ]
     },
     "execution_count": 41,
     "metadata": {},
     "output_type": "execute_result"
    }
   ],
   "source": [
    "bg_fit = np.polyval(np.polyfit(channels, bg, 14), channels)\n",
    "\n",
    "fig = go.Figure()\n",
    "fig.update_layout(title=f\"Background and backround fit <br> <sub>Background deg={deg}</sub><br> <sub>Std window={std_buffer}</sub>\")\n",
    "fig.add_trace(go.Scatter(x=channels, y=bg, mode=\"lines\", name=f\"{name}\"))\n",
    "fig.add_trace(go.Scatter(x=channels, y=bg_fit, mode=\"lines\", name=f\"{name} fit\"))\n",
    "\n",
    "# for i in range(len(fit_peaks)):\n",
    "#     fig.add_vline(x=fit_peaks[i], line_width=1, line_dash=\"dash\", line_color=\"black\", annotation_text=f\"{np.round(fit_peaks[i], decimals=2):.2f}\")\n",
    "# fig\n",
    "\n",
    "'s'"
   ]
  },
  {
   "cell_type": "code",
   "execution_count": 36,
   "metadata": {},
   "outputs": [
    {
     "data": {
      "text/plain": [
       "0"
      ]
     },
     "execution_count": 36,
     "metadata": {},
     "output_type": "execute_result"
    }
   ],
   "source": [
    "# nan in bg\n",
    "np.isnan(bg).sum()"
   ]
  },
  {
   "cell_type": "code",
   "execution_count": 40,
   "metadata": {},
   "outputs": [
    {
     "name": "stderr",
     "output_type": "stream",
     "text": [
      "c:\\Users\\Brynjar\\miniconda3\\envs\\hspy\\lib\\site-packages\\IPython\\core\\interactiveshell.py:3398: RankWarning:\n",
      "\n",
      "Polyfit may be poorly conditioned\n",
      "\n"
     ]
    },
    {
     "data": {
      "text/plain": [
       "'f'"
      ]
     },
     "execution_count": 40,
     "metadata": {},
     "output_type": "execute_result"
    }
   ],
   "source": [
    "bg_6 = np.polyval(np.polyfit(channels, bg, 6), channels)\n",
    "bg_14 = np.polyval(np.polyfit(channels, bg, 14), channels)\n",
    "bg_20 = np.polyval(np.polyfit(channels, bg, 20), channels)\n",
    "\n",
    "\n",
    "fig = go.Figure()\n",
    "fig.update_layout(title=f\"Background and backround fit <br> <sub>Background deg={deg}</sub><br> <sub>Std window={std_buffer}</sub>\")\n",
    "fig.add_trace(go.Scatter(x=channels, y=bg, mode=\"lines\", name=f\"bg\"))\n",
    "fig.add_trace(go.Scatter(x=channels, y=bg_6, mode=\"lines\", name=f\"bg_6\"))\n",
    "fig.add_trace(go.Scatter(x=channels, y=bg_14, mode=\"lines\", name=f\"bg_14\"))\n",
    "fig.add_trace(go.Scatter(x=channels, y=bg_20, mode=\"lines\", name=f\"bg_20\"))\n",
    "\n",
    "fig.add_trace(go.Scatter(x=channels, y=bg_fit, mode=\"lines\", name=f\"{name} fit\"))\n",
    "\n",
    "# for i in range(len(fit_peaks)):\n",
    "#     fig.add_vline(x=fit_peaks[i], line_width=1, line_dash=\"dash\", line_color=\"black\", annotation_text=f\"{np.round(fit_peaks[i], decimals=2):.2f}\")\n",
    "# fig\n",
    "\n",
    "'f'"
   ]
  },
  {
   "cell_type": "code",
   "execution_count": 38,
   "metadata": {},
   "outputs": [
    {
     "data": {
      "text/plain": [
       "array([-1.51503617e-43,  2.22449020e-39, -1.48999016e-35,  6.05110351e-32,\n",
       "       -1.66873457e-28,  3.30762309e-25, -4.84210652e-22,  5.26572597e-19,\n",
       "       -4.19822415e-16,  2.37527691e-13, -9.01663220e-11,  2.10075730e-08,\n",
       "       -2.67126355e-06,  1.98221641e-04, -1.10758217e-03])"
      ]
     },
     "execution_count": 38,
     "metadata": {},
     "output_type": "execute_result"
    }
   ],
   "source": [
    "np.polyfit(channels, bg, 14)"
   ]
  },
  {
   "cell_type": "code",
   "execution_count": 39,
   "metadata": {},
   "outputs": [
    {
     "data": {
      "text/plain": [
       "array([ 9.05554126e-21, -4.70306016e-17,  6.78761533e-14,  2.60345935e-11,\n",
       "       -1.35154252e-07,  8.67934735e-05, -7.71957316e-04])"
      ]
     },
     "execution_count": 39,
     "metadata": {},
     "output_type": "execute_result"
    }
   ],
   "source": [
    "np.polyfit(channels, bg, 6)"
   ]
  },
  {
   "cell_type": "code",
   "execution_count": null,
   "metadata": {},
   "outputs": [],
   "source": []
  }
 ],
 "metadata": {
  "kernelspec": {
   "display_name": "Python 3.8.13 ('hspy')",
   "language": "python",
   "name": "python3"
  },
  "language_info": {
   "codemirror_mode": {
    "name": "ipython",
    "version": 3
   },
   "file_extension": ".py",
   "mimetype": "text/x-python",
   "name": "python",
   "nbconvert_exporter": "python",
   "pygments_lexer": "ipython3",
   "version": "3.8.13"
  },
  "orig_nbformat": 4,
  "vscode": {
   "interpreter": {
    "hash": "eedee208f6f0fe67ac5ec53646d8853bbb152098f521b748accd5958a126e1a5"
   }
  }
 },
 "nbformat": 4,
 "nbformat_minor": 2
}
