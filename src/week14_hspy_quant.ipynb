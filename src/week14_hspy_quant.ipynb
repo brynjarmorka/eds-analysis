{
 "cells": [
  {
   "cell_type": "markdown",
   "metadata": {},
   "source": [
    "# Presentation\n",
    "\n",
    "1. Goal: Improve EDS (quantification, calibration, understanding)\n",
    "2. Data: SEM Apreo, AZtec\n",
    "\n",
    "3. Calibration (plot)\n",
    "4. Quantification (table)\n",
    "\n",
    "\n",
    "# Observations / questions\n",
    "\n",
    "- Ga K alpha lines are one, not two\n",
    "\n",
    "- How many use EDS SEM quantification? HyperSpy only does TEM\n",
    "- How important is +- 5% error in calibration?\n",
    "\n",
    "\n",
    "# Problems\n",
    "\n",
    "- HyperSpy is large, complex, and not well documented\n",
    "    - Legend om model plot\n",
    "    - Hover info\n",
    "    - Understanding how the background is fitted\n",
    "- k-factors\n",
    "    - Theoretically estimated\n",
    "    - k-ratios?\n",
    "\n",
    "\n",
    "# Further plan\n",
    "\n",
    "- Write a report\n",
    "- Organize the code, if it might be valuable for others\n",
    "- Look more into factorless quantification\n",
    "- More data"
   ]
  },
  {
   "cell_type": "code",
   "execution_count": 1,
   "metadata": {},
   "outputs": [],
   "source": [
    "import hyperspy.api as hs\n",
    "from utils.get_raw_data import locate_raw_data\n"
   ]
  },
  {
   "cell_type": "code",
   "execution_count": 2,
   "metadata": {},
   "outputs": [],
   "source": [
    "%matplotlib qt"
   ]
  },
  {
   "cell_type": "code",
   "execution_count": 3,
   "metadata": {},
   "outputs": [],
   "source": [
    "emsa = locate_raw_data()\n"
   ]
  },
  {
   "cell_type": "code",
   "execution_count": 16,
   "metadata": {},
   "outputs": [],
   "source": [
    "s1 = hs.load(emsa[7], signal_type=\"EDS_TEM\")\n",
    "s1.add_elements(['As', 'Ga'])\n",
    "s1.plot(xray_lines=True)"
   ]
  },
  {
   "cell_type": "code",
   "execution_count": 4,
   "metadata": {},
   "outputs": [],
   "source": [
    "dispersion = 0.0100283 # from GaAs, Ga La and As Ka peaks\n",
    "offset = 0.2113765074 # keV offset\n",
    "\n",
    "# NB! k-factors are sorted alfabetically, so As first, then Ga.\n",
    "# it is the same order as the x-ray lines in the family_lines list\n",
    "\n",
    "# make function which takes a file name and returns the quantification results with three different calibrations\n",
    "def quant_three_ways(filename, factors, s2_dispersion=0.0100283, s2_offset=0.2113765074, elements=['As', 'Ga'], family_lines=['As_Ka', 'Ga_Ka'], window_width=3, line_width=[5.0, 2.0], plot=False):\n",
    "    bg_order = 12\n",
    "    s1 = hs.load(filename, signal_type=\"EDS_TEM\")\n",
    "    s1.add_elements(elements)\n",
    "    m1 = s1.create_model()\n",
    "    m1.add_family_lines(family_lines)\n",
    "    # m1.add_polynomial_background(order=bg_order)\n",
    "    # m1.fit_background()\n",
    "    m1.fit(bounded=True)\n",
    "    bw1 = s1.estimate_background_windows(line_width=line_width)\n",
    "    iw1 =  s1.estimate_integration_windows(windows_width=window_width)\n",
    "    s1_intensities = s1.get_lines_intensity(background_windows=bw1, integration_windows=iw1)\n",
    "    quant1 = s1.quantification(s1_intensities, 'CL', factors=factors)\n",
    "\n",
    "\n",
    "    # print(s1.metadata)\n",
    "    \n",
    "    s2 = hs.load(filename, signal_type=\"EDS_TEM\")\n",
    "    s2.add_elements(elements)\n",
    "    s2.axes_manager[-1].name = 'E'\n",
    "    s2.axes_manager['E'].units = 'keV'\n",
    "    s2.axes_manager['E'].scale = s2_dispersion\n",
    "    s2.axes_manager['E'].offset = -s2_offset\n",
    "    m2 = s2.create_model()\n",
    "    m2.add_family_lines(family_lines)\n",
    "    # m2.add_polynomial_background(order=bg_order)\n",
    "    # m2.fit_background()\n",
    "    m2.fit(bounded=True)\n",
    "    bw2 = s2.estimate_background_windows(line_width=line_width)\n",
    "    iw2 =  s2.estimate_integration_windows(windows_width=window_width)\n",
    "    s2_intensities = s2.get_lines_intensity(background_windows=bw2, integration_windows=iw2)\n",
    "    quant2 = s2.quantification(s2_intensities, 'CL', factors=factors)\n",
    "    \n",
    "    s3 = hs.load(filename, signal_type=\"EDS_TEM\")\n",
    "    s3.add_elements(elements)\n",
    "    # m3 = s3.create_model(auto_background=False)\n",
    "    m3 = s3.create_model()\n",
    "    m3.add_family_lines(family_lines)\n",
    "    # m3.add_polynomial_background(order=bg_order)\n",
    "    # m3.fit_background()\n",
    "    m3.fit()\n",
    "    m3.calibrate_energy_axis(calibrate='scale')\n",
    "    m3.calibrate_energy_axis(calibrate='offset')\n",
    "    bw3 = s3.estimate_background_windows(line_width=line_width)\n",
    "    iw3 =  s3.estimate_integration_windows(windows_width=window_width)\n",
    "    s3_intensities = s3.get_lines_intensity(background_windows=bw3, integration_windows=iw3)\n",
    "    quant3 = s3.quantification(s3_intensities, 'CL', factors=factors)\n",
    "\n",
    "    if plot:\n",
    "        m3.plot(True, legend='auto')\n",
    "        # hs.plot.plot_spectra([s1,s2,s3], legend='auto')\n",
    "\n",
    "    # return the quantification results, and the three signals\n",
    "    return [quant1, quant2, quant3], [s1, s2, s3]\n",
    "\n",
    "# pretty print of quantification results\n",
    "def print_quant_table(title, quant_list, elements=['As', 'Ga']):\n",
    "    print(f\"\\n{title}\")\n",
    "    print(f\"\\n{'':<11}| \" + f\"{'s1':<10}| \" + f\"{'s2':<10}| \" + f\"{'s3':<10}\")\n",
    "    for q in range(len(elements)):\n",
    "        print(f\"{elements[q]:<11}| \" + f\"{quant_list[0][q].data[0]:<10.2f}| \" + f\"{quant_list[1][q].data[0]:<10.2f}| \" + f\"{quant_list[2][q].data[0]:<10.2f}\")\n",
    "\n",
    "def print_dispersion_offset(s_list):\n",
    "    print(f\"\\n{'':<11}| \" + f\"{'s1':<10}| \" + f\"{'s2':<10}| \" + f\"{'s3':<10}\")\n",
    "    print(f\"{'dispersion':<11}| \" + f\"{s_list[0].axes_manager[-1].scale:<10.6f}| \" + f\"{s_list[1].axes_manager[-1].scale:<10.6f}| \" + f\"{s_list[2].axes_manager[-1].scale:<10.6f}\")\n",
    "    print(f\"{'offset':<11}| \" + f\"{s_list[0].axes_manager[-1].offset:<10.6f}| \" + f\"{s_list[1].axes_manager[-1].offset:<10.6f}| \" + f\"{s_list[2].axes_manager[-1].offset:<10.6f}\")\n",
    "\n"
   ]
  },
  {
   "cell_type": "code",
   "execution_count": null,
   "metadata": {},
   "outputs": [],
   "source": []
  },
  {
   "cell_type": "code",
   "execution_count": 5,
   "metadata": {},
   "outputs": [],
   "source": [
    "# s3 = hs.load(emsa[7], signal_type=\"EDS_TEM\")\n",
    "# s3.add_elements(elements)\n",
    "# # m3 = s3.create_model(auto_background=False)\n",
    "# m3 = s3.create_model()\n",
    "# m3.add_family_lines(family_lines)\n",
    "# # m3.add_polynomial_background(order=bg_order)\n",
    "# # m3.fit_background()\n",
    "# m3.fit()\n",
    "# m3.calibrate_energy_axis(calibrate='scale')\n",
    "# m3.calibrate_energy_axis(calibrate='offset')\n",
    "# # bw3 = s3.estimate_background_windows(line_width=line_width)\n",
    "# # iw3 =  s3.estimate_integration_windows(windows_width=window_width)\n",
    "# # s3_intensities = s3.get_lines_intensity(background_windows=bw3, integration_windows=iw3)\n",
    "# # quant3 = s3.quantification(s3_intensities, 'CL', factors=factors)"
   ]
  },
  {
   "cell_type": "code",
   "execution_count": 6,
   "metadata": {},
   "outputs": [],
   "source": [
    "# for key in m3.active_components:\n",
    "    # print(key.print_current_values())"
   ]
  },
  {
   "cell_type": "code",
   "execution_count": 7,
   "metadata": {},
   "outputs": [],
   "source": [
    "# m3.plot?"
   ]
  },
  {
   "cell_type": "code",
   "execution_count": 8,
   "metadata": {},
   "outputs": [
    {
     "name": "stdout",
     "output_type": "stream",
     "text": [
      "[########################################] | 100% Completed | 117.77 ms\n",
      "[########################################] | 100% Completed | 107.12 ms\n",
      "[########################################] | 100% Completed | 118.10 ms\n",
      "\n",
      "Quantification results 5kV L-series\n",
      "\n",
      "           | s1        | s2        | s3        \n",
      "As         | 45.06     | 44.56     | 44.56     \n",
      "Ga         | 54.94     | 55.44     | 55.44     \n"
     ]
    }
   ],
   "source": [
    "factors5 = [1.210, 1.086] # 5kV k-factors, As then Ga on the L-series\n",
    "family_lines=['Ga_La', 'As_La']\n",
    "quant_list5, s_list5 = quant_three_ways(emsa[4], factors5, family_lines=family_lines, plot=False)\n",
    "print_quant_table(\"Quantification results 5kV L-series\", quant_list5)\n",
    "# print_dispersion_offset(s_list5)"
   ]
  },
  {
   "cell_type": "code",
   "execution_count": 9,
   "metadata": {},
   "outputs": [
    {
     "name": "stdout",
     "output_type": "stream",
     "text": [
      "[########################################] | 100% Completed | 111.93 ms\n",
      "[########################################] | 100% Completed | 119.89 ms\n",
      "[########################################] | 100% Completed | 119.06 ms\n",
      "\n",
      "Quantification results 10kV L-series\n",
      "\n",
      "           | s1        | s2        | s3        \n",
      "As         | 100.00    | 100.00    | 100.00    \n",
      "Ga         | 0.00      | 0.00      | 0.00      \n"
     ]
    }
   ],
   "source": [
    "factors10 = [1.310, 1.223] # 10kV k-factors, Ga and As L-series\n",
    "family_lines=['As_La', 'Ga_La']\n",
    "quant_list10, s_list10 = quant_three_ways(emsa[5], factors10, family_lines=family_lines, plot=False)\n",
    "print_quant_table(\"Quantification results 10kV L-series\", quant_list10)\n",
    "# print_dispersion_offset(s_list10)"
   ]
  },
  {
   "cell_type": "code",
   "execution_count": 10,
   "metadata": {},
   "outputs": [
    {
     "name": "stdout",
     "output_type": "stream",
     "text": [
      "[########################################] | 100% Completed | 110.87 ms\n",
      "[########################################] | 100% Completed | 109.68 ms\n",
      "[########################################] | 100% Completed | 119.56 ms\n",
      "\n",
      "Quantification results 15kV L-series\n",
      "\n",
      "           | s1        | s2        | s3        \n",
      "As         | 5.00      | 5.33      | 4.70      \n",
      "Ga         | 95.00     | 94.67     | 95.30     \n"
     ]
    }
   ],
   "source": [
    "factors15 = [1.331, 1.259] # 15kV k-factors, Ga and As L-series\n",
    "family_lines=['Ga_La', 'As_La']\n",
    "quant_list15, s_list15 = quant_three_ways(emsa[6], factors15, family_lines=family_lines)\n",
    "print_quant_table(\"Quantification results 15kV L-series\", quant_list15)\n",
    "# print_dispersion_offset(s_list15)"
   ]
  },
  {
   "cell_type": "code",
   "execution_count": 17,
   "metadata": {},
   "outputs": [
    {
     "name": "stdout",
     "output_type": "stream",
     "text": [
      "[########################################] | 100% Completed | 106.52 ms\n",
      "[########################################] | 100% Completed | 119.96 ms\n",
      "[########################################] | 100% Completed | 114.45 ms\n",
      "\n",
      "Quantification results 30kV\n",
      "\n",
      "           | s1        | s2        | s3        \n",
      "As         | 55.55     | 57.00     | 56.35     \n",
      "Ga         | 44.45     | 43.00     | 43.65     \n",
      "\n",
      "           | s1        | s2        | s3        \n",
      "dispersion | 0.010000  | 0.010028  | 0.010003  \n",
      "offset     | -0.200000 | -0.211377 | -0.203917 \n"
     ]
    }
   ],
   "source": [
    "# factors30 = [4.191, 1.986, 3.268, 1.505] # 30kV k-factors, Ga and As K-series\n",
    "# family_lines=['As_Ka', 'C_Ka', 'Ga_Ka',  'O_Ka']\n",
    "# elements=['As', 'C', 'Ga', 'O']\n",
    "factors30 = [4.191, 3.268] # 30kV k-factors, Ga and As K-series\n",
    "family_lines=['As_Ka', 'Ga_Ka']\n",
    "elements=['As', 'Ga']\n",
    "quant_list30, s_list30 = quant_three_ways(emsa[7], factors30, family_lines=family_lines, elements=elements, plot=True)\n",
    "print_quant_table(\"Quantification results 30kV\", quant_list30, elements)\n",
    "print_dispersion_offset(s_list30)\n"
   ]
  },
  {
   "cell_type": "code",
   "execution_count": 12,
   "metadata": {},
   "outputs": [],
   "source": [
    "# print huge table\n",
    "def print_all_quants(Vaccs, quants, elements):\n",
    "    names = ['s1', 's2', 's3']\n",
    "    for i in range(len(Vaccs)):\n",
    "        lines = ''\n",
    "        for line in quants[i][0]:\n",
    "            lines += f\" {line.metadata.Sample.xray_lines[0]}\"\n",
    "        # lines = f\"({quants[i][0][0].metadata.Sample.xray_lines[0]}, {quants[i][0][1].metadata.Sample.xray_lines[0]})\"\n",
    "        print(f\"\\n{Vaccs[i]} kV ({lines} ) \\n{'-'*32}\")\n",
    "        print(f\"{'':<8}| \" + f\"{elements[0]:<10}| \" + f\"{elements[1]:<10}\")\n",
    "        for j in range(len(names)):\n",
    "            print(f\"{names[j]:<8}| \" + f\"{quants[i][j][0].data[0]:<10.2f}| \" + f\"{quants[i][j][1].data[0]:<10.2f}\")\n",
    "        \n"
   ]
  },
  {
   "cell_type": "code",
   "execution_count": 13,
   "metadata": {},
   "outputs": [
    {
     "name": "stdout",
     "output_type": "stream",
     "text": [
      "\n",
      "5 kV ( As_La Ga_La ) \n",
      "--------------------------------\n",
      "        | As        | Ga        \n",
      "s1      | 45.06     | 54.94     \n",
      "s2      | 44.56     | 55.44     \n",
      "s3      | 44.56     | 55.44     \n",
      "\n",
      "10 kV ( As_La Ga_La ) \n",
      "--------------------------------\n",
      "        | As        | Ga        \n",
      "s1      | 100.00    | 0.00      \n",
      "s2      | 100.00    | 0.00      \n",
      "s3      | 100.00    | 0.00      \n",
      "\n",
      "15 kV ( As_La Ga_La ) \n",
      "--------------------------------\n",
      "        | As        | Ga        \n",
      "s1      | 5.00      | 95.00     \n",
      "s2      | 5.33      | 94.67     \n",
      "s3      | 4.70      | 95.30     \n",
      "\n",
      "30 kV ( As_Ka Ga_Ka ) \n",
      "--------------------------------\n",
      "        | As        | Ga        \n",
      "s1      | 55.55     | 44.45     \n",
      "s2      | 57.00     | 43.00     \n",
      "s3      | 56.35     | 43.65     \n"
     ]
    }
   ],
   "source": [
    "Vaccs = [5, 10, 15, 30]\n",
    "quants = [quant_list5, quant_list10, quant_list15, quant_list30]\n",
    "elements = ['As', 'Ga']\n",
    "dispersions = [s_list5, s_list10, s_list15, s_list30]\n",
    "print_all_quants(Vaccs, quants, elements)"
   ]
  },
  {
   "cell_type": "code",
   "execution_count": null,
   "metadata": {},
   "outputs": [],
   "source": []
  }
 ],
 "metadata": {
  "kernelspec": {
   "display_name": "Python 3.8.13 ('hspy')",
   "language": "python",
   "name": "python3"
  },
  "language_info": {
   "codemirror_mode": {
    "name": "ipython",
    "version": 3
   },
   "file_extension": ".py",
   "mimetype": "text/x-python",
   "name": "python",
   "nbconvert_exporter": "python",
   "pygments_lexer": "ipython3",
   "version": "3.8.13"
  },
  "orig_nbformat": 4,
  "vscode": {
   "interpreter": {
    "hash": "eedee208f6f0fe67ac5ec53646d8853bbb152098f521b748accd5958a126e1a5"
   }
  }
 },
 "nbformat": 4,
 "nbformat_minor": 2
}
