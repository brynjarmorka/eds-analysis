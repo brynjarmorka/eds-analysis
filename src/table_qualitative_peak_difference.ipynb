{
 "cells": [
  {
   "cell_type": "markdown",
   "metadata": {},
   "source": [
    "## Plotting the qualitative data\n",
    "\n",
    "First use calibration from Ga and As to make a table to see if the peaks deviate from the expected values.\n",
    "\n",
    "Then plot the qualitative data of each sample place."
   ]
  },
  {
   "cell_type": "code",
   "execution_count": 1,
   "metadata": {},
   "outputs": [],
   "source": [
    "import numpy as np\n",
    "import plotly.graph_objects as go\n",
    "import plotly.express as px\n",
    "import hyperspy.api as hs\n",
    "from scipy.signal import find_peaks\n",
    "\n",
    "# utils and helper_files\n",
    "from utils.get_raw_data import get_array_and_names\n",
    "from helper_files.normalizations import normalize_high_peak\n",
    "from helper_files.peak_ratios import channel_to_kev, make_fit, n_gaussians_and_m_order_bg\n",
    "from helper_files.calibration import calibrate_channel_width_two_peaks"
   ]
  },
  {
   "cell_type": "code",
   "execution_count": 2,
   "metadata": {},
   "outputs": [],
   "source": [
    "ga, ga_names = get_array_and_names('GaAs')\n",
    "mo, mo_names = get_array_and_names('Mo')\n",
    "nw, nw_names = get_array_and_names('NW')\n",
    "cu, cu_names = get_array_and_names('Cu') # mostly C\n",
    "si, si_names = get_array_and_names('Si')\n",
    "fe, fe_names = get_array_and_names('Fe') # it is Al not Fe"
   ]
  },
  {
   "cell_type": "code",
   "execution_count": 3,
   "metadata": {},
   "outputs": [],
   "source": [
    "def calibrate_spectrum(spectrum, peaks_keV, initial_dispersion=0.01, initial_offset=20, deg=12, plot_fit=False, prominence=0.01):\n",
    "    \"\"\"\n",
    "    Calibrate a spectrum using two peak positions.\n",
    "    Finding the peaks automatically.\n",
    "    Making a fit model with n gaussians and <deg> order background.\n",
    "    Finding the closest peaks to the given peaks_keV.\n",
    "    Then returning the dispersion and offset.\n",
    "    \"\"\"\n",
    "    channels = np.arange(len(spectrum))\n",
    "    # find peaks\n",
    "    peaks_channel_est, _ = find_peaks(spectrum, prominence=0.01)\n",
    "    peaks_keV_est = channel_to_kev(peaks_channel_est, dispersion=initial_dispersion, offset=initial_offset)\n",
    "\n",
    "    # find the peaks that are closest to the peaks_keV\n",
    "    peaks_to_fit_index = []\n",
    "    for peak in peaks_keV:\n",
    "        peaks_to_fit_index.append(np.argmin(np.abs(peaks_keV_est - peak)))\n",
    "\n",
    "    # fit with make_fit\n",
    "    # make_fit(array, x, deg=12, prominence=0.01, pixel_removal=50, offset=20) >>> fit_vals, covar\n",
    "    fit_vals, _ = make_fit(spectrum, channels, deg=deg, prominence=prominence)\n",
    "\n",
    "\n",
    "    fit_peaks = fit_vals[deg + 2::3]\n",
    "    dispersion, offset = calibrate_channel_width_two_peaks(fit_peaks[peaks_to_fit_index], peaks_keV)\n",
    "    fit_peaks_keV = channel_to_kev(fit_peaks, dispersion=dispersion, offset=offset)\n",
    "    keV = channel_to_kev(channels, dispersion=dispersion, offset=offset)\n",
    "    if plot_fit:\n",
    "        fit = n_gaussians_and_m_order_bg(channels, deg, *fit_vals)\n",
    "        fig = go.Figure()\n",
    "        fig.add_trace(go.Scatter(x=keV, y=spectrum, name='spectrum', mode='markers'))\n",
    "        fig.add_trace(go.Scatter(x=keV, y=fit, name='fit'))\n",
    "        fig.add_vline(x=fit_peaks_keV[peaks_to_fit_index[0]], line_width=2, line_dash=\"dash\")\n",
    "        fig.add_vline(x=fit_peaks_keV[peaks_to_fit_index[1]], line_width=2, line_dash=\"dash\")\n",
    "        fig.update_layout(title='Calibration of the spectrum', xaxis_title='Energy [keV]', yaxis_title='Relative intensity')\n",
    "        fig.show()\n",
    "    \n",
    "    return dispersion, offset\n",
    "\n",
    "def find_nearest(array, value, max_deviation=0.05):\n",
    "    \"\"\"\n",
    "    Finds the index of the value in array that is closest to value.\n",
    "    If the deviation is larger than max_deviation in percent, returns None.\n",
    "\n",
    "    Parameters\n",
    "    ----------\n",
    "    array : array of floats\n",
    "        peak array\n",
    "    value : float\n",
    "        float to find the closest value to\n",
    "    max_deviation : float, optional\n",
    "        max deviation in percent, by default 0.05\n",
    "\n",
    "    Returns\n",
    "    -------\n",
    "    index : int or None\n",
    "        Index of the closest value in array to value. None if the deviation is larger than max_deviation.\n",
    "    \"\"\"\n",
    "    array = np.asarray(array)\n",
    "    idx = (np.abs(array - value)).argmin()\n",
    "    # check if the deviation is larger than max_deviation in percent\n",
    "    if np.abs(array[idx] - value) / value > max_deviation:\n",
    "        print(f'Warning: {array[idx]} is not within {max_deviation * 100}% of {value}')\n",
    "        return idx\n",
    "    return idx\n",
    "\n",
    "def peak_deviation(peaks_energy, peaks_fit):\n",
    "    \"\"\"\n",
    "    Finds the corresponding peaks in peaks_fit to peaks_energy,\n",
    "    and returns the deviation in percent.\n",
    "\n",
    "    peaks_energy is the array of the peaks in keV, in their theoretical position.\n",
    "    \"\"\"\n",
    "    peaks_energy = np.array(peaks_energy)\n",
    "    peaks_fit_selected = []\n",
    "    for p in peaks_energy:\n",
    "        index = find_nearest(peaks_fit, p)\n",
    "        if index is not None:\n",
    "            peaks_fit_selected.append(peaks_fit[index])\n",
    "\n",
    "    peaks_fit_selected = np.array(peaks_fit_selected)\n",
    "    # deviation = np.abs(peaks_fit_selected - peaks_energy) / peaks_energy * 100\n",
    "    # deviation = (peaks_fit_selected - peaks_energy) / peaks_energy * 100 # this is in percent\n",
    "    deviation = (peaks_fit_selected - peaks_energy) * 1000 # deviation in eV\n",
    "    deviation_percent = (peaks_fit_selected - peaks_energy) / peaks_energy * 100\n",
    "\n",
    "    return deviation, peaks_fit_selected, deviation_percent\n"
   ]
  },
  {
   "cell_type": "code",
   "execution_count": 4,
   "metadata": {},
   "outputs": [
    {
     "name": "stdout",
     "output_type": "stream",
     "text": [
      "Calibrating on GaAs_30kV, with peaks [1.098, 10.5436]\n",
      "The calibration factor is: 0.0100300 keV/channel, with 21.127 channels zero offset\n",
      "dispersion: 0.010030009470672611, offset: 21.1267053826366\n"
     ]
    }
   ],
   "source": [
    "peaks_calibration = [1.098, 10.5436]\n",
    "print(f'Calibrating on {ga_names[-1]}, with peaks {peaks_calibration}')\n",
    "dispersion, offset = calibrate_spectrum(ga[-1], peaks_calibration, plot_fit=False)\n",
    "print(f'dispersion: {dispersion}, offset: {offset}')\n"
   ]
  },
  {
   "cell_type": "code",
   "execution_count": 5,
   "metadata": {},
   "outputs": [],
   "source": [
    "# figure out how good the calibration is on other peaks\n",
    "def calibration_check_on_peaks(spectrum, elements, lines, vacc, dispersion, offset):\n",
    "    \"\"\"\n",
    "    Checks the calibration on a spectrum.\n",
    "    Quantifies this by the deviation of the peak positions from the expected positions.\n",
    "\n",
    "    Parameters\n",
    "    ----------\n",
    "    spectrum : array of floats\n",
    "        intensity values\n",
    "    elements : array of strings\n",
    "        elements to check\n",
    "    lines : array of strings\n",
    "        lines to check\n",
    "    vacc : int\n",
    "        acceleration voltage\n",
    "    dispersion : float\n",
    "        dispersion of the calibration\n",
    "    offset : float\n",
    "        offset of the calibration in channels\n",
    "    \n",
    "    Returns\n",
    "    -------\n",
    "    deviation : array of floats\n",
    "        deviation of the peak positions from the expected positions\n",
    "    peaks_fit : array of floats\n",
    "        peak positions of the fit, only the selected peaks\n",
    "    peaks_energy : array of floats\n",
    "        expected peak positions, from HyperSpy\n",
    "    peaks_names : array of strings\n",
    "        names of the peaks\n",
    "    \"\"\"    \n",
    "    peaks_energy = []\n",
    "    peaks_names = []\n",
    "    for e in elements:\n",
    "        for l in lines:\n",
    "            try:\n",
    "                energy = float(hs.material.elements[e].Atomic_properties['Xray_lines'][l]['energy (keV)'])\n",
    "                if energy < vacc:\n",
    "                    peaks_energy.append(energy)\n",
    "                    peaks_names.append(f'{e} {l}')\n",
    "                else:\n",
    "                    print(f'{e} {l} at {energy} is above E_0 = {vacc} kV')\n",
    "                if energy > vacc / 2:\n",
    "                    print(f'Warning: {e:<2} {l:<2} at {energy:<8} have overvoltage below 2')\n",
    "            except KeyError:\n",
    "                pass\n",
    "    print(f'Checking peaks: {peaks_names} at {peaks_energy}, with Vacc = {vacc} kV')\n",
    "\n",
    "    channels = np.arange(len(spectrum))\n",
    "    # keV = channel_to_kev(channels, dispersion=dispersion, offset=offset)\n",
    "    fit_vals, _ = make_fit(spectrum, channels, deg=12)\n",
    "    fit_peaks = fit_vals[12 + 2::3]\n",
    "    fit_peaks_kev = channel_to_kev(fit_peaks, dispersion=dispersion, offset=offset)\n",
    "\n",
    "    dev, peaks_fit_selected, dev_percent = peak_deviation(peaks_energy, fit_peaks_kev)\n",
    "    print(dev)\n",
    "    for i in range(len(dev)):\n",
    "        print(f'{peaks_names[i]:<6} {peaks_fit_selected[i]:<8.4f} deviates {dev[i]:.1f} eV from {peaks_energy[i]} ({dev_percent[i]:.3f} %)')\n",
    "\n",
    "    return dev, peaks_fit_selected, peaks_energy, peaks_names, dev_percent"
   ]
  },
  {
   "cell_type": "code",
   "execution_count": 6,
   "metadata": {},
   "outputs": [
    {
     "name": "stdout",
     "output_type": "stream",
     "text": [
      "Checking peaks: ['As Ka', 'As La', 'Ga Ka', 'Ga La'] at [10.5436, 1.2819, 9.2517, 1.098], with Vacc = 30 kV\n",
      "[0.         4.72343492 2.18726621 0.        ]\n",
      "As Ka  10.5436  deviates 0.0 eV from 10.5436 (0.000 %)\n",
      "As La  1.2866   deviates 4.7 eV from 1.2819 (0.368 %)\n",
      "Ga Ka  9.2539   deviates 2.2 eV from 9.2517 (0.024 %)\n",
      "Ga La  1.0980   deviates 0.0 eV from 1.098 (0.000 %)\n",
      "Warning: As Ka at 10.5436  have overvoltage below 2\n",
      "Warning: Ga Ka at 9.2517   have overvoltage below 2\n",
      "Checking peaks: ['As Ka', 'As La', 'Ga Ka', 'Ga La'] at [10.5436, 1.2819, 9.2517, 1.098], with Vacc = 15 kV\n",
      "[-6.4326328   4.82293385  2.08849021  1.41874845]\n",
      "As Ka  10.5372  deviates -6.4 eV from 10.5436 (-0.061 %)\n",
      "As La  1.2867   deviates 4.8 eV from 1.2819 (0.376 %)\n",
      "Ga Ka  9.2538   deviates 2.1 eV from 9.2517 (0.023 %)\n",
      "Ga La  1.0994   deviates 1.4 eV from 1.098 (0.129 %)\n",
      "Checking peaks: ['As La', 'Ga La'] at [1.2819, 1.098], with Vacc = 10 kV\n",
      "[5.09112301 2.14722683]\n",
      "As La  1.2870   deviates 5.1 eV from 1.2819 (0.397 %)\n",
      "Ga La  1.1001   deviates 2.1 eV from 1.098 (0.196 %)\n",
      "Checking peaks: ['As La', 'Ga La'] at [1.2819, 1.098], with Vacc = 5 kV\n",
      "[5.34298029 2.95881581]\n",
      "As La  1.2872   deviates 5.3 eV from 1.2819 (0.417 %)\n",
      "Ga La  1.1010   deviates 3.0 eV from 1.098 (0.269 %)\n"
     ]
    }
   ],
   "source": [
    "ga30 = calibration_check_on_peaks(ga[-1], ['As', 'Ga'], ['Ka', 'La'], 30, dispersion, offset)\n",
    "ga15 = calibration_check_on_peaks(ga[-2], ['As', 'Ga'], ['Ka', 'La'], 15, dispersion, offset)\n",
    "ga10 = calibration_check_on_peaks(ga[-3], ['As', 'Ga'], ['La'], 10, dispersion, offset)\n",
    "ga05 = calibration_check_on_peaks(ga[0], ['As', 'Ga'], ['La'], 5, dispersion, offset)\n"
   ]
  },
  {
   "cell_type": "code",
   "execution_count": 7,
   "metadata": {},
   "outputs": [],
   "source": [
    "# see lines\n",
    "# hs.material.elements['Fe'].Atomic_properties['Xray_lines']"
   ]
  },
  {
   "cell_type": "code",
   "execution_count": 8,
   "metadata": {},
   "outputs": [
    {
     "name": "stdout",
     "output_type": "stream",
     "text": [
      "Checking peaks: ['As La', 'As Ka', 'Ga La', 'Ga Ka', 'Cu La', 'Cu Ka'] at [1.2819, 10.5436, 1.098, 9.2517, 0.9295, 8.0478], with Vacc = 30 kV\n",
      "[ 5.40676788 -1.05358603  3.49089897  2.24209655  7.96298108  3.66170416]\n",
      "As La  1.2873   deviates 5.4 eV from 1.2819 (0.422 %)\n",
      "As Ka  10.5425  deviates -1.1 eV from 10.5436 (-0.010 %)\n",
      "Ga La  1.1015   deviates 3.5 eV from 1.098 (0.318 %)\n",
      "Ga Ka  9.2539   deviates 2.2 eV from 9.2517 (0.024 %)\n",
      "Cu La  0.9375   deviates 8.0 eV from 0.9295 (0.857 %)\n",
      "Cu Ka  8.0515   deviates 3.7 eV from 8.0478 (0.045 %)\n"
     ]
    }
   ],
   "source": [
    "nw30 = calibration_check_on_peaks(nw[-1], ['As', 'Ga', 'Cu', ], ['La', 'Ka',], 30, dispersion, offset)"
   ]
  },
  {
   "cell_type": "code",
   "execution_count": 9,
   "metadata": {},
   "outputs": [
    {
     "name": "stdout",
     "output_type": "stream",
     "text": [
      "Checking peaks: ['As La', 'As Ka', 'Ga La', 'Ga Ka', 'Cu La', 'Cu Ka'] at [1.2819, 10.5436, 1.098, 9.2517, 0.9295, 8.0478], with Vacc = 30 kV\n",
      "[ 12.82224062 -21.32949718  11.46232691 -14.17835129  16.42517536\n",
      "  -9.16096044]\n",
      "As La  1.2947   deviates 12.8 eV from 1.2819 (1.000 %)\n",
      "As Ka  10.5223  deviates -21.3 eV from 10.5436 (-0.202 %)\n",
      "Ga La  1.1095   deviates 11.5 eV from 1.098 (1.044 %)\n",
      "Ga Ka  9.2375   deviates -14.2 eV from 9.2517 (-0.153 %)\n",
      "Cu La  0.9459   deviates 16.4 eV from 0.9295 (1.767 %)\n",
      "Cu Ka  8.0386   deviates -9.2 eV from 8.0478 (-0.114 %)\n"
     ]
    }
   ],
   "source": [
    "dispersion_AZ = 0.01\n",
    "offset_AZ = 20\n",
    "nw30_AZ = calibration_check_on_peaks(nw[-1], ['As', 'Ga', 'Cu', ], ['La', 'Ka',], 30, dispersion_AZ, offset_AZ)"
   ]
  },
  {
   "cell_type": "code",
   "execution_count": 10,
   "metadata": {},
   "outputs": [
    {
     "name": "stdout",
     "output_type": "stream",
     "text": [
      "Checking peaks: ['As La', 'As Ka', 'Ga La', 'Ga Ka', 'Cu La', 'Cu Ka'] at [1.2819, 10.5436, 1.098, 9.2517, 0.9295, 8.0478], with Vacc = 30 kV\n",
      "[ 5.6304629  -2.68413977  3.75182143  0.86970932  8.25676585  2.53022888]\n",
      "As La  1.2875   deviates 5.6 eV from 1.2819 (0.439 %)\n",
      "As Ka  10.5409  deviates -2.7 eV from 10.5436 (-0.025 %)\n",
      "Ga La  1.1018   deviates 3.8 eV from 1.098 (0.342 %)\n",
      "Ga Ka  9.2526   deviates 0.9 eV from 9.2517 (0.009 %)\n",
      "Cu La  0.9378   deviates 8.3 eV from 0.9295 (0.888 %)\n",
      "Cu Ka  8.0503   deviates 2.5 eV from 8.0478 (0.031 %)\n"
     ]
    }
   ],
   "source": [
    "# # # if I use calibration from model fit in HyperSpy, Ga Ka_Calibrated center_ is 9.2525 and not 9.2528\n",
    "# HyperSpy modelfit of 30 kV: dispersion = 0.010028, offset = 0.211377  / 0.010028\n",
    "\n",
    "dispersion_HS = 0.010028\n",
    "offset_HS =  0.211377  / 0.010028\n",
    "nw30_HS = calibration_check_on_peaks(nw[-1], ['As', 'Ga', 'Cu', ], ['La', 'Ka',], 30, dispersion_HS, offset_HS)"
   ]
  },
  {
   "cell_type": "code",
   "execution_count": 11,
   "metadata": {},
   "outputs": [
    {
     "name": "stdout",
     "output_type": "stream",
     "text": [
      "Checking peaks: ['As La', 'As Ka', 'Ga La', 'Ga Ka', 'Cu La', 'Cu Ka'] at [1.2819, 10.5436, 1.098, 9.2517, 0.9295, 8.0478], with Vacc = 30 kV\n",
      "[ 7.1793776   9.83848723  5.08041878 11.86446956  9.3908793  12.09923739]\n",
      "As La  1.2891   deviates 7.2 eV from 1.2819 (0.560 %)\n",
      "As Ka  10.5534  deviates 9.8 eV from 10.5436 (0.093 %)\n",
      "Ga La  1.1031   deviates 5.1 eV from 1.098 (0.463 %)\n",
      "Ga Ka  9.2636   deviates 11.9 eV from 9.2517 (0.128 %)\n",
      "Cu La  0.9389   deviates 9.4 eV from 0.9295 (1.010 %)\n",
      "Cu Ka  8.0599   deviates 12.1 eV from 8.0478 (0.150 %)\n"
     ]
    }
   ],
   "source": [
    "# Calibrated on Mo La and Mo Ka at the bottom of this file. Got:\n",
    "dispersion_mo = 0.010039892338014457\n",
    "offset_mo = 21.076486916545974\n",
    "\n",
    "nw30_Mo = calibration_check_on_peaks(nw[-1], ['As', 'Ga', 'Cu', ], ['La', 'Ka',], 30, dispersion_mo, offset_mo)"
   ]
  },
  {
   "cell_type": "code",
   "execution_count": 12,
   "metadata": {},
   "outputs": [
    {
     "name": "stdout",
     "output_type": "stream",
     "text": [
      "Warning: Mo Ka at 17.4793  have overvoltage below 2\n",
      "Checking peaks: ['Mo Ka', 'Mo La'] at [17.4793, 2.2932], with Vacc = 30 kV\n",
      "[-15.81438593  19.67075812]\n",
      "Mo Ka  17.4635  deviates -15.8 eV from 17.4793 (-0.090 %)\n",
      "Mo La  2.3129   deviates 19.7 eV from 2.2932 (0.858 %)\n",
      "Warning: Mo Ka at 17.4793  have overvoltage below 2\n",
      "Checking peaks: ['Mo Ka', 'Mo La'] at [17.4793, 2.2932], with Vacc = 30 kV\n",
      "[-56.79752797  24.01777589]\n",
      "Mo Ka  17.4225  deviates -56.8 eV from 17.4793 (-0.325 %)\n",
      "Mo La  2.3172   deviates 24.0 eV from 2.2932 (1.047 %)\n",
      "Warning: Mo Ka at 17.4793  have overvoltage below 2\n",
      "Checking peaks: ['Mo Ka', 'Mo La'] at [17.4793, 2.2932], with Vacc = 30 kV\n",
      "[-18.83152105  19.68898566]\n",
      "Mo Ka  17.4605  deviates -18.8 eV from 17.4793 (-0.108 %)\n",
      "Mo La  2.3129   deviates 19.7 eV from 2.2932 (0.859 %)\n",
      "Warning: Mo Ka at 17.4793  have overvoltage below 2\n",
      "Checking peaks: ['Mo Ka', 'Mo La'] at [17.4793, 2.2932], with Vacc = 30 kV\n",
      "[ 1.89709505 22.45388662]\n",
      "Mo Ka  17.4812  deviates 1.9 eV from 17.4793 (0.011 %)\n",
      "Mo La  2.3157   deviates 22.5 eV from 2.2932 (0.979 %)\n"
     ]
    }
   ],
   "source": [
    "mo30 = calibration_check_on_peaks(mo[-1], ['Mo'], ['Ka','La'], 30, dispersion, offset)\n",
    "mo30_AZ = calibration_check_on_peaks(mo[-1], ['Mo'], ['Ka','La'], 30, dispersion_AZ, offset_AZ)\n",
    "mo30_HS = calibration_check_on_peaks(mo[-1], ['Mo'], ['Ka','La'], 30, dispersion_HS, offset_HS)\n",
    "mo30_Mo = calibration_check_on_peaks(mo[-1], ['Mo'], ['Ka','La'], 30, dispersion_mo, offset_mo)"
   ]
  },
  {
   "cell_type": "code",
   "execution_count": 13,
   "metadata": {},
   "outputs": [
    {
     "name": "stdout",
     "output_type": "stream",
     "text": [
      "Checking peaks: ['Si Ka'] at [1.7397], with Vacc = 30 kV\n",
      "[-3.17428326]\n",
      "Si Ka  1.7365   deviates -3.2 eV from 1.7397 (-0.182 %)\n",
      "Checking peaks: ['Si Ka'] at [1.7397], with Vacc = 30 kV\n",
      "[2.89714062]\n",
      "Si Ka  1.7426   deviates 2.9 eV from 1.7397 (0.167 %)\n",
      "Checking peaks: ['Si Ka'] at [1.7397], with Vacc = 30 kV\n",
      "[-3.04058739]\n",
      "Si Ka  1.7367   deviates -3.0 eV from 1.7397 (-0.175 %)\n",
      "Checking peaks: ['Si Ka'] at [1.7397], with Vacc = 30 kV\n",
      "[-0.95904471]\n",
      "Si Ka  1.7387   deviates -1.0 eV from 1.7397 (-0.055 %)\n"
     ]
    }
   ],
   "source": [
    "si30 = calibration_check_on_peaks(si[-1], ['Si'], ['Ka'], 30, dispersion, offset)\n",
    "si30_AZ = calibration_check_on_peaks(si[-1], ['Si'], ['Ka'], 30, dispersion_AZ, offset_AZ)\n",
    "si30_HS = calibration_check_on_peaks(si[-1], ['Si'], ['Ka'], 30, dispersion_HS, offset_HS)\n",
    "si30_Mo = calibration_check_on_peaks(si[-1], ['Si'], ['Ka'], 30, dispersion_mo, offset_mo)"
   ]
  },
  {
   "cell_type": "code",
   "execution_count": 14,
   "metadata": {},
   "outputs": [
    {
     "name": "stdout",
     "output_type": "stream",
     "text": [
      "Checking peaks: ['Al Ka'] at [1.4865], with Vacc = 30 kV\n",
      "[-3.85615855]\n",
      "Al Ka  1.4826   deviates -3.9 eV from 1.4865 (-0.259 %)\n",
      "Checking peaks: ['Al Ka'] at [1.4865], with Vacc = 30 kV\n",
      "[2.97487186]\n",
      "Al Ka  1.4895   deviates 3.0 eV from 1.4865 (0.200 %)\n",
      "Checking peaks: ['Al Ka'] at [1.4865], with Vacc = 30 kV\n",
      "[-3.6715985]\n",
      "Al Ka  1.4828   deviates -3.7 eV from 1.4865 (-0.247 %)\n",
      "Checking peaks: ['Al Ka'] at [1.4865], with Vacc = 30 kV\n",
      "[-1.89107738]\n",
      "Al Ka  1.4846   deviates -1.9 eV from 1.4865 (-0.127 %)\n"
     ]
    }
   ],
   "source": [
    "# on Fe, which is really Al\n",
    "al30 = calibration_check_on_peaks(fe[0], ['Al'], ['Ka'], 30, dispersion, offset)\n",
    "al30_AZ = calibration_check_on_peaks(fe[0], ['Al'], ['Ka'], 30, dispersion_AZ, offset_AZ)\n",
    "al30_HS = calibration_check_on_peaks(fe[0], ['Al'], ['Ka'], 30, dispersion_HS, offset_HS)\n",
    "al30_Mo = calibration_check_on_peaks(fe[0], ['Al'], ['Ka'], 30, dispersion_mo, offset_mo)"
   ]
  },
  {
   "cell_type": "code",
   "execution_count": 15,
   "metadata": {},
   "outputs": [
    {
     "name": "stdout",
     "output_type": "stream",
     "text": [
      "Checking peaks: ['Cu Ka', 'C Ka'] at [8.0478, 0.2774], with Vacc = 30 kV\n",
      "Warning: 0.258709671102402 is not within 5.0% of 0.2774\n",
      "[  3.49849352 -18.6903289 ]\n",
      "Cu Ka  8.0513   deviates 3.5 eV from 8.0478 (0.043 %)\n",
      "C Ka   0.2587   deviates -18.7 eV from 0.2774 (-6.738 %)\n",
      "Checking peaks: ['Cu Ka', 'C Ka'] at [8.0478, 0.2774], with Vacc = 30 kV\n",
      "[-9.32368275 -8.19732621]\n",
      "Cu Ka  8.0385   deviates -9.3 eV from 8.0478 (-0.116 %)\n",
      "C Ka   0.2692   deviates -8.2 eV from 0.2774 (-2.955 %)\n",
      "Checking peaks: ['Cu Ka', 'C Ka'] at [8.0478, 0.2774], with Vacc = 30 kV\n",
      "Warning: 0.2591394412731087 is not within 5.0% of 0.2774\n",
      "[  2.36705093 -18.26055873]\n",
      "Cu Ka  8.0502   deviates 2.4 eV from 8.0478 (0.029 %)\n",
      "C Ka   0.2591   deviates -18.3 eV from 0.2774 (-6.583 %)\n",
      "Checking peaks: ['Cu Ka', 'C Ka'] at [8.0478, 0.2774], with Vacc = 30 kV\n",
      "Warning: 0.25946877344681235 is not within 5.0% of 0.2774\n",
      "[ 11.93586594 -17.93122655]\n",
      "Cu Ka  8.0597   deviates 11.9 eV from 8.0478 (0.148 %)\n",
      "C Ka   0.2595   deviates -17.9 eV from 0.2774 (-6.464 %)\n"
     ]
    }
   ],
   "source": [
    "# on Cu, which is mostly C\n",
    "c30 = calibration_check_on_peaks(cu[-1], ['Cu', 'C'], ['Ka'], 30, dispersion, offset)\n",
    "c30_AZ = calibration_check_on_peaks(cu[-1], ['Cu', 'C'], ['Ka'], 30, dispersion_AZ, offset_AZ)\n",
    "c30_HS = calibration_check_on_peaks(cu[-1], ['Cu', 'C'], ['Ka'], 30, dispersion_HS, offset_HS)\n",
    "c30_Mo = calibration_check_on_peaks(cu[-1], ['Cu', 'C'], ['Ka'], 30, dispersion_mo, offset_mo)"
   ]
  },
  {
   "cell_type": "code",
   "execution_count": 16,
   "metadata": {},
   "outputs": [
    {
     "data": {
      "text/plain": [
       "(array([ 5.6304629 , -2.68413977,  3.75182143,  0.86970932,  8.25676585,\n",
       "         2.53022888]),\n",
       " array([ 1.28753046, 10.54091586,  1.10175182,  9.25256971,  0.93775677,\n",
       "         8.05033023]),\n",
       " [1.2819, 10.5436, 1.098, 9.2517, 0.9295, 8.0478],\n",
       " ['As La', 'As Ka', 'Ga La', 'Ga Ka', 'Cu La', 'Cu Ka'],\n",
       " array([ 0.43922793, -0.02545753,  0.34169594,  0.00940054,  0.88830187,\n",
       "         0.03144001]))"
      ]
     },
     "execution_count": 16,
     "metadata": {},
     "output_type": "execute_result"
    }
   ],
   "source": [
    "nw30_HS"
   ]
  },
  {
   "cell_type": "code",
   "execution_count": 17,
   "metadata": {},
   "outputs": [
    {
     "name": "stdout",
     "output_type": "stream",
     "text": [
      "Peak            & Theoretical [keV]    & AZ calib. [eV]  & HS calib. [eV]  &Calib. Ga L alpha *& As K alpha [eV] & Calib. Mo L alpha *& Mo K alpha [eV] \\\\\n",
      "\\hline\n",
      "As L$\\alpha$    & 1.2819               &    12.8,\\,\\,\\,    1.0\\%  &             5.6,\\,\\,\\,    0.4\\%  &             5.4,\\,\\,\\,    0.4\\%  &             7.2,\\,\\,\\,    0.6\\% \\\\\n",
      "As K$\\alpha$    & 10.5436              &   -21.3,\\,\\,\\,   -0.2\\%  &            -2.7,\\,\\,\\,   -0.0\\%  &            -1.1,\\,\\,\\,   -0.0\\%  &             9.8,\\,\\,\\,    0.1\\% \\\\\n",
      "Ga L$\\alpha$    & 1.098                &    11.5,\\,\\,\\,    1.0\\%  &             3.8,\\,\\,\\,    0.3\\%  &             3.5,\\,\\,\\,    0.3\\%  &             5.1,\\,\\,\\,    0.5\\% \\\\\n",
      "Ga K$\\alpha$    & 9.2517               &   -14.2,\\,\\,\\,   -0.2\\%  &             0.9,\\,\\,\\,    0.0\\%  &             2.2,\\,\\,\\,    0.0\\%  &            11.9,\\,\\,\\,    0.1\\% \\\\\n",
      "Cu L$\\alpha$    & 0.9295               &    16.4,\\,\\,\\,    1.8\\%  &             8.3,\\,\\,\\,    0.9\\%  &             8.0,\\,\\,\\,    0.9\\%  &             9.4,\\,\\,\\,    1.0\\% \\\\\n",
      "Cu K$\\alpha$    & 8.0478               &    -9.2,\\,\\,\\,   -0.1\\%  &             2.5,\\,\\,\\,    0.0\\%  &             3.7,\\,\\,\\,    0.0\\%  &            12.1,\\,\\,\\,    0.2\\% \\\\\n",
      "Mo K$\\alpha$    & 17.4793              &   -56.8,\\,\\,\\,   -0.3\\%  &           -18.8,\\,\\,\\,   -0.1\\%  &           -15.8,\\,\\,\\,   -0.1\\%  &             1.9,\\,\\,\\,    0.0\\% \\\\\n",
      "Mo L$\\alpha$    & 2.2932               &    24.0,\\,\\,\\,    1.0\\%  &            19.7,\\,\\,\\,    0.9\\%  &            19.7,\\,\\,\\,    0.9\\%  &            22.5,\\,\\,\\,    1.0\\% \\\\\n",
      "Si K$\\alpha$    & 1.7397               &     2.9,\\,\\,\\,    0.2\\%  &            -3.0,\\,\\,\\,   -0.2\\%  &            -3.2,\\,\\,\\,   -0.2\\%  &            -1.0,\\,\\,\\,   -0.1\\% \\\\\n",
      "Al K$\\alpha$    & 1.4865               &     3.0,\\,\\,\\,    0.2\\%  &            -3.7,\\,\\,\\,   -0.2\\%  &            -3.9,\\,\\,\\,   -0.3\\%  &            -1.9,\\,\\,\\,   -0.1\\% \\\\\n",
      "Cu K$\\alpha$    & 8.0478               &    -9.3,\\,\\,\\,   -0.1\\%  &             2.4,\\,\\,\\,    0.0\\%  &             3.5,\\,\\,\\,    0.0\\%  &            11.9,\\,\\,\\,    0.1\\% \\\\\n",
      "C K$\\alpha$     & 0.2774               &    -8.2,\\,\\,\\,   -3.0\\%  &           -18.3,\\,\\,\\,   -6.6\\%  &           -18.7,\\,\\,\\,   -6.7\\%  &           -17.9,\\,\\,\\,   -6.5\\% \\\\\n",
      "\\hline\n",
      "RMS error [eV]  &                      &      14.75  &                4.62  &                 4.55  &                 9.57 \n"
     ]
    }
   ],
   "source": [
    "hyper = [nw30_HS, mo30_HS, si30_HS, al30_HS, c30_HS]\n",
    "aztec = [nw30_AZ, mo30_AZ, si30_AZ, al30_AZ, c30_AZ]\n",
    "mycalib = [nw30, mo30, si30, al30, c30]\n",
    "mo_calib = [nw30_Mo, mo30_Mo, si30_Mo, al30_Mo, c30_Mo]\n",
    "\n",
    "alpha = '$\\\\alpha$'\n",
    "sp = ' & '\n",
    "\n",
    "header = f'{\"Peak\":<15} & {\"Theoretical [keV]\":<20} & {\"AZ calib. [eV]\":<15} & {\"HS calib. [eV]\":<15} &'\n",
    "header += f'{\"Calib. Ga L alpha *& As K alpha [eV]\":<15} & {\"Calib. Mo L alpha *& Mo K alpha [eV]\":<15} \\\\\\\\'\n",
    "print(header)\n",
    "print('\\hline')\n",
    "for i in range(len(hyper)):\n",
    "    for j in range(len(hyper[i][0])):\n",
    "        line = ''\n",
    "        line += f'{hyper[i][3][j][:-1]+alpha:<15} & {hyper[i][2][j]:<20} &'  # peak and theoretical\n",
    "        line += f'  {aztec[i][0][j]:>6.1f},\\,\\,\\, {aztec[i][4][j]:>6.1f}\\% {sp:<10}'\n",
    "        line += f'  {hyper[i][0][j]:>6.1f},\\,\\,\\, {hyper[i][4][j]:>6.1f}\\% {sp:<10}'\n",
    "        line += f'  {mycalib[i][0][j]:>6.1f},\\,\\,\\, {mycalib[i][4][j]:>6.1f}\\% {sp:<10}'\n",
    "        line += f'  {mo_calib[i][0][j]:>6.1f},\\,\\,\\, {mo_calib[i][4][j]:>6.1f}\\% \\\\\\\\'\n",
    "        print(line) \n",
    "\n",
    "\n",
    "def rms(error):\n",
    "    return np.sqrt(np.mean(error**2))\n",
    "\n",
    "\n",
    "line = f'\\hline\\nRMS error [eV]  & {sp:>23}  ' \n",
    "line += f'  {rms(aztec[0][0]):>6.2f} {sp:<15} {rms(hyper[0][0]):>6.2f} {sp:<15}' \n",
    "line += f'  {rms(mycalib[0][0]):>6.2f} {sp:<15}  {rms(mo_calib[0][0]):>6.2f} '\n",
    "print(line)"
   ]
  },
  {
   "cell_type": "code",
   "execution_count": 178,
   "metadata": {},
   "outputs": [
    {
     "data": {
      "text/plain": [
       "array([ 1.29, 10.55,  1.1 ,  9.26,  0.94,  8.06])"
      ]
     },
     "execution_count": 178,
     "metadata": {},
     "output_type": "execute_result"
    }
   ],
   "source": [
    "mo_calib[0][1]"
   ]
  },
  {
   "cell_type": "code",
   "execution_count": 162,
   "metadata": {},
   "outputs": [
    {
     "name": "stdout",
     "output_type": "stream",
     "text": [
      "RMS error, sum of error, sum of percent error\n",
      "AZTEC:  14.75057891485451 85.37855180628307 4.280659727534262\n",
      "HyperSpy:  4.624491279859571 23.7231281466278 1.7355238111443445\n",
      "My calib:  4.552905665831109 23.818034665822108 1.6761318188330132\n",
      "Mo calib:  9.569881106603354 55.45286987669606 2.404965758900323\n"
     ]
    }
   ],
   "source": [
    "# RMS error on the calibration\n",
    "\n",
    "\n",
    "\n",
    "print('RMS error, sum of error, sum of percent error')\n",
    "print('AZTEC: ', rms(aztec[0][0]), np.sum(np.abs(aztec[0][0])), np.sum(np.abs(aztec[0][4])))\n",
    "print('HyperSpy: ', rms(hyper[0][0]), np.sum(np.abs(hyper[0][0])), np.sum(np.abs(hyper[0][4])))\n",
    "print('My calib: ', rms(mycalib[0][0]), np.sum(np.abs(mycalib[0][0])), np.sum(np.abs(mycalib[0][4])))\n",
    "print('Mo calib: ', rms(mo_calib[0][0]), np.sum(np.abs(mo_calib[0][0])), np.sum(np.abs(mo_calib[0][4])))\n",
    "\n",
    "# set np print options\n",
    "np.set_printoptions(precision=2, suppress=True)\n"
   ]
  },
  {
   "cell_type": "code",
   "execution_count": 39,
   "metadata": {},
   "outputs": [],
   "source": [
    "# fitting Mo 30 kV manually, since it has the double peak\n",
    "\n",
    "# will only fit on a small window to find the center of the tow peaks in the double peak\n",
    "# fitting from 200 to 300, peaks at 220, 250 and 260\n",
    "\n",
    "# also need to fit the peak at 1760, with window from 1700 to 1850\n",
    "\n",
    "# I only need the excact center of the peaks, not the full fit\n",
    "start1 = 200\n",
    "end1 = 300\n",
    "peaks_channels1 = [220, 250, 260]\n",
    "\n",
    "start2 = 1700\n",
    "end2 = 1850\n",
    "peaks_channels2 = [1760]\n",
    "\n",
    "# fitting on the first peaks\n",
    "mo30 = mo[-1]\n",
    "\n",
    "def three_gaussians(x, a1, c1, w1, a2, c2, w2, a3, c3, w3):\n",
    "    return a1 * np.exp(-((x - c1) / w1) ** 2) + a2 * np.exp(-((x - c2) / w2) ** 2) + a3 * np.exp(-((x - c3) / w3) ** 2)\n",
    "\n",
    "def gaussian(x, a, c, w):\n",
    "    return a * np.exp(-((x - c) / w) ** 2)"
   ]
  },
  {
   "cell_type": "code",
   "execution_count": 40,
   "metadata": {},
   "outputs": [
    {
     "data": {
      "text/plain": [
       "array([244.57562427, 249.48531072, 259.69752324])"
      ]
     },
     "execution_count": 40,
     "metadata": {},
     "output_type": "execute_result"
    }
   ],
   "source": [
    "from scipy.optimize import curve_fit\n",
    "channels = np.arange(len(mo30))\n",
    "\n",
    "fit_vals_mo_la, _ = curve_fit(three_gaussians, channels[start1:end1], mo30[start1:end1], p0=[1, 220, 1, 1, 250, 1, 1, 260, 1])\n",
    "fit_vals_mo_la[1::3]"
   ]
  },
  {
   "cell_type": "code",
   "execution_count": 41,
   "metadata": {},
   "outputs": [
    {
     "data": {
      "text/plain": [
       "'mo'"
      ]
     },
     "execution_count": 41,
     "metadata": {},
     "output_type": "execute_result"
    }
   ],
   "source": [
    "fit = three_gaussians(channels[start1:end1], *fit_vals_mo_la)\n",
    "\n",
    "fig = go.Figure()\n",
    "fig.add_trace(go.Scatter(x=channels[start1:end1], y=mo30[start1:end1], name='data'))\n",
    "fig.add_trace(go.Scatter(x=channels[start1:end1], y=fit, name='fit'))\n",
    "# add the center of the two last peaks\n",
    "fig.add_trace(go.Scatter(x=[fit_vals_mo_la[7], fit_vals_mo_la[4]], y=[0, 0], mode='markers', name='centers'))\n",
    "# add the single gaussians\n",
    "for i in range(3):\n",
    "    fit = gaussian(channels[start1:end1], fit_vals_mo_la[i*3], fit_vals_mo_la[i*3+1], fit_vals_mo_la[i*3+2])\n",
    "    fig.add_trace(go.Scatter(x=channels[start1:end1], y=fit, name='fit'))\n",
    "\n",
    "fig.update_layout(title=f'Mo La have center at channel {fit_vals_mo_la[4]}', xaxis_title='Channel', yaxis_title='Counts')\n",
    "# fig.show()\n",
    "\n",
    "'mo'"
   ]
  },
  {
   "cell_type": "code",
   "execution_count": 42,
   "metadata": {},
   "outputs": [
    {
     "name": "stdout",
     "output_type": "stream",
     "text": [
      "1762.0612914863525\n"
     ]
    },
    {
     "data": {
      "text/plain": [
       "'mo'"
      ]
     },
     "execution_count": 42,
     "metadata": {},
     "output_type": "execute_result"
    }
   ],
   "source": [
    "# fit Mo Ka with one gaussian\n",
    "fit_vals_mo_ka, _ = curve_fit(gaussian, channels[start2:end2], mo30[start2:end2], p0=[1, 1760, 1])\n",
    "print(fit_vals_mo_ka[1])\n",
    "fig2 = go.Figure()\n",
    "fig2.add_trace(go.Scatter(x=channels[start2:end2], y=mo30[start2:end2], name='data'))\n",
    "fig2.add_trace(go.Scatter(x=channels[start2:end2], y=gaussian(channels[start2:end2], *fit_vals_mo_ka), name='fit'))\n",
    "fig2.update_layout(title=f'Mo Ka have center at channel {fit_vals_mo_ka[1]}', xaxis_title='Channel', yaxis_title='Counts')\n",
    "# fig2.show()\n",
    "\n",
    "'mo'"
   ]
  },
  {
   "cell_type": "code",
   "execution_count": 43,
   "metadata": {},
   "outputs": [
    {
     "name": "stdout",
     "output_type": "stream",
     "text": [
      "dispersion: 0.010039892338014457, offset: 21.076486916545974 channels, -0.21160565950569188 keV\n"
     ]
    }
   ],
   "source": [
    "# the dispersion with Mo La and Mo Ka\n",
    "\n",
    "mo_ka = 17.4793 # keV\n",
    "mo_la = 2.2932 # keV\n",
    "dispersion_mo_ka_la = (mo_ka - mo_la) / (fit_vals_mo_ka[1] - fit_vals_mo_la[4])\n",
    "offset_keV_mo_ka_la = mo_la - dispersion_mo_ka_la * fit_vals_mo_la[4]\n",
    "offset_mo_ka_la = fit_vals_mo_la[4] - mo_la / dispersion_mo_ka_la\n",
    "print(f'dispersion: {dispersion_mo_ka_la}, offset: {offset_mo_ka_la} channels, {offset_keV_mo_ka_la} keV')\n",
    "\n",
    "dispersion_mo = 0.010039892338014457\n",
    "offset_mo = 21.076486916545974"
   ]
  },
  {
   "cell_type": "markdown",
   "metadata": {},
   "source": [
    "# Mo calibration\n",
    "## dispersion: 0.010039892338014457, offset: 21.076486916545974 channels"
   ]
  }
 ],
 "metadata": {
  "kernelspec": {
   "display_name": "Python 3.8.13 ('hspy')",
   "language": "python",
   "name": "python3"
  },
  "language_info": {
   "codemirror_mode": {
    "name": "ipython",
    "version": 3
   },
   "file_extension": ".py",
   "mimetype": "text/x-python",
   "name": "python",
   "nbconvert_exporter": "python",
   "pygments_lexer": "ipython3",
   "version": "3.8.13 | packaged by conda-forge | (default, Mar 25 2022, 05:59:00) [MSC v.1929 64 bit (AMD64)]"
  },
  "orig_nbformat": 4,
  "vscode": {
   "interpreter": {
    "hash": "eedee208f6f0fe67ac5ec53646d8853bbb152098f521b748accd5958a126e1a5"
   }
  }
 },
 "nbformat": 4,
 "nbformat_minor": 2
}
