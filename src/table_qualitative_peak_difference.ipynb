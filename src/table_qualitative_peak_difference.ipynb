{
 "cells": [
  {
   "cell_type": "markdown",
   "metadata": {},
   "source": [
    "## Plotting the qualitative data\n",
    "\n",
    "First use calibration from Ga and As to make a table to see if the peaks deviate from the expected values.\n",
    "\n",
    "Then plot the qualitative data of each sample place."
   ]
  },
  {
   "cell_type": "code",
   "execution_count": 37,
   "metadata": {},
   "outputs": [],
   "source": [
    "import numpy as np\n",
    "import plotly.graph_objects as go\n",
    "import plotly.express as px\n",
    "import hyperspy.api as hs\n",
    "from scipy.signal import find_peaks\n",
    "\n",
    "# utils and helper_files\n",
    "from utils.get_raw_data import get_array_and_names\n",
    "from helper_files.normalizations import normalize_high_peak\n",
    "from helper_files.peak_ratios import channel_to_kev, make_fit, n_gaussians_and_m_order_bg\n",
    "from helper_files.calibration import calibrate_channel_width_two_peaks"
   ]
  },
  {
   "cell_type": "code",
   "execution_count": 38,
   "metadata": {},
   "outputs": [],
   "source": [
    "ga, ga_names = get_array_and_names('GaAs')\n",
    "mo, mo_names = get_array_and_names('Mo')\n",
    "nw, nw_names = get_array_and_names('NW')\n",
    "cu, cu_names = get_array_and_names('Cu') # mostly C\n",
    "si, si_names = get_array_and_names('Si')\n",
    "fe, fe_names = get_array_and_names('Fe') # it is Al not Fe"
   ]
  },
  {
   "cell_type": "code",
   "execution_count": 39,
   "metadata": {},
   "outputs": [],
   "source": [
    "def calibrate_spectrum(spectrum, peaks_keV, initial_dispersion=0.01, initial_offset=20, deg=12, plot_fit=False, prominence=0.01):\n",
    "    \"\"\"\n",
    "    Calibrate a spectrum using two peak positions.\n",
    "    Finding the peaks automatically.\n",
    "    Making a fit model with n gaussians and <deg> order background.\n",
    "    Finding the closest peaks to the given peaks_keV.\n",
    "    Then returning the dispersion and offset.\n",
    "    \"\"\"\n",
    "    channels = np.arange(len(spectrum))\n",
    "    # find peaks\n",
    "    peaks_channel_est, _ = find_peaks(spectrum, prominence=0.01)\n",
    "    peaks_keV_est = channel_to_kev(peaks_channel_est, dispersion=initial_dispersion, offset=initial_offset)\n",
    "\n",
    "    # find the peaks that are closest to the peaks_keV\n",
    "    peaks_to_fit_index = []\n",
    "    for peak in peaks_keV:\n",
    "        peaks_to_fit_index.append(np.argmin(np.abs(peaks_keV_est - peak)))\n",
    "\n",
    "    # fit with make_fit\n",
    "    # make_fit(array, x, deg=12, prominence=0.01, pixel_removal=50, offset=20) >>> fit_vals, covar\n",
    "    fit_vals, _ = make_fit(spectrum, channels, deg=deg, prominence=prominence)\n",
    "\n",
    "\n",
    "    fit_peaks = fit_vals[deg + 2::3]\n",
    "    dispersion, offset = calibrate_channel_width_two_peaks(fit_peaks[peaks_to_fit_index], peaks_keV)\n",
    "    fit_peaks_keV = channel_to_kev(fit_peaks, dispersion=dispersion, offset=offset)\n",
    "    keV = channel_to_kev(channels, dispersion=dispersion, offset=offset)\n",
    "    if plot_fit:\n",
    "        fit = n_gaussians_and_m_order_bg(channels, deg, *fit_vals)\n",
    "        fig = go.Figure()\n",
    "        fig.add_trace(go.Scatter(x=keV, y=spectrum, name='spectrum', mode='markers'))\n",
    "        fig.add_trace(go.Scatter(x=keV, y=fit, name='fit'))\n",
    "        fig.add_vline(x=fit_peaks_keV[peaks_to_fit_index[0]], line_width=2, line_dash=\"dash\")\n",
    "        fig.add_vline(x=fit_peaks_keV[peaks_to_fit_index[1]], line_width=2, line_dash=\"dash\")\n",
    "        fig.update_layout(title='Calibration of the spectrum', xaxis_title='Energy [keV]', yaxis_title='Relative intensity')\n",
    "        fig.show()\n",
    "    \n",
    "    return dispersion, offset\n",
    "\n",
    "def find_nearest(array, value, max_deviation=0.05):\n",
    "    \"\"\"\n",
    "    Finds the index of the value in array that is closest to value.\n",
    "    If the deviation is larger than max_deviation in percent, returns None.\n",
    "\n",
    "    Parameters\n",
    "    ----------\n",
    "    array : array of floats\n",
    "        peak array\n",
    "    value : float\n",
    "        float to find the closest value to\n",
    "    max_deviation : float, optional\n",
    "        max deviation in percent, by default 0.05\n",
    "\n",
    "    Returns\n",
    "    -------\n",
    "    index : int or None\n",
    "        Index of the closest value in array to value. None if the deviation is larger than max_deviation.\n",
    "    \"\"\"\n",
    "    array = np.asarray(array)\n",
    "    idx = (np.abs(array - value)).argmin()\n",
    "    # check if the deviation is larger than max_deviation in percent\n",
    "    if np.abs(array[idx] - value) / value > max_deviation:\n",
    "        print(f'Warning: {array[idx]} is not within {max_deviation * 100}% of {value}')\n",
    "        return idx\n",
    "    return idx\n",
    "\n",
    "def peak_deviation(peaks_energy, peaks_fit):\n",
    "    \"\"\"\n",
    "    Finds the corresponding peaks in peaks_fit to peaks_energy,\n",
    "    and returns the deviation in percent.\n",
    "    \"\"\"\n",
    "    peaks_energy = np.array(peaks_energy)\n",
    "    peaks_fit_selected = []\n",
    "    for p in peaks_energy:\n",
    "        index = find_nearest(peaks_fit, p)\n",
    "        if index is not None:\n",
    "            peaks_fit_selected.append(peaks_fit[index])\n",
    "\n",
    "    peaks_fit_selected = np.array(peaks_fit_selected)\n",
    "    # deviation = np.abs(peaks_fit_selected - peaks_energy) / peaks_energy * 100\n",
    "    deviation = (peaks_fit_selected - peaks_energy) / peaks_energy * 100\n",
    "\n",
    "    return deviation, peaks_fit_selected\n"
   ]
  },
  {
   "cell_type": "code",
   "execution_count": 40,
   "metadata": {},
   "outputs": [
    {
     "name": "stdout",
     "output_type": "stream",
     "text": [
      "Calibrating on GaAs_30kV, with peaks [1.098, 10.5436]\n",
      "The calibration factor is: 0.0100300 keV/channel, with 21.127 channels zero offset\n",
      "dispersion: 0.010030009470672611, offset: 21.1267053826366\n"
     ]
    }
   ],
   "source": [
    "peaks_calibration = [1.098, 10.5436]\n",
    "print(f'Calibrating on {ga_names[-1]}, with peaks {peaks_calibration}')\n",
    "dispersion, offset = calibrate_spectrum(ga[-1], peaks_calibration, plot_fit=False)\n",
    "print(f'dispersion: {dispersion}, offset: {offset}')\n"
   ]
  },
  {
   "cell_type": "code",
   "execution_count": 41,
   "metadata": {},
   "outputs": [],
   "source": [
    "# figure out how good the calibration is on other peaks\n",
    "def calibration_check_on_peaks(spectrum, elements, lines, vacc, dispersion, offset):\n",
    "    \"\"\"\n",
    "    Checks the calibration on a spectrum.\n",
    "    Quantifies this by the deviation of the peak positions from the expected positions.\n",
    "\n",
    "    Parameters\n",
    "    ----------\n",
    "    spectrum : array of floats\n",
    "        intensity values\n",
    "    elements : array of strings\n",
    "        elements to check\n",
    "    lines : array of strings\n",
    "        lines to check\n",
    "    vacc : int\n",
    "        acceleration voltage\n",
    "    dispersion : float\n",
    "        dispersion of the calibration\n",
    "    offset : float\n",
    "        offset of the calibration in channels\n",
    "    \n",
    "    Returns\n",
    "    -------\n",
    "    deviation : array of floats\n",
    "        deviation of the peak positions from the expected positions\n",
    "    peaks_fit : array of floats\n",
    "        peak positions of the fit, only the selected peaks\n",
    "    peaks_energy : array of floats\n",
    "        expected peak positions, from HyperSpy\n",
    "    peaks_names : array of strings\n",
    "        names of the peaks\n",
    "    \"\"\"    \n",
    "    peaks_energy = []\n",
    "    peaks_names = []\n",
    "    for e in elements:\n",
    "        for l in lines:\n",
    "            try:\n",
    "                energy = float(hs.material.elements[e].Atomic_properties['Xray_lines'][l]['energy (keV)'])\n",
    "                if energy < vacc:\n",
    "                    peaks_energy.append(energy)\n",
    "                    peaks_names.append(f'{e} {l}')\n",
    "                else:\n",
    "                    print(f'{e} {l} at {energy} is above E_0 = {vacc} kV')\n",
    "                if energy > vacc / 2:\n",
    "                    print(f'Warning: {e:<2} {l:<2} at {energy:<8} have overvoltage below 2')\n",
    "            except KeyError:\n",
    "                pass\n",
    "    print(f'Checking peaks: {peaks_names} at {peaks_energy}, with Vacc = {vacc} kV')\n",
    "\n",
    "    channels = np.arange(len(spectrum))\n",
    "    # keV = channel_to_kev(channels, dispersion=dispersion, offset=offset)\n",
    "    fit_vals, _ = make_fit(spectrum, channels, deg=12)\n",
    "    fit_peaks = fit_vals[12 + 2::3]\n",
    "    fit_peaks_kev = channel_to_kev(fit_peaks, dispersion=dispersion, offset=offset)\n",
    "\n",
    "    dev, peaks_fit_selected = peak_deviation(peaks_energy, fit_peaks_kev)\n",
    "    print(dev)\n",
    "    for i in range(len(dev)):\n",
    "        print(f'{peaks_names[i]:<6} {peaks_fit_selected[i]:<8.4f} deviates {dev[i]:.3f}% from {peaks_energy[i]}')\n",
    "\n",
    "    return dev, peaks_fit_selected, peaks_energy, peaks_names\n"
   ]
  },
  {
   "cell_type": "code",
   "execution_count": 42,
   "metadata": {},
   "outputs": [
    {
     "name": "stdout",
     "output_type": "stream",
     "text": [
      "Checking peaks: ['As Ka', 'As La', 'Ga Ka', 'Ga La'] at [10.5436, 1.2819, 9.2517, 1.098], with Vacc = 30 kV\n",
      "[0.         0.3684714  0.02364178 0.        ]\n",
      "As Ka  10.5436  deviates 0.000% from 10.5436\n",
      "As La  1.2866   deviates 0.368% from 1.2819\n",
      "Ga Ka  9.2539   deviates 0.024% from 9.2517\n",
      "Ga La  1.0980   deviates 0.000% from 1.098\n",
      "Warning: As Ka at 10.5436  have overvoltage below 2\n",
      "Warning: Ga Ka at 9.2517   have overvoltage below 2\n",
      "Checking peaks: ['As Ka', 'As La', 'Ga Ka', 'Ga La'] at [10.5436, 1.2819, 9.2517, 1.098], with Vacc = 15 kV\n",
      "[-0.06100983  0.37623324  0.02257412  0.12921206]\n",
      "As Ka  10.5372  deviates -0.061% from 10.5436\n",
      "As La  1.2867   deviates 0.376% from 1.2819\n",
      "Ga Ka  9.2538   deviates 0.023% from 9.2517\n",
      "Ga La  1.0994   deviates 0.129% from 1.098\n",
      "Checking peaks: ['As La', 'Ga La'] at [1.2819, 1.098], with Vacc = 10 kV\n",
      "[0.39715446 0.195558  ]\n",
      "As La  1.2870   deviates 0.397% from 1.2819\n",
      "Ga La  1.1001   deviates 0.196% from 1.098\n",
      "Checking peaks: ['As La', 'Ga La'] at [1.2819, 1.098], with Vacc = 5 kV\n",
      "[0.41680165 0.26947321]\n",
      "As La  1.2872   deviates 0.417% from 1.2819\n",
      "Ga La  1.1010   deviates 0.269% from 1.098\n"
     ]
    }
   ],
   "source": [
    "ga30 = calibration_check_on_peaks(ga[-1], ['As', 'Ga'], ['Ka', 'La'], 30, dispersion, offset)\n",
    "ga15 = calibration_check_on_peaks(ga[-2], ['As', 'Ga'], ['Ka', 'La'], 15, dispersion, offset)\n",
    "ga10 = calibration_check_on_peaks(ga[-3], ['As', 'Ga'], ['La'], 10, dispersion, offset)\n",
    "ga05 = calibration_check_on_peaks(ga[0], ['As', 'Ga'], ['La'], 5, dispersion, offset)\n"
   ]
  },
  {
   "cell_type": "code",
   "execution_count": 62,
   "metadata": {},
   "outputs": [],
   "source": [
    "# see lines\n",
    "# hs.material.elements['Fe'].Atomic_properties['Xray_lines']"
   ]
  },
  {
   "cell_type": "code",
   "execution_count": 44,
   "metadata": {},
   "outputs": [
    {
     "name": "stdout",
     "output_type": "stream",
     "text": [
      "Checking peaks: ['As La', 'As Ka', 'Ga La', 'Ga Ka', 'Cu La', 'Cu Ka'] at [1.2819, 10.5436, 1.098, 9.2517, 0.9295, 8.0478], with Vacc = 30 kV\n",
      "[ 0.42177766 -0.00999266  0.31793251  0.02423443  0.85669511  0.04549944]\n",
      "As La  1.2873   deviates 0.422% from 1.2819\n",
      "As Ka  10.5425  deviates -0.010% from 10.5436\n",
      "Ga La  1.1015   deviates 0.318% from 1.098\n",
      "Ga Ka  9.2539   deviates 0.024% from 9.2517\n",
      "Cu La  0.9375   deviates 0.857% from 0.9295\n",
      "Cu Ka  8.0515   deviates 0.045% from 8.0478\n"
     ]
    }
   ],
   "source": [
    "nw30 = calibration_check_on_peaks(nw[-1], ['As', 'Ga', 'Cu', ], ['La', 'Ka',], 30, dispersion, offset)"
   ]
  },
  {
   "cell_type": "code",
   "execution_count": 45,
   "metadata": {},
   "outputs": [
    {
     "name": "stdout",
     "output_type": "stream",
     "text": [
      "Checking peaks: ['As La', 'As Ka', 'Ga La', 'Ga Ka', 'Cu La', 'Cu Ka'] at [1.2819, 10.5436, 1.098, 9.2517, 0.9295, 8.0478], with Vacc = 30 kV\n",
      "[ 1.0002528  -0.20229805  1.04392777 -0.15325131  1.76709794 -0.11383186]\n",
      "As La  1.2947   deviates 1.000% from 1.2819\n",
      "As Ka  10.5223  deviates -0.202% from 10.5436\n",
      "Ga La  1.1095   deviates 1.044% from 1.098\n",
      "Ga Ka  9.2375   deviates -0.153% from 9.2517\n",
      "Cu La  0.9459   deviates 1.767% from 0.9295\n",
      "Cu Ka  8.0386   deviates -0.114% from 8.0478\n"
     ]
    }
   ],
   "source": [
    "dispersion_AZ = 0.01\n",
    "offset_AZ = 20\n",
    "nw30_AZ = calibration_check_on_peaks(nw[-1], ['As', 'Ga', 'Cu', ], ['La', 'Ka',], 30, dispersion_AZ, offset_AZ)"
   ]
  },
  {
   "cell_type": "code",
   "execution_count": 47,
   "metadata": {},
   "outputs": [
    {
     "name": "stdout",
     "output_type": "stream",
     "text": [
      "Checking peaks: ['As La', 'As Ka', 'Ga La', 'Ga Ka', 'Cu La', 'Cu Ka'] at [1.2819, 10.5436, 1.098, 9.2517, 0.9295, 8.0478], with Vacc = 30 kV\n",
      "[ 0.43922793 -0.02545753  0.34169594  0.00940054  0.88830187  0.03144001]\n",
      "As La  1.2875   deviates 0.439% from 1.2819\n",
      "As Ka  10.5409  deviates -0.025% from 10.5436\n",
      "Ga La  1.1018   deviates 0.342% from 1.098\n",
      "Ga Ka  9.2526   deviates 0.009% from 9.2517\n",
      "Cu La  0.9378   deviates 0.888% from 0.9295\n",
      "Cu Ka  8.0503   deviates 0.031% from 8.0478\n"
     ]
    }
   ],
   "source": [
    "# # # if I use calibration from model fit in HyperSpy, Ga Ka_Calibrated center_ is 9.2525 and not 9.2528\n",
    "# HyperSpy modelfit of 30 kV: dispersion = 0.010028, offset = 0.211377  / 0.010028\n",
    "\n",
    "dispersion_HS = 0.010028\n",
    "offset_HS =  0.211377  / 0.010028\n",
    "nw30_HS = calibration_check_on_peaks(nw[-1], ['As', 'Ga', 'Cu', ], ['La', 'Ka',], 30, dispersion_HS, offset_HS)"
   ]
  },
  {
   "cell_type": "code",
   "execution_count": 63,
   "metadata": {},
   "outputs": [
    {
     "name": "stdout",
     "output_type": "stream",
     "text": [
      "Checking peaks: ['As La', 'As Ka', 'Ga La', 'Ga Ka', 'Cu La', 'Cu Ka'] at [1.2819, 10.5436, 1.098, 9.2517, 0.9295, 8.0478], with Vacc = 30 kV\n",
      "[0.56005754 0.09331241 0.46269752 0.12824097 1.01031515 0.15034217]\n",
      "As La  1.2891   deviates 0.560% from 1.2819\n",
      "As Ka  10.5534  deviates 0.093% from 10.5436\n",
      "Ga La  1.1031   deviates 0.463% from 1.098\n",
      "Ga Ka  9.2636   deviates 0.128% from 9.2517\n",
      "Cu La  0.9389   deviates 1.010% from 0.9295\n",
      "Cu Ka  8.0599   deviates 0.150% from 8.0478\n"
     ]
    }
   ],
   "source": [
    "# Calibrated on Mo La and Mo Ka at the bottom of this file. Got:\n",
    "dispersion_mo = 0.010039892338014457\n",
    "offset_mo = 21.076486916545974\n",
    "\n",
    "nw30_Mo = calibration_check_on_peaks(nw[-1], ['As', 'Ga', 'Cu', ], ['La', 'Ka',], 30, dispersion_mo, offset_mo)"
   ]
  },
  {
   "cell_type": "code",
   "execution_count": 64,
   "metadata": {},
   "outputs": [
    {
     "name": "stdout",
     "output_type": "stream",
     "text": [
      "Warning: Mo Ka at 17.4793  have overvoltage below 2\n",
      "Checking peaks: ['Mo Ka', 'Mo La'] at [17.4793, 2.2932], with Vacc = 30 kV\n",
      "[-0.09047494  0.85778642]\n",
      "Mo Ka  17.4635  deviates -0.090% from 17.4793\n",
      "Mo La  2.3129   deviates 0.858% from 2.2932\n",
      "Warning: Mo Ka at 17.4793  have overvoltage below 2\n",
      "Checking peaks: ['Mo Ka', 'Mo La'] at [17.4793, 2.2932], with Vacc = 30 kV\n",
      "[-0.32494166  1.04734763]\n",
      "Mo Ka  17.4225  deviates -0.325% from 17.4793\n",
      "Mo La  2.3172   deviates 1.047% from 2.2932\n",
      "Warning: Mo Ka at 17.4793  have overvoltage below 2\n",
      "Checking peaks: ['Mo Ka', 'Mo La'] at [17.4793, 2.2932], with Vacc = 30 kV\n",
      "[-0.10773613  0.85858127]\n",
      "Mo Ka  17.4605  deviates -0.108% from 17.4793\n",
      "Mo La  2.3129   deviates 0.859% from 2.2932\n",
      "Warning: Mo Ka at 17.4793  have overvoltage below 2\n",
      "Checking peaks: ['Mo Ka', 'Mo La'] at [17.4793, 2.2932], with Vacc = 30 kV\n",
      "[0.01085338 0.97915082]\n",
      "Mo Ka  17.4812  deviates 0.011% from 17.4793\n",
      "Mo La  2.3157   deviates 0.979% from 2.2932\n"
     ]
    }
   ],
   "source": [
    "mo30 = calibration_check_on_peaks(mo[-1], ['Mo'], ['Ka','La'], 30, dispersion, offset)\n",
    "mo30_AZ = calibration_check_on_peaks(mo[-1], ['Mo'], ['Ka','La'], 30, dispersion_AZ, offset_AZ)\n",
    "mo30_HS = calibration_check_on_peaks(mo[-1], ['Mo'], ['Ka','La'], 30, dispersion_HS, offset_HS)\n",
    "mo30_Mo = calibration_check_on_peaks(mo[-1], ['Mo'], ['Ka','La'], 30, dispersion_mo, offset_mo)"
   ]
  },
  {
   "cell_type": "code",
   "execution_count": 65,
   "metadata": {},
   "outputs": [
    {
     "name": "stdout",
     "output_type": "stream",
     "text": [
      "Checking peaks: ['Si Ka'] at [1.7397], with Vacc = 30 kV\n",
      "[-0.18246153]\n",
      "Si Ka  1.7365   deviates -0.182% from 1.7397\n",
      "Checking peaks: ['Si Ka'] at [1.7397], with Vacc = 30 kV\n",
      "[0.16653105]\n",
      "Si Ka  1.7426   deviates 0.167% from 1.7397\n",
      "Checking peaks: ['Si Ka'] at [1.7397], with Vacc = 30 kV\n",
      "[-0.17477654]\n",
      "Si Ka  1.7367   deviates -0.175% from 1.7397\n",
      "Checking peaks: ['Si Ka'] at [1.7397], with Vacc = 30 kV\n",
      "[-0.05512702]\n",
      "Si Ka  1.7387   deviates -0.055% from 1.7397\n"
     ]
    }
   ],
   "source": [
    "si30 = calibration_check_on_peaks(si[-1], ['Si'], ['Ka'], 30, dispersion, offset)\n",
    "si30_AZ = calibration_check_on_peaks(si[-1], ['Si'], ['Ka'], 30, dispersion_AZ, offset_AZ)\n",
    "si30_HS = calibration_check_on_peaks(si[-1], ['Si'], ['Ka'], 30, dispersion_HS, offset_HS)\n",
    "si30_Mo = calibration_check_on_peaks(si[-1], ['Si'], ['Ka'], 30, dispersion_mo, offset_mo)"
   ]
  },
  {
   "cell_type": "code",
   "execution_count": 66,
   "metadata": {},
   "outputs": [
    {
     "name": "stdout",
     "output_type": "stream",
     "text": [
      "Checking peaks: ['Al Ka'] at [1.4865], with Vacc = 30 kV\n",
      "[-0.25941194]\n",
      "Al Ka  1.4826   deviates -0.259% from 1.4865\n",
      "Checking peaks: ['Al Ka'] at [1.4865], with Vacc = 30 kV\n",
      "[0.20012592]\n",
      "Al Ka  1.4895   deviates 0.200% from 1.4865\n",
      "Checking peaks: ['Al Ka'] at [1.4865], with Vacc = 30 kV\n",
      "[-0.2469962]\n",
      "Al Ka  1.4828   deviates -0.247% from 1.4865\n",
      "Checking peaks: ['Al Ka'] at [1.4865], with Vacc = 30 kV\n",
      "[-0.12721678]\n",
      "Al Ka  1.4846   deviates -0.127% from 1.4865\n"
     ]
    }
   ],
   "source": [
    "# on Fe, which is really Al\n",
    "al30 = calibration_check_on_peaks(fe[0], ['Al'], ['Ka'], 30, dispersion, offset)\n",
    "al30_AZ = calibration_check_on_peaks(fe[0], ['Al'], ['Ka'], 30, dispersion_AZ, offset_AZ)\n",
    "al30_HS = calibration_check_on_peaks(fe[0], ['Al'], ['Ka'], 30, dispersion_HS, offset_HS)\n",
    "al30_Mo = calibration_check_on_peaks(fe[0], ['Al'], ['Ka'], 30, dispersion_mo, offset_mo)"
   ]
  },
  {
   "cell_type": "code",
   "execution_count": 67,
   "metadata": {},
   "outputs": [
    {
     "name": "stdout",
     "output_type": "stream",
     "text": [
      "Checking peaks: ['Cu Ka', 'C Ka'] at [8.0478, 0.2774], with Vacc = 30 kV\n",
      "Warning: 0.258709671102402 is not within 5.0% of 0.2774\n",
      "[ 0.04347143 -6.73768165]\n",
      "Cu Ka  8.0513   deviates 0.043% from 8.0478\n",
      "C Ka   0.2587   deviates -6.738% from 0.2774\n",
      "Checking peaks: ['Cu Ka', 'C Ka'] at [8.0478, 0.2774], with Vacc = 30 kV\n",
      "[-0.11585381 -2.95505631]\n",
      "Cu Ka  8.0385   deviates -0.116% from 8.0478\n",
      "C Ka   0.2692   deviates -2.955% from 0.2774\n",
      "Checking peaks: ['Cu Ka', 'C Ka'] at [8.0478, 0.2774], with Vacc = 30 kV\n",
      "Warning: 0.2591394412731087 is not within 5.0% of 0.2774\n",
      "[ 0.0294124  -6.58275369]\n",
      "Cu Ka  8.0502   deviates 0.029% from 8.0478\n",
      "C Ka   0.2591   deviates -6.583% from 0.2774\n",
      "Checking peaks: ['Cu Ka', 'C Ka'] at [8.0478, 0.2774], with Vacc = 30 kV\n",
      "Warning: 0.25946877344681235 is not within 5.0% of 0.2774\n",
      "[ 0.14831216 -6.46403264]\n",
      "Cu Ka  8.0597   deviates 0.148% from 8.0478\n",
      "C Ka   0.2595   deviates -6.464% from 0.2774\n"
     ]
    }
   ],
   "source": [
    "# on Cu, which is mostly C\n",
    "c30 = calibration_check_on_peaks(cu[-1], ['Cu', 'C'], ['Ka'], 30, dispersion, offset)\n",
    "c30_AZ = calibration_check_on_peaks(cu[-1], ['Cu', 'C'], ['Ka'], 30, dispersion_AZ, offset_AZ)\n",
    "c30_HS = calibration_check_on_peaks(cu[-1], ['Cu', 'C'], ['Ka'], 30, dispersion_HS, offset_HS)\n",
    "c30_Mo = calibration_check_on_peaks(cu[-1], ['Cu', 'C'], ['Ka'], 30, dispersion_mo, offset_mo)"
   ]
  },
  {
   "cell_type": "code",
   "execution_count": null,
   "metadata": {},
   "outputs": [],
   "source": []
  },
  {
   "cell_type": "code",
   "execution_count": 71,
   "metadata": {},
   "outputs": [
    {
     "name": "stdout",
     "output_type": "stream",
     "text": [
      "Peak                 & Theoretical [keV]    & AZ dev. [*%]    & HS dev. [*%]    & Calib. Ga L{alpha} *& As K{alpha} [*%] & Calib. Mo L{alpha} *& Mo K{alpha} [*%] \\\\\n",
      "\\hline\n",
      "As L$\\alpha$         & 1.2819               & 1.000           & 0.439           & 0.422           & 0.560           \\\\\n",
      "As K$\\alpha$         & 10.5436              & -0.202          & -0.025          & -0.010          & 0.093           \\\\\n",
      "Ga L$\\alpha$         & 1.098                & 1.044           & 0.342           & 0.318           & 0.463           \\\\\n",
      "Ga K$\\alpha$         & 9.2517               & -0.153          & 0.009           & 0.024           & 0.128           \\\\\n",
      "Cu L$\\alpha$         & 0.9295               & 1.767           & 0.888           & 0.857           & 1.010           \\\\\n",
      "Cu K$\\alpha$         & 8.0478               & -0.114          & 0.031           & 0.045           & 0.150           \\\\\n",
      "Mo K$\\alpha$         & 17.4793              & -0.325          & -0.108          & -0.090          & 0.011           \\\\\n",
      "Mo L$\\alpha$         & 2.2932               & 1.047           & 0.859           & 0.858           & 0.979           \\\\\n",
      "Si K$\\alpha$         & 1.7397               & 0.167           & -0.175          & -0.182          & -0.055          \\\\\n",
      "Al K$\\alpha$         & 1.4865               & 0.200           & -0.247          & -0.259          & -0.127          \\\\\n",
      "Cu K$\\alpha$         & 8.0478               & -0.116          & 0.029           & 0.043           & 0.148           \\\\\n",
      "C K$\\alpha$          & 0.2774               & -2.955          & -6.583          & -6.738          & -6.464          \\\\\n"
     ]
    }
   ],
   "source": [
    "# hspy = nw30_HS\n",
    "# az = nw30_AZ\n",
    "# my = nw30\n",
    "\n",
    "# hspy2 = mo30_HS\n",
    "# az2 = mo30_AZ\n",
    "# my2 = mo30\n",
    "\n",
    "# hspy3 = si30_HS\n",
    "# az3 = si30_AZ\n",
    "# my3 = si30\n",
    "\n",
    "# hspy4 = al30_HS\n",
    "# az4 = al30_AZ\n",
    "# my4 = al30\n",
    "\n",
    "# hspy5 = c30_HS\n",
    "# az5 = c30_AZ\n",
    "# my5 = c30\n",
    "\n",
    "# hyper = [hspy, hspy2, hspy3, hspy4, hspy5]\n",
    "# aztec = [az, az2, az3, az4, az5]\n",
    "# mycalib = [my, my2, my3, my4, my5]\n",
    "\n",
    "hyper = [nw30_HS, mo30_HS, si30_HS, al30_HS, c30_HS]\n",
    "aztec = [nw30_AZ, mo30_AZ, si30_AZ, al30_AZ, c30_AZ]\n",
    "mycalib = [nw30, mo30, si30, al30, c30]\n",
    "mo_calib = [nw30_Mo, mo30_Mo, si30_Mo, al30_Mo, c30_Mo]\n",
    "\n",
    "alpha = '$\\\\alpha$'\n",
    "\n",
    "print(f'{\"Peak\":<20} & {\"Theoretical [keV]\":<20} & {\"AZ dev. [*%]\":<15} & {\"HS dev. [*%]\":<15} & {\"Calib. Ga L{alpha} *& As K{alpha} [*%]\":<15} & {\"Calib. Mo L{alpha} *& Mo K{alpha} [*%]\":<15} \\\\\\\\')\n",
    "print('\\hline')\n",
    "for i in range(len(hyper)):\n",
    "    for j in range(len(hyper[i][0])):\n",
    "        print(f'{hyper[i][3][j][:-1]+alpha:<20} & {hyper[i][2][j]:<20} & {aztec[i][0][j]:<15.3f} & {hyper[i][0][j]:<15.3f} & {mycalib[i][0][j]:<15.3f} & {mo_calib[i][0][j]:<15.3f} \\\\\\\\')\n"
   ]
  },
  {
   "cell_type": "code",
   "execution_count": 75,
   "metadata": {},
   "outputs": [],
   "source": [
    "# fitting Mo 30 kV manually, since it has the double peak\n",
    "\n",
    "# will only fit on a small window to find the center of the tow peaks in the double peak\n",
    "# fitting from 200 to 300, peaks at 220, 250 and 260\n",
    "\n",
    "# also need to fit the peak at 1760, with window from 1700 to 1850\n",
    "\n",
    "# I only need the excact center of the peaks, not the full fit\n",
    "start1 = 200\n",
    "end1 = 300\n",
    "peaks_channels1 = [220, 250, 260]\n",
    "\n",
    "start2 = 1700\n",
    "end2 = 1850\n",
    "peaks_channels2 = [1760]\n",
    "\n",
    "# fitting on the first peaks\n",
    "mo30 = mo[-1]\n",
    "\n",
    "def three_gaussians(x, a1, c1, w1, a2, c2, w2, a3, c3, w3):\n",
    "    return a1 * np.exp(-((x - c1) / w1) ** 2) + a2 * np.exp(-((x - c2) / w2) ** 2) + a3 * np.exp(-((x - c3) / w3) ** 2)\n",
    "\n",
    "def gaussian(x, a, c, w):\n",
    "    return a * np.exp(-((x - c) / w) ** 2)"
   ]
  },
  {
   "cell_type": "code",
   "execution_count": 76,
   "metadata": {},
   "outputs": [
    {
     "data": {
      "text/plain": [
       "array([244.57562427, 249.48531072, 259.69752324])"
      ]
     },
     "execution_count": 76,
     "metadata": {},
     "output_type": "execute_result"
    }
   ],
   "source": [
    "from scipy.optimize import curve_fit\n",
    "channels = np.arange(len(mo30))\n",
    "\n",
    "fit_vals_mo_la, _ = curve_fit(three_gaussians, channels[start1:end1], mo30[start1:end1], p0=[1, 220, 1, 1, 250, 1, 1, 260, 1])\n",
    "fit_vals_mo_la[1::3]"
   ]
  },
  {
   "cell_type": "code",
   "execution_count": 78,
   "metadata": {},
   "outputs": [
    {
     "data": {
      "application/vnd.plotly.v1+json": {
       "config": {
        "plotlyServerURL": "https://plot.ly"
       },
       "data": [
        {
         "name": "data",
         "type": "scatter",
         "x": [
          200,
          201,
          202,
          203,
          204,
          205,
          206,
          207,
          208,
          209,
          210,
          211,
          212,
          213,
          214,
          215,
          216,
          217,
          218,
          219,
          220,
          221,
          222,
          223,
          224,
          225,
          226,
          227,
          228,
          229,
          230,
          231,
          232,
          233,
          234,
          235,
          236,
          237,
          238,
          239,
          240,
          241,
          242,
          243,
          244,
          245,
          246,
          247,
          248,
          249,
          250,
          251,
          252,
          253,
          254,
          255,
          256,
          257,
          258,
          259,
          260,
          261,
          262,
          263,
          264,
          265,
          266,
          267,
          268,
          269,
          270,
          271,
          272,
          273,
          274,
          275,
          276,
          277,
          278,
          279,
          280,
          281,
          282,
          283,
          284,
          285,
          286,
          287,
          288,
          289,
          290,
          291,
          292,
          293,
          294,
          295,
          296,
          297,
          298,
          299
         ],
         "y": [
          0.01978135221112057,
          0.019714144898965006,
          0.019534925399883506,
          0.019310901026031634,
          0.019534925399883506,
          0.01877324252878713,
          0.018930059590483446,
          0.018750840091401943,
          0.019378108338187195,
          0.019445315650342757,
          0.019176486401720507,
          0.019579730274653883,
          0.02094627895515032,
          0.022066400824409697,
          0.022536852009498634,
          0.026098839553743446,
          0.029100766163358573,
          0.0328195707692997,
          0.03902504592499664,
          0.044804874770375015,
          0.05112236211299789,
          0.05537882521618352,
          0.05537882521618352,
          0.05423630090953896,
          0.05183924010932389,
          0.047672386755679017,
          0.04323670415341189,
          0.039181862986692954,
          0.03548546081813701,
          0.03483579013396657,
          0.03434293651149245,
          0.03503741207043326,
          0.034096509700255385,
          0.03523903400689995,
          0.036627985124781576,
          0.03768089968188539,
          0.040167570231641206,
          0.042564631031856266,
          0.047045118508893764,
          0.0552444105918724,
          0.07381603118419285,
          0.10381289484295891,
          0.14850575742640798,
          0.2170348133876966,
          0.3164792329405439,
          0.4438818943501053,
          0.5937317980196245,
          0.7497423719700703,
          0.8843362157802769,
          0.9722657825171379,
          1,
          0.9567184909718177,
          0.8639724001971415,
          0.7464940185492182,
          0.631300685514584,
          0.5360231193153815,
          0.47553653837537524,
          0.44952730857117257,
          0.4488776378870021,
          0.45288767417895065,
          0.44986334513195037,
          0.42869304180294815,
          0.3879206057619069,
          0.3435861821766208,
          0.2917917469420673,
          0.2395716653971952,
          0.1988664366683095,
          0.1683767193870693,
          0.14032886778081455,
          0.11996505219767911,
          0.10081096823334379,
          0.08640620099466823,
          0.07374882387203728,
          0.061091446749406336,
          0.05024866705497558,
          0.0416013262242932,
          0.03313320489269232,
          0.0281598637931807,
          0.024396254312469196,
          0.020901474080379946,
          0.01854921815493526,
          0.016779425601505443,
          0.01608495004256463,
          0.015928132980868318,
          0.014359962363905193,
          0.01321743805726063,
          0.012455755186164255,
          0.01079797481966038,
          0.010506743133652942,
          0.009207401765312066,
          0.008311304269904566,
          0.008759353017608315,
          0.008064877458667503,
          0.007885657959586003,
          0.007347999462341503,
          0.008132084770823066,
          0.008266499395134191,
          0.00790806039697119,
          0.008826560329763878,
          0.009476231013934315
         ]
        },
        {
         "name": "fit",
         "type": "scatter",
         "x": [
          200,
          201,
          202,
          203,
          204,
          205,
          206,
          207,
          208,
          209,
          210,
          211,
          212,
          213,
          214,
          215,
          216,
          217,
          218,
          219,
          220,
          221,
          222,
          223,
          224,
          225,
          226,
          227,
          228,
          229,
          230,
          231,
          232,
          233,
          234,
          235,
          236,
          237,
          238,
          239,
          240,
          241,
          242,
          243,
          244,
          245,
          246,
          247,
          248,
          249,
          250,
          251,
          252,
          253,
          254,
          255,
          256,
          257,
          258,
          259,
          260,
          261,
          262,
          263,
          264,
          265,
          266,
          267,
          268,
          269,
          270,
          271,
          272,
          273,
          274,
          275,
          276,
          277,
          278,
          279,
          280,
          281,
          282,
          283,
          284,
          285,
          286,
          287,
          288,
          289,
          290,
          291,
          292,
          293,
          294,
          295,
          296,
          297,
          298,
          299
         ],
         "y": [
          0.014996431121378016,
          0.01583208320155414,
          0.016693749703792143,
          0.01758066989867177,
          0.018491946536249096,
          0.019426543123527804,
          0.020383281936960037,
          0.021360842823080678,
          0.022357762836145694,
          0.023372436756706926,
          0.024403118529431642,
          0.025447923652196548,
          0.02650483254159257,
          0.027571694892518043,
          0.028646235041573435,
          0.02972605833556766,
          0.030808658497681638,
          0.03189142597479202,
          0.03297165724022914,
          0.03404656501692442,
          0.035113289376599,
          0.036168909661470676,
          0.0372104571660624,
          0.03823492850837323,
          0.03923929961291569,
          0.04022054022759966,
          0.041175628926666215,
          0.04210156874120351,
          0.042995404542863006,
          0.04385424798025214,
          0.04467533605348019,
          0.045456229142280834,
          0.04619553547541207,
          0.04689543011690072,
          0.04756965953688936,
          0.04826646129048789,
          0.04912714640562586,
          0.05051833572820742,
          0.05329137350323068,
          0.059212270793859836,
          0.0715280780155507,
          0.09545583426457044,
          0.13813037057173982,
          0.20739295073228892,
          0.30902357497345223,
          0.44281174329889955,
          0.5990178724108993,
          0.7575498905205482,
          0.8916453019300681,
          0.9757467279213252,
          0.9945926733275945,
          0.9491658635222883,
          0.8563380107237955,
          0.7423119938873632,
          0.6331838994664134,
          0.5470483468338065,
          0.490596311915042,
          0.4604329157041049,
          0.44722314999096213,
          0.44023692307988704,
          0.4306352770396368,
          0.41300285581563007,
          0.3854527873109061,
          0.34890736623776253,
          0.3060723515697099,
          0.2604286774383512,
          0.2154079519202714,
          0.17382346365810358,
          0.1375711659741352,
          0.10757268365575665,
          0.08390022800578412,
          0.06600646042881755,
          0.05298413594448035,
          0.04379768844995429,
          0.03745392837473152,
          0.033103195599247195,
          0.03007978776765611,
          0.027899258201646036,
          0.026231422689253835,
          0.024864428362768955,
          0.023669937306577564,
          0.022574477280972942,
          0.021538366259683955,
          0.020541515932523905,
          0.019574557816071644,
          0.018633653297471485,
          0.017717637973299727,
          0.01682653796437268,
          0.015960840432018175,
          0.015121154106833005,
          0.014308060379182292,
          0.013522052710847101,
          0.012763515049332754,
          0.01203271676265348,
          0.011329814369226232,
          0.01065485604801975,
          0.010007787329764192,
          0.009388457338637557,
          0.00879662532334068,
          0.008231967351539074
         ]
        },
        {
         "mode": "markers",
         "name": "centers",
         "type": "scatter",
         "x": [
          259.69752323943305,
          249.48531071609636
         ],
         "y": [
          0,
          0
         ]
        },
        {
         "name": "fit",
         "type": "scatter",
         "x": [
          200,
          201,
          202,
          203,
          204,
          205,
          206,
          207,
          208,
          209,
          210,
          211,
          212,
          213,
          214,
          215,
          216,
          217,
          218,
          219,
          220,
          221,
          222,
          223,
          224,
          225,
          226,
          227,
          228,
          229,
          230,
          231,
          232,
          233,
          234,
          235,
          236,
          237,
          238,
          239,
          240,
          241,
          242,
          243,
          244,
          245,
          246,
          247,
          248,
          249,
          250,
          251,
          252,
          253,
          254,
          255,
          256,
          257,
          258,
          259,
          260,
          261,
          262,
          263,
          264,
          265,
          266,
          267,
          268,
          269,
          270,
          271,
          272,
          273,
          274,
          275,
          276,
          277,
          278,
          279,
          280,
          281,
          282,
          283,
          284,
          285,
          286,
          287,
          288,
          289,
          290,
          291,
          292,
          293,
          294,
          295,
          296,
          297,
          298,
          299
         ],
         "y": [
          0.014996431121378016,
          0.01583208320155414,
          0.016693749703792143,
          0.01758066989867177,
          0.018491946536249096,
          0.019426543123527804,
          0.020383281936960037,
          0.021360842823080678,
          0.022357762836145694,
          0.023372436756706926,
          0.024403118529431642,
          0.025447923652196548,
          0.02650483254159257,
          0.027571694892518043,
          0.028646235041573435,
          0.02972605833556765,
          0.030808658497681586,
          0.03189142597479175,
          0.03297165724022777,
          0.0340465650169178,
          0.03511328937656808,
          0.03616890966133105,
          0.037210457165449226,
          0.03823492850572601,
          0.039239299601478976,
          0.04022054017697998,
          0.04117562869238248,
          0.0421015676028759,
          0.04299539884037992,
          0.04385421940758029,
          0.04467519697058534,
          0.04545558533401004,
          0.04619273968092391,
          0.04688413145986751,
          0.04752736280207444,
          0.048120180354142825,
          0.0486604884146774,
          0.04914636126785369,
          0.04957605461240543,
          0.049948015991158445,
          0.05026089413386876,
          0.050513547134693894,
          0.05070504939504952,
          0.050834697272779894,
          0.05090201338939292,
          0.05090674955846273,
          0.05084888831006061,
          0.050728642998110876,
          0.050546456489748426,
          0.05030299844794521,
          0.049999161230738894,
          0.04963605444220541,
          0.04921499818173869,
          0.04873751504911083,
          0.04820532097306732,
          0.04762031494075537,
          0.04698456771398951,
          0.04630030962613963,
          0.04556991756020636,
          0.04479590121436381,
          0.0439808887658516,
          0.043127612047551674,
          0.0422388913538695,
          0.04131761999364925,
          0.04036674870779546,
          0.03938927006807332,
          0.038388202971251395,
          0.03736657733938283,
          0.03632741913265524,
          0.035273735775945905,
          0.03420850209407892,
          0.033134646843882905,
          0.03205503992358907,
          0.030972480331988194,
          0.029889684941190178,
          0.028809278137904515,
          0.027733782378996128,
          0.026665609697773405,
          0.025607054188141166,
          0.024560285484501593,
          0.023527343246209833,
          0.022510132646578355,
          0.02151042085796171,
          0.02052983451641763,
          0.019569858141901476,
          0.018631833482968513,
          0.017716959748584164,
          0.016826294683917296,
          0.015960756441947686,
          0.015121126198378371,
          0.014308051453719372,
          0.013522049963504448,
          0.012763514235412183,
          0.012032716530573145,
          0.011329814305534688,
          0.010654856031196407,
          0.010007787325487284,
          0.009388457337591067,
          0.00879662532309423,
          0.008231967351483214
         ]
        },
        {
         "name": "fit",
         "type": "scatter",
         "x": [
          200,
          201,
          202,
          203,
          204,
          205,
          206,
          207,
          208,
          209,
          210,
          211,
          212,
          213,
          214,
          215,
          216,
          217,
          218,
          219,
          220,
          221,
          222,
          223,
          224,
          225,
          226,
          227,
          228,
          229,
          230,
          231,
          232,
          233,
          234,
          235,
          236,
          237,
          238,
          239,
          240,
          241,
          242,
          243,
          244,
          245,
          246,
          247,
          248,
          249,
          250,
          251,
          252,
          253,
          254,
          255,
          256,
          257,
          258,
          259,
          260,
          261,
          262,
          263,
          264,
          265,
          266,
          267,
          268,
          269,
          270,
          271,
          272,
          273,
          274,
          275,
          276,
          277,
          278,
          279,
          280,
          281,
          282,
          283,
          284,
          285,
          286,
          287,
          288,
          289,
          290,
          291,
          292,
          293,
          294,
          295,
          296,
          297,
          298,
          299
         ],
         "y": [
          4.595034629904141e-45,
          2.7173562959049473e-43,
          1.4785403361908147e-41,
          7.401991144893864e-40,
          3.409516046144378e-38,
          1.4449928878211159e-36,
          5.634656862757316e-35,
          2.021613044325659e-33,
          6.673557119902201e-32,
          2.026961623051614e-30,
          5.664511510910065e-29,
          1.456492305041636e-27,
          3.445741699653511e-26,
          7.50042782288424e-25,
          1.502166757705064e-23,
          2.768082636856983e-22,
          4.693196614088968e-21,
          7.321283757498825e-20,
          1.0508349863425417e-18,
          1.3877479715349096e-17,
          1.6862247987606467e-16,
          1.885163993693289e-15,
          1.9391508446152326e-14,
          1.8352821665030802e-13,
          1.5981696860775689e-12,
          1.2804768355276217e-11,
          9.439507961953039e-11,
          6.402591316842175e-10,
          3.995682750875921e-9,
          2.294325381731521e-8,
          1.2121261310368444e-7,
          5.892090535011712e-7,
          0.0000026352377443068393,
          0.000010844236648946541,
          0.00004105886727440184,
          0.00014303546586663391,
          0.0004584682857523457,
          0.0013520839469874624,
          0.0036688234003519667,
          0.009159647310138805,
          0.021040666324881354,
          0.04447019358420303,
          0.08647833993833691,
          0.15472997726523954,
          0.25472429715647393,
          0.3858291860863139,
          0.5377105708284222,
          0.6894945936533879,
          0.8134707646239514,
          0.8830429487364845,
          0.881963267634567,
          0.8104905621935863,
          0.6852897240335687,
          0.5331252724688287,
          0.3816041725042249,
          0.25131924839763936,
          0.1522885259839356,
          0.08490580957686471,
          0.043554840220650044,
          0.020557212999934446,
          0.008927314607009183,
          0.0035670256930744296,
          0.0013113554588085983,
          0.00044357127349052425,
          0.00013804961195658621,
          0.00003953081435398085,
          0.000010415140317603027,
          0.0000025247784978739226,
          5.631320349496482e-7,
          1.1556490803599095e-7,
          2.18207923040922e-8,
          3.790913251789088e-9,
          6.059628098254852e-10,
          8.912035099958959e-11,
          1.2059702634566903e-11,
          1.5014991941073915e-12,
          1.7200552653634148e-13,
          1.8129611259190996e-14,
          1.7581801647062235e-15,
          1.5687980965875857e-16,
          1.2879515456929645e-17,
          9.728833902789098e-19,
          6.761621346820991e-20,
          4.323840821341885e-21,
          2.5440013745355917e-22,
          1.3771897420267675e-23,
          6.8596034504037785e-25,
          3.14364165206853e-26,
          1.3255492000645002e-27,
          5.142655860300288e-29,
          1.8357260343248077e-30,
          6.029163547504838e-32,
          1.8219441319697683e-33,
          5.065727683950715e-35,
          1.2959176877121158e-36,
          3.0502946177801287e-38,
          6.605944987561014e-40,
          1.3163061496604662e-41,
          2.4132797083338066e-43,
          4.07086973499323e-45
         ]
        },
        {
         "name": "fit",
         "type": "scatter",
         "x": [
          200,
          201,
          202,
          203,
          204,
          205,
          206,
          207,
          208,
          209,
          210,
          211,
          212,
          213,
          214,
          215,
          216,
          217,
          218,
          219,
          220,
          221,
          222,
          223,
          224,
          225,
          226,
          227,
          228,
          229,
          230,
          231,
          232,
          233,
          234,
          235,
          236,
          237,
          238,
          239,
          240,
          241,
          242,
          243,
          244,
          245,
          246,
          247,
          248,
          249,
          250,
          251,
          252,
          253,
          254,
          255,
          256,
          257,
          258,
          259,
          260,
          261,
          262,
          263,
          264,
          265,
          266,
          267,
          268,
          269,
          270,
          271,
          272,
          273,
          274,
          275,
          276,
          277,
          278,
          279,
          280,
          281,
          282,
          283,
          284,
          285,
          286,
          287,
          288,
          289,
          290,
          291,
          292,
          293,
          294,
          295,
          296,
          297,
          298,
          299
         ],
         "y": [
          9.45127950306384e-31,
          9.097710089397848e-30,
          8.428701964217766e-29,
          7.515820850638468e-28,
          6.450290276494083e-27,
          5.328061346278638e-26,
          4.235905781508701e-25,
          3.2412347343691273e-24,
          2.387051532173196e-23,
          1.6919994707406276e-22,
          1.1543187992777925e-21,
          7.57946291095339e-21,
          4.7900297783569375e-20,
          2.9135676887674386e-19,
          1.7056861723966112e-18,
          9.610816006092026e-18,
          5.212049299399563e-17,
          2.7204696459848637e-16,
          1.3666785300593934e-15,
          6.608090420007089e-15,
          3.0751952814154434e-14,
          1.3773887769368742e-13,
          5.937826424589278e-13,
          2.4636872380482123e-12,
          9.838542529992224e-12,
          3.781491064237827e-11,
          1.3988865911891678e-10,
          4.980684746832405e-10,
          1.7068003297755375e-9,
          5.6294180334803474e-9,
          1.787028174210682e-8,
          5.459921729393064e-8,
          1.6055674385143367e-7,
          4.544203842646818e-7,
          0.0000012378675405184708,
          0.0000032454704784242686,
          0.000008189705196113812,
          0.000019890513366264942,
          0.00004649549047328061,
          0.0001046074925625866,
          0.0002265175568005809,
          0.00047209354567351476,
          0.0009469812383533984,
          0.001828276194269487,
          0.003397264427585342,
          0.006075807654122901,
          0.010458413272416449,
          0.017326653869049365,
          0.027628080816368302,
          0.042400780736895564,
          0.06263024446228864,
          0.08903924688649653,
          0.12183328850848811,
          0.16044920636942375,
          0.20337440598912118,
          0.2481087834954118,
          0.2913232182171169,
          0.32922679650110054,
          0.35809839221010575,
          0.37488380886558875,
          0.377727073666776,
          0.36630821807500397,
          0.341902540498228,
          0.30714617497062274,
          0.26556755324995784,
          0.2209998765559239,
          0.1770093338087024,
          0.13645436154022286,
          0.10124318370944502,
          0.07229883231490271,
          0.049691704090912885,
          0.03287180979402139,
          0.020929095414928475,
          0.012825208028845746,
          0.0075642434214816395,
          0.004293917459841182,
          0.002346005388487975,
          0.001233648503854502,
          0.0006243685011109114,
          0.00030414287826720536,
          0.00014259406036771716,
          0.00006434463439458521,
          0.00002794540172224237,
          0.000011681416106272667,
          0.000004699674170167475,
          0.0000018198145029709132,
          6.782247155615486e-7,
          2.432804553859957e-7,
          8.399007048873526e-8,
          2.7908454633851913e-8,
          8.925462921188102e-9,
          2.747342654179394e-9,
          8.139205716749105e-10,
          2.320803332693232e-10,
          6.369154314194204e-11,
          1.6823343821327648e-11,
          4.2769087843812325e-12,
          1.0464892533914362e-12,
          2.4644878159775945e-13,
          5.586061280120802e-14
         ]
        }
       ],
       "layout": {
        "template": {
         "data": {
          "bar": [
           {
            "error_x": {
             "color": "#2a3f5f"
            },
            "error_y": {
             "color": "#2a3f5f"
            },
            "marker": {
             "line": {
              "color": "#E5ECF6",
              "width": 0.5
             },
             "pattern": {
              "fillmode": "overlay",
              "size": 10,
              "solidity": 0.2
             }
            },
            "type": "bar"
           }
          ],
          "barpolar": [
           {
            "marker": {
             "line": {
              "color": "#E5ECF6",
              "width": 0.5
             },
             "pattern": {
              "fillmode": "overlay",
              "size": 10,
              "solidity": 0.2
             }
            },
            "type": "barpolar"
           }
          ],
          "carpet": [
           {
            "aaxis": {
             "endlinecolor": "#2a3f5f",
             "gridcolor": "white",
             "linecolor": "white",
             "minorgridcolor": "white",
             "startlinecolor": "#2a3f5f"
            },
            "baxis": {
             "endlinecolor": "#2a3f5f",
             "gridcolor": "white",
             "linecolor": "white",
             "minorgridcolor": "white",
             "startlinecolor": "#2a3f5f"
            },
            "type": "carpet"
           }
          ],
          "choropleth": [
           {
            "colorbar": {
             "outlinewidth": 0,
             "ticks": ""
            },
            "type": "choropleth"
           }
          ],
          "contour": [
           {
            "colorbar": {
             "outlinewidth": 0,
             "ticks": ""
            },
            "colorscale": [
             [
              0,
              "#0d0887"
             ],
             [
              0.1111111111111111,
              "#46039f"
             ],
             [
              0.2222222222222222,
              "#7201a8"
             ],
             [
              0.3333333333333333,
              "#9c179e"
             ],
             [
              0.4444444444444444,
              "#bd3786"
             ],
             [
              0.5555555555555556,
              "#d8576b"
             ],
             [
              0.6666666666666666,
              "#ed7953"
             ],
             [
              0.7777777777777778,
              "#fb9f3a"
             ],
             [
              0.8888888888888888,
              "#fdca26"
             ],
             [
              1,
              "#f0f921"
             ]
            ],
            "type": "contour"
           }
          ],
          "contourcarpet": [
           {
            "colorbar": {
             "outlinewidth": 0,
             "ticks": ""
            },
            "type": "contourcarpet"
           }
          ],
          "heatmap": [
           {
            "colorbar": {
             "outlinewidth": 0,
             "ticks": ""
            },
            "colorscale": [
             [
              0,
              "#0d0887"
             ],
             [
              0.1111111111111111,
              "#46039f"
             ],
             [
              0.2222222222222222,
              "#7201a8"
             ],
             [
              0.3333333333333333,
              "#9c179e"
             ],
             [
              0.4444444444444444,
              "#bd3786"
             ],
             [
              0.5555555555555556,
              "#d8576b"
             ],
             [
              0.6666666666666666,
              "#ed7953"
             ],
             [
              0.7777777777777778,
              "#fb9f3a"
             ],
             [
              0.8888888888888888,
              "#fdca26"
             ],
             [
              1,
              "#f0f921"
             ]
            ],
            "type": "heatmap"
           }
          ],
          "heatmapgl": [
           {
            "colorbar": {
             "outlinewidth": 0,
             "ticks": ""
            },
            "colorscale": [
             [
              0,
              "#0d0887"
             ],
             [
              0.1111111111111111,
              "#46039f"
             ],
             [
              0.2222222222222222,
              "#7201a8"
             ],
             [
              0.3333333333333333,
              "#9c179e"
             ],
             [
              0.4444444444444444,
              "#bd3786"
             ],
             [
              0.5555555555555556,
              "#d8576b"
             ],
             [
              0.6666666666666666,
              "#ed7953"
             ],
             [
              0.7777777777777778,
              "#fb9f3a"
             ],
             [
              0.8888888888888888,
              "#fdca26"
             ],
             [
              1,
              "#f0f921"
             ]
            ],
            "type": "heatmapgl"
           }
          ],
          "histogram": [
           {
            "marker": {
             "pattern": {
              "fillmode": "overlay",
              "size": 10,
              "solidity": 0.2
             }
            },
            "type": "histogram"
           }
          ],
          "histogram2d": [
           {
            "colorbar": {
             "outlinewidth": 0,
             "ticks": ""
            },
            "colorscale": [
             [
              0,
              "#0d0887"
             ],
             [
              0.1111111111111111,
              "#46039f"
             ],
             [
              0.2222222222222222,
              "#7201a8"
             ],
             [
              0.3333333333333333,
              "#9c179e"
             ],
             [
              0.4444444444444444,
              "#bd3786"
             ],
             [
              0.5555555555555556,
              "#d8576b"
             ],
             [
              0.6666666666666666,
              "#ed7953"
             ],
             [
              0.7777777777777778,
              "#fb9f3a"
             ],
             [
              0.8888888888888888,
              "#fdca26"
             ],
             [
              1,
              "#f0f921"
             ]
            ],
            "type": "histogram2d"
           }
          ],
          "histogram2dcontour": [
           {
            "colorbar": {
             "outlinewidth": 0,
             "ticks": ""
            },
            "colorscale": [
             [
              0,
              "#0d0887"
             ],
             [
              0.1111111111111111,
              "#46039f"
             ],
             [
              0.2222222222222222,
              "#7201a8"
             ],
             [
              0.3333333333333333,
              "#9c179e"
             ],
             [
              0.4444444444444444,
              "#bd3786"
             ],
             [
              0.5555555555555556,
              "#d8576b"
             ],
             [
              0.6666666666666666,
              "#ed7953"
             ],
             [
              0.7777777777777778,
              "#fb9f3a"
             ],
             [
              0.8888888888888888,
              "#fdca26"
             ],
             [
              1,
              "#f0f921"
             ]
            ],
            "type": "histogram2dcontour"
           }
          ],
          "mesh3d": [
           {
            "colorbar": {
             "outlinewidth": 0,
             "ticks": ""
            },
            "type": "mesh3d"
           }
          ],
          "parcoords": [
           {
            "line": {
             "colorbar": {
              "outlinewidth": 0,
              "ticks": ""
             }
            },
            "type": "parcoords"
           }
          ],
          "pie": [
           {
            "automargin": true,
            "type": "pie"
           }
          ],
          "scatter": [
           {
            "fillpattern": {
             "fillmode": "overlay",
             "size": 10,
             "solidity": 0.2
            },
            "type": "scatter"
           }
          ],
          "scatter3d": [
           {
            "line": {
             "colorbar": {
              "outlinewidth": 0,
              "ticks": ""
             }
            },
            "marker": {
             "colorbar": {
              "outlinewidth": 0,
              "ticks": ""
             }
            },
            "type": "scatter3d"
           }
          ],
          "scattercarpet": [
           {
            "marker": {
             "colorbar": {
              "outlinewidth": 0,
              "ticks": ""
             }
            },
            "type": "scattercarpet"
           }
          ],
          "scattergeo": [
           {
            "marker": {
             "colorbar": {
              "outlinewidth": 0,
              "ticks": ""
             }
            },
            "type": "scattergeo"
           }
          ],
          "scattergl": [
           {
            "marker": {
             "colorbar": {
              "outlinewidth": 0,
              "ticks": ""
             }
            },
            "type": "scattergl"
           }
          ],
          "scattermapbox": [
           {
            "marker": {
             "colorbar": {
              "outlinewidth": 0,
              "ticks": ""
             }
            },
            "type": "scattermapbox"
           }
          ],
          "scatterpolar": [
           {
            "marker": {
             "colorbar": {
              "outlinewidth": 0,
              "ticks": ""
             }
            },
            "type": "scatterpolar"
           }
          ],
          "scatterpolargl": [
           {
            "marker": {
             "colorbar": {
              "outlinewidth": 0,
              "ticks": ""
             }
            },
            "type": "scatterpolargl"
           }
          ],
          "scatterternary": [
           {
            "marker": {
             "colorbar": {
              "outlinewidth": 0,
              "ticks": ""
             }
            },
            "type": "scatterternary"
           }
          ],
          "surface": [
           {
            "colorbar": {
             "outlinewidth": 0,
             "ticks": ""
            },
            "colorscale": [
             [
              0,
              "#0d0887"
             ],
             [
              0.1111111111111111,
              "#46039f"
             ],
             [
              0.2222222222222222,
              "#7201a8"
             ],
             [
              0.3333333333333333,
              "#9c179e"
             ],
             [
              0.4444444444444444,
              "#bd3786"
             ],
             [
              0.5555555555555556,
              "#d8576b"
             ],
             [
              0.6666666666666666,
              "#ed7953"
             ],
             [
              0.7777777777777778,
              "#fb9f3a"
             ],
             [
              0.8888888888888888,
              "#fdca26"
             ],
             [
              1,
              "#f0f921"
             ]
            ],
            "type": "surface"
           }
          ],
          "table": [
           {
            "cells": {
             "fill": {
              "color": "#EBF0F8"
             },
             "line": {
              "color": "white"
             }
            },
            "header": {
             "fill": {
              "color": "#C8D4E3"
             },
             "line": {
              "color": "white"
             }
            },
            "type": "table"
           }
          ]
         },
         "layout": {
          "annotationdefaults": {
           "arrowcolor": "#2a3f5f",
           "arrowhead": 0,
           "arrowwidth": 1
          },
          "autotypenumbers": "strict",
          "coloraxis": {
           "colorbar": {
            "outlinewidth": 0,
            "ticks": ""
           }
          },
          "colorscale": {
           "diverging": [
            [
             0,
             "#8e0152"
            ],
            [
             0.1,
             "#c51b7d"
            ],
            [
             0.2,
             "#de77ae"
            ],
            [
             0.3,
             "#f1b6da"
            ],
            [
             0.4,
             "#fde0ef"
            ],
            [
             0.5,
             "#f7f7f7"
            ],
            [
             0.6,
             "#e6f5d0"
            ],
            [
             0.7,
             "#b8e186"
            ],
            [
             0.8,
             "#7fbc41"
            ],
            [
             0.9,
             "#4d9221"
            ],
            [
             1,
             "#276419"
            ]
           ],
           "sequential": [
            [
             0,
             "#0d0887"
            ],
            [
             0.1111111111111111,
             "#46039f"
            ],
            [
             0.2222222222222222,
             "#7201a8"
            ],
            [
             0.3333333333333333,
             "#9c179e"
            ],
            [
             0.4444444444444444,
             "#bd3786"
            ],
            [
             0.5555555555555556,
             "#d8576b"
            ],
            [
             0.6666666666666666,
             "#ed7953"
            ],
            [
             0.7777777777777778,
             "#fb9f3a"
            ],
            [
             0.8888888888888888,
             "#fdca26"
            ],
            [
             1,
             "#f0f921"
            ]
           ],
           "sequentialminus": [
            [
             0,
             "#0d0887"
            ],
            [
             0.1111111111111111,
             "#46039f"
            ],
            [
             0.2222222222222222,
             "#7201a8"
            ],
            [
             0.3333333333333333,
             "#9c179e"
            ],
            [
             0.4444444444444444,
             "#bd3786"
            ],
            [
             0.5555555555555556,
             "#d8576b"
            ],
            [
             0.6666666666666666,
             "#ed7953"
            ],
            [
             0.7777777777777778,
             "#fb9f3a"
            ],
            [
             0.8888888888888888,
             "#fdca26"
            ],
            [
             1,
             "#f0f921"
            ]
           ]
          },
          "colorway": [
           "#636efa",
           "#EF553B",
           "#00cc96",
           "#ab63fa",
           "#FFA15A",
           "#19d3f3",
           "#FF6692",
           "#B6E880",
           "#FF97FF",
           "#FECB52"
          ],
          "font": {
           "color": "#2a3f5f"
          },
          "geo": {
           "bgcolor": "white",
           "lakecolor": "white",
           "landcolor": "#E5ECF6",
           "showlakes": true,
           "showland": true,
           "subunitcolor": "white"
          },
          "hoverlabel": {
           "align": "left"
          },
          "hovermode": "closest",
          "mapbox": {
           "style": "light"
          },
          "paper_bgcolor": "white",
          "plot_bgcolor": "#E5ECF6",
          "polar": {
           "angularaxis": {
            "gridcolor": "white",
            "linecolor": "white",
            "ticks": ""
           },
           "bgcolor": "#E5ECF6",
           "radialaxis": {
            "gridcolor": "white",
            "linecolor": "white",
            "ticks": ""
           }
          },
          "scene": {
           "xaxis": {
            "backgroundcolor": "#E5ECF6",
            "gridcolor": "white",
            "gridwidth": 2,
            "linecolor": "white",
            "showbackground": true,
            "ticks": "",
            "zerolinecolor": "white"
           },
           "yaxis": {
            "backgroundcolor": "#E5ECF6",
            "gridcolor": "white",
            "gridwidth": 2,
            "linecolor": "white",
            "showbackground": true,
            "ticks": "",
            "zerolinecolor": "white"
           },
           "zaxis": {
            "backgroundcolor": "#E5ECF6",
            "gridcolor": "white",
            "gridwidth": 2,
            "linecolor": "white",
            "showbackground": true,
            "ticks": "",
            "zerolinecolor": "white"
           }
          },
          "shapedefaults": {
           "line": {
            "color": "#2a3f5f"
           }
          },
          "ternary": {
           "aaxis": {
            "gridcolor": "white",
            "linecolor": "white",
            "ticks": ""
           },
           "baxis": {
            "gridcolor": "white",
            "linecolor": "white",
            "ticks": ""
           },
           "bgcolor": "#E5ECF6",
           "caxis": {
            "gridcolor": "white",
            "linecolor": "white",
            "ticks": ""
           }
          },
          "title": {
           "x": 0.05
          },
          "xaxis": {
           "automargin": true,
           "gridcolor": "white",
           "linecolor": "white",
           "ticks": "",
           "title": {
            "standoff": 15
           },
           "zerolinecolor": "white",
           "zerolinewidth": 2
          },
          "yaxis": {
           "automargin": true,
           "gridcolor": "white",
           "linecolor": "white",
           "ticks": "",
           "title": {
            "standoff": 15
           },
           "zerolinecolor": "white",
           "zerolinewidth": 2
          }
         }
        },
        "title": {
         "text": "Mo La have center at channel 249.48531071609636"
        },
        "xaxis": {
         "title": {
          "text": "Channel"
         }
        },
        "yaxis": {
         "title": {
          "text": "Counts"
         }
        }
       }
      }
     },
     "metadata": {},
     "output_type": "display_data"
    }
   ],
   "source": [
    "fit = three_gaussians(channels[start1:end1], *fit_vals_mo_la)\n",
    "\n",
    "fig = go.Figure()\n",
    "fig.add_trace(go.Scatter(x=channels[start1:end1], y=mo30[start1:end1], name='data'))\n",
    "fig.add_trace(go.Scatter(x=channels[start1:end1], y=fit, name='fit'))\n",
    "# add the center of the two last peaks\n",
    "fig.add_trace(go.Scatter(x=[fit_vals_mo_la[7], fit_vals_mo_la[4]], y=[0, 0], mode='markers', name='centers'))\n",
    "# add the single gaussians\n",
    "for i in range(3):\n",
    "    fit = gaussian(channels[start1:end1], fit_vals_mo_la[i*3], fit_vals_mo_la[i*3+1], fit_vals_mo_la[i*3+2])\n",
    "    fig.add_trace(go.Scatter(x=channels[start1:end1], y=fit, name='fit'))\n",
    "\n",
    "fig.update_layout(title=f'Mo La have center at channel {fit_vals_mo_la[4]}', xaxis_title='Channel', yaxis_title='Counts')\n",
    "# fig.show()"
   ]
  },
  {
   "cell_type": "code",
   "execution_count": 79,
   "metadata": {},
   "outputs": [
    {
     "name": "stdout",
     "output_type": "stream",
     "text": [
      "1762.0612914863525\n"
     ]
    },
    {
     "data": {
      "application/vnd.plotly.v1+json": {
       "config": {
        "plotlyServerURL": "https://plot.ly"
       },
       "data": [
        {
         "name": "data",
         "type": "scatter",
         "x": [
          1700,
          1701,
          1702,
          1703,
          1704,
          1705,
          1706,
          1707,
          1708,
          1709,
          1710,
          1711,
          1712,
          1713,
          1714,
          1715,
          1716,
          1717,
          1718,
          1719,
          1720,
          1721,
          1722,
          1723,
          1724,
          1725,
          1726,
          1727,
          1728,
          1729,
          1730,
          1731,
          1732,
          1733,
          1734,
          1735,
          1736,
          1737,
          1738,
          1739,
          1740,
          1741,
          1742,
          1743,
          1744,
          1745,
          1746,
          1747,
          1748,
          1749,
          1750,
          1751,
          1752,
          1753,
          1754,
          1755,
          1756,
          1757,
          1758,
          1759,
          1760,
          1761,
          1762,
          1763,
          1764,
          1765,
          1766,
          1767,
          1768,
          1769,
          1770,
          1771,
          1772,
          1773,
          1774,
          1775,
          1776,
          1777,
          1778,
          1779,
          1780,
          1781,
          1782,
          1783,
          1784,
          1785,
          1786,
          1787,
          1788,
          1789,
          1790,
          1791,
          1792,
          1793,
          1794,
          1795,
          1796,
          1797,
          1798,
          1799,
          1800,
          1801,
          1802,
          1803,
          1804,
          1805,
          1806,
          1807,
          1808,
          1809,
          1810,
          1811,
          1812,
          1813,
          1814,
          1815,
          1816,
          1817,
          1818,
          1819,
          1820,
          1821,
          1822,
          1823,
          1824,
          1825,
          1826,
          1827,
          1828,
          1829,
          1830,
          1831,
          1832,
          1833,
          1834,
          1835,
          1836,
          1837,
          1838,
          1839,
          1840,
          1841,
          1842,
          1843,
          1844,
          1845,
          1846,
          1847,
          1848,
          1849
         ],
         "y": [
          0.001411353555266813,
          0.0011425243066445628,
          0.001276938930955688,
          0.0014337559926520006,
          0.0014785608674223755,
          0.001590573054348313,
          0.0015233657421927507,
          0.001456158430037188,
          0.001321743805726063,
          0.0014337559926520006,
          0.0016577803665038756,
          0.0016353779291186882,
          0.0014337559926520006,
          0.0011649267440297505,
          0.0014337559926520006,
          0.0016577803665038756,
          0.001456158430037188,
          0.0012545364935705005,
          0.0012097316188001254,
          0.001366548680496438,
          0.001456158430037188,
          0.0013441462431112506,
          0.0012097316188001254,
          0.001321743805726063,
          0.001366548680496438,
          0.0012993413683408755,
          0.0012993413683408755,
          0.0012545364935705005,
          0.0013441462431112506,
          0.0015681706169631256,
          0.0017249876786594382,
          0.0016353779291186882,
          0.0015233657421927507,
          0.0014337559926520006,
          0.0014785608674223755,
          0.0016577803665038756,
          0.002195438863748376,
          0.0024642681123706258,
          0.0024866705497558136,
          0.002822707110533626,
          0.0032035485460818135,
          0.0037412070433263138,
          0.004390877727496752,
          0.005018145974282002,
          0.005264572785519064,
          0.005667816658452439,
          0.00674313365294144,
          0.007347999462341503,
          0.00853532864375644,
          0.010036291948564004,
          0.010417133384112192,
          0.011290828442134504,
          0.012455755186164255,
          0.013195035619875442,
          0.014494376988216318,
          0.015502486670549756,
          0.016510596352883194,
          0.016689815851964693,
          0.01691384022581657,
          0.018638827904476008,
          0.019288498588646445,
          0.019288498588646445,
          0.019086876652179757,
          0.01850441328016488,
          0.018997266902639007,
          0.019266096151261257,
          0.018123571844616694,
          0.017406693848290695,
          0.01689143778843138,
          0.015928132980868318,
          0.014987230610690443,
          0.014091133115282943,
          0.013329450244186568,
          0.011895694251534568,
          0.010954791881356691,
          0.009834670012097316,
          0.008512926206371254,
          0.007392804337111878,
          0.006317487342622877,
          0.00584703615753394,
          0.005018145974282002,
          0.003965231417178189,
          0.0032931582956225638,
          0.003069133921770689,
          0.0028451095479188134,
          0.0024642681123706258,
          0.0019938169272816883,
          0.0018369998655853757,
          0.001680182803889063,
          0.0015233657421927507,
          0.001500963304807563,
          0.0014337559926520006,
          0.001411353555266813,
          0.0012097316188001254,
          0.0011201218692593754,
          0.0012993413683408755,
          0.0012097316188001254,
          0.0010753169944890005,
          0.0010529145571038128,
          0.0010529145571038128,
          0.001097719431874188,
          0.001187329181414938,
          0.0011201218692593754,
          0.001097719431874188,
          0.0010081096823334379,
          0.0010529145571038128,
          0.0010753169944890005,
          0.0010753169944890005,
          0.0011425243066445628,
          0.0009633048075630629,
          0.0008736950580223128,
          0.0010529145571038128,
          0.001276938930955688,
          0.0011649267440297505,
          0.0009633048075630629,
          0.0011425243066445628,
          0.001276938930955688,
          0.0009633048075630629,
          0.0008960974954075003,
          0.0010305121197186253,
          0.0011201218692593754,
          0.0011201218692593754,
          0.0009633048075630629,
          0.0009184999327926878,
          0.0010529145571038128,
          0.0011425243066445628,
          0.0009184999327926878,
          0.0008736950580223128,
          0.0009184999327926878,
          0.0008512926206371254,
          0.0009409023701778753,
          0.0009409023701778753,
          0.0008064877458667504,
          0.0008288901832519378,
          0.001097719431874188,
          0.001097719431874188,
          0.0010753169944890005,
          0.001097719431874188,
          0.0008512926206371254,
          0.0009409023701778753,
          0.0011201218692593754,
          0.0009857072449482504,
          0.0008288901832519378,
          0.0008736950580223128,
          0.0009633048075630629,
          0.0009409023701778753,
          0.0009857072449482504,
          0.0010305121197186253,
          0.0010305121197186253,
          0.0008736950580223128
         ]
        },
        {
         "name": "fit",
         "type": "scatter",
         "x": [
          1700,
          1701,
          1702,
          1703,
          1704,
          1705,
          1706,
          1707,
          1708,
          1709,
          1710,
          1711,
          1712,
          1713,
          1714,
          1715,
          1716,
          1717,
          1718,
          1719,
          1720,
          1721,
          1722,
          1723,
          1724,
          1725,
          1726,
          1727,
          1728,
          1729,
          1730,
          1731,
          1732,
          1733,
          1734,
          1735,
          1736,
          1737,
          1738,
          1739,
          1740,
          1741,
          1742,
          1743,
          1744,
          1745,
          1746,
          1747,
          1748,
          1749,
          1750,
          1751,
          1752,
          1753,
          1754,
          1755,
          1756,
          1757,
          1758,
          1759,
          1760,
          1761,
          1762,
          1763,
          1764,
          1765,
          1766,
          1767,
          1768,
          1769,
          1770,
          1771,
          1772,
          1773,
          1774,
          1775,
          1776,
          1777,
          1778,
          1779,
          1780,
          1781,
          1782,
          1783,
          1784,
          1785,
          1786,
          1787,
          1788,
          1789,
          1790,
          1791,
          1792,
          1793,
          1794,
          1795,
          1796,
          1797,
          1798,
          1799,
          1800,
          1801,
          1802,
          1803,
          1804,
          1805,
          1806,
          1807,
          1808,
          1809,
          1810,
          1811,
          1812,
          1813,
          1814,
          1815,
          1816,
          1817,
          1818,
          1819,
          1820,
          1821,
          1822,
          1823,
          1824,
          1825,
          1826,
          1827,
          1828,
          1829,
          1830,
          1831,
          1832,
          1833,
          1834,
          1835,
          1836,
          1837,
          1838,
          1839,
          1840,
          1841,
          1842,
          1843,
          1844,
          1845,
          1846,
          1847,
          1848,
          1849
         ],
         "y": [
          6.947548379425226e-9,
          1.1156950809892856e-8,
          1.7779430472919725e-8,
          2.8115677955666774e-8,
          4.412021939308973e-8,
          6.870449547323494e-8,
          1.0616736395648086e-7,
          1.6280033795956565e-7,
          2.4772963232359814e-7,
          3.740752735857731e-7,
          5.605294492137621e-7,
          8.334820574712873e-7,
          0.0000012298509016141293,
          0.0000018008065464180677,
          0.000002616616320579492,
          0.0000037728663339891004,
          0.0000053983517678568245,
          0.000007664950073224713,
          0.000010799803862159413,
          0.000015100133757146419,
          0.000020950968724847254,
          0.00002884601406895419,
          0.000039411766548727935,
          0.000053434823652598345,
          0.00007189211286917079,
          0.00009598348241184923,
          0.00012716574680256485,
          0.00016718687403676595,
          0.00021811854774288073,
          0.0002823848580556674,
          0.0003627843981382942,
          0.00046250260789905694,
          0.0005851108593543739,
          0.0007345485727001883,
          0.000915084645237916,
          0.0011312547225643492,
          0.0013877713919607279,
          0.0016894052677711143,
          0.0020408361840515378,
          0.002446475301011914,
          0.0029102608273367096,
          0.0034354321839882135,
          0.004024289674603017,
          0.004677948938308947,
          0.005396101471755986,
          0.006176794131777852,
          0.007016241580236577,
          0.00790868593530816,
          0.008846317309110438,
          0.009819267351588869,
          0.010815685362941226,
          0.011821903037328822,
          0.012822689597918126,
          0.01380159419698665,
          0.014741367275144598,
          0.015624447443535082,
          0.016433495742802194,
          0.01715195521122926,
          0.01776461089615206,
          0.018258124036452134,
          0.018621514305751728,
          0.018846565798958218,
          0.018928135808367285,
          0.018864350185466828,
          0.018656674924944657,
          0.018309860152798046,
          0.01783175950700407,
          0.017233034501290212,
          0.016526759411555365,
          0.015727947126057653,
          0.014853019946301588,
          0.01391925131690096,
          0.012944204823507144,
          0.011945195576463135,
          0.010938796457352356,
          0.009940407904944243,
          0.008963905284204928,
          0.008021372783164931,
          0.007122927589564378,
          0.006276633160055608,
          0.005488496007140828,
          0.0047625368218948555,
          0.004100924072781536,
          0.0035041565382962735,
          0.0029712805307714643,
          0.00250012776929249,
          0.002087560826988857,
          0.0017297146421445062,
          0.0014222245563901806,
          0.0011604335390947842,
          0.0009395735014416909,
          0.0007549177481348328,
          0.0006019035430164571,
          0.0004762253963322282,
          0.00037390097037568295,
          0.00029131243328606876,
          0.00022522668128957657,
          0.00017279813167151798,
          0.0001315578100899615,
          0.00009939227170307119,
          0.00007451556288388315,
          0.000055437003054757176,
          0.00004092709221304016,
          0.00002998336862000163,
          0.000021797583316618456,
          0.0000157251449301139,
          0.00001125743259957165,
          0.000007997282587478377,
          0.000005637725382945743,
          0.000003943880801664234,
          0.000002737801971708137,
          0.0000018859868987305023,
          0.0000012892397857599142,
          8.745549762780206e-7,
          5.88706619983528e-7,
          3.932503445671172e-7,
          2.606739857180367e-7,
          1.7146862335846143e-7,
          1.1192575124630097e-7,
          7.249929162202512e-8,
          4.6601070849476694e-8,
          2.9724627302623352e-8,
          1.88146146460989e-8,
          1.1817690874433843e-8,
          7.3659422847410375e-9,
          4.555986052925313e-9,
          2.796371378502288e-9,
          1.7032001984208362e-9,
          1.0294255376062196e-9,
          6.174226606162138e-10,
          3.674756612951495e-10,
          2.1703660309029337e-10,
          1.2720253755928535e-10,
          7.398044765805935e-11,
          4.269691755826874e-11,
          2.445313125970079e-11,
          1.3897312503453477e-11,
          7.837644412247337e-12,
          4.3863034834810085e-12,
          2.4359601853259995e-12,
          1.3424560696077377e-12,
          7.341560264307387e-13,
          3.984144135422438e-13,
          2.1455572302197882e-13,
          1.146577864634152e-13,
          6.08030536968946e-14,
          3.199673154502626e-14,
          1.6708760424580143e-14,
          8.65847155766588e-15,
          4.452425132196383e-15
         ]
        }
       ],
       "layout": {
        "template": {
         "data": {
          "bar": [
           {
            "error_x": {
             "color": "#2a3f5f"
            },
            "error_y": {
             "color": "#2a3f5f"
            },
            "marker": {
             "line": {
              "color": "#E5ECF6",
              "width": 0.5
             },
             "pattern": {
              "fillmode": "overlay",
              "size": 10,
              "solidity": 0.2
             }
            },
            "type": "bar"
           }
          ],
          "barpolar": [
           {
            "marker": {
             "line": {
              "color": "#E5ECF6",
              "width": 0.5
             },
             "pattern": {
              "fillmode": "overlay",
              "size": 10,
              "solidity": 0.2
             }
            },
            "type": "barpolar"
           }
          ],
          "carpet": [
           {
            "aaxis": {
             "endlinecolor": "#2a3f5f",
             "gridcolor": "white",
             "linecolor": "white",
             "minorgridcolor": "white",
             "startlinecolor": "#2a3f5f"
            },
            "baxis": {
             "endlinecolor": "#2a3f5f",
             "gridcolor": "white",
             "linecolor": "white",
             "minorgridcolor": "white",
             "startlinecolor": "#2a3f5f"
            },
            "type": "carpet"
           }
          ],
          "choropleth": [
           {
            "colorbar": {
             "outlinewidth": 0,
             "ticks": ""
            },
            "type": "choropleth"
           }
          ],
          "contour": [
           {
            "colorbar": {
             "outlinewidth": 0,
             "ticks": ""
            },
            "colorscale": [
             [
              0,
              "#0d0887"
             ],
             [
              0.1111111111111111,
              "#46039f"
             ],
             [
              0.2222222222222222,
              "#7201a8"
             ],
             [
              0.3333333333333333,
              "#9c179e"
             ],
             [
              0.4444444444444444,
              "#bd3786"
             ],
             [
              0.5555555555555556,
              "#d8576b"
             ],
             [
              0.6666666666666666,
              "#ed7953"
             ],
             [
              0.7777777777777778,
              "#fb9f3a"
             ],
             [
              0.8888888888888888,
              "#fdca26"
             ],
             [
              1,
              "#f0f921"
             ]
            ],
            "type": "contour"
           }
          ],
          "contourcarpet": [
           {
            "colorbar": {
             "outlinewidth": 0,
             "ticks": ""
            },
            "type": "contourcarpet"
           }
          ],
          "heatmap": [
           {
            "colorbar": {
             "outlinewidth": 0,
             "ticks": ""
            },
            "colorscale": [
             [
              0,
              "#0d0887"
             ],
             [
              0.1111111111111111,
              "#46039f"
             ],
             [
              0.2222222222222222,
              "#7201a8"
             ],
             [
              0.3333333333333333,
              "#9c179e"
             ],
             [
              0.4444444444444444,
              "#bd3786"
             ],
             [
              0.5555555555555556,
              "#d8576b"
             ],
             [
              0.6666666666666666,
              "#ed7953"
             ],
             [
              0.7777777777777778,
              "#fb9f3a"
             ],
             [
              0.8888888888888888,
              "#fdca26"
             ],
             [
              1,
              "#f0f921"
             ]
            ],
            "type": "heatmap"
           }
          ],
          "heatmapgl": [
           {
            "colorbar": {
             "outlinewidth": 0,
             "ticks": ""
            },
            "colorscale": [
             [
              0,
              "#0d0887"
             ],
             [
              0.1111111111111111,
              "#46039f"
             ],
             [
              0.2222222222222222,
              "#7201a8"
             ],
             [
              0.3333333333333333,
              "#9c179e"
             ],
             [
              0.4444444444444444,
              "#bd3786"
             ],
             [
              0.5555555555555556,
              "#d8576b"
             ],
             [
              0.6666666666666666,
              "#ed7953"
             ],
             [
              0.7777777777777778,
              "#fb9f3a"
             ],
             [
              0.8888888888888888,
              "#fdca26"
             ],
             [
              1,
              "#f0f921"
             ]
            ],
            "type": "heatmapgl"
           }
          ],
          "histogram": [
           {
            "marker": {
             "pattern": {
              "fillmode": "overlay",
              "size": 10,
              "solidity": 0.2
             }
            },
            "type": "histogram"
           }
          ],
          "histogram2d": [
           {
            "colorbar": {
             "outlinewidth": 0,
             "ticks": ""
            },
            "colorscale": [
             [
              0,
              "#0d0887"
             ],
             [
              0.1111111111111111,
              "#46039f"
             ],
             [
              0.2222222222222222,
              "#7201a8"
             ],
             [
              0.3333333333333333,
              "#9c179e"
             ],
             [
              0.4444444444444444,
              "#bd3786"
             ],
             [
              0.5555555555555556,
              "#d8576b"
             ],
             [
              0.6666666666666666,
              "#ed7953"
             ],
             [
              0.7777777777777778,
              "#fb9f3a"
             ],
             [
              0.8888888888888888,
              "#fdca26"
             ],
             [
              1,
              "#f0f921"
             ]
            ],
            "type": "histogram2d"
           }
          ],
          "histogram2dcontour": [
           {
            "colorbar": {
             "outlinewidth": 0,
             "ticks": ""
            },
            "colorscale": [
             [
              0,
              "#0d0887"
             ],
             [
              0.1111111111111111,
              "#46039f"
             ],
             [
              0.2222222222222222,
              "#7201a8"
             ],
             [
              0.3333333333333333,
              "#9c179e"
             ],
             [
              0.4444444444444444,
              "#bd3786"
             ],
             [
              0.5555555555555556,
              "#d8576b"
             ],
             [
              0.6666666666666666,
              "#ed7953"
             ],
             [
              0.7777777777777778,
              "#fb9f3a"
             ],
             [
              0.8888888888888888,
              "#fdca26"
             ],
             [
              1,
              "#f0f921"
             ]
            ],
            "type": "histogram2dcontour"
           }
          ],
          "mesh3d": [
           {
            "colorbar": {
             "outlinewidth": 0,
             "ticks": ""
            },
            "type": "mesh3d"
           }
          ],
          "parcoords": [
           {
            "line": {
             "colorbar": {
              "outlinewidth": 0,
              "ticks": ""
             }
            },
            "type": "parcoords"
           }
          ],
          "pie": [
           {
            "automargin": true,
            "type": "pie"
           }
          ],
          "scatter": [
           {
            "fillpattern": {
             "fillmode": "overlay",
             "size": 10,
             "solidity": 0.2
            },
            "type": "scatter"
           }
          ],
          "scatter3d": [
           {
            "line": {
             "colorbar": {
              "outlinewidth": 0,
              "ticks": ""
             }
            },
            "marker": {
             "colorbar": {
              "outlinewidth": 0,
              "ticks": ""
             }
            },
            "type": "scatter3d"
           }
          ],
          "scattercarpet": [
           {
            "marker": {
             "colorbar": {
              "outlinewidth": 0,
              "ticks": ""
             }
            },
            "type": "scattercarpet"
           }
          ],
          "scattergeo": [
           {
            "marker": {
             "colorbar": {
              "outlinewidth": 0,
              "ticks": ""
             }
            },
            "type": "scattergeo"
           }
          ],
          "scattergl": [
           {
            "marker": {
             "colorbar": {
              "outlinewidth": 0,
              "ticks": ""
             }
            },
            "type": "scattergl"
           }
          ],
          "scattermapbox": [
           {
            "marker": {
             "colorbar": {
              "outlinewidth": 0,
              "ticks": ""
             }
            },
            "type": "scattermapbox"
           }
          ],
          "scatterpolar": [
           {
            "marker": {
             "colorbar": {
              "outlinewidth": 0,
              "ticks": ""
             }
            },
            "type": "scatterpolar"
           }
          ],
          "scatterpolargl": [
           {
            "marker": {
             "colorbar": {
              "outlinewidth": 0,
              "ticks": ""
             }
            },
            "type": "scatterpolargl"
           }
          ],
          "scatterternary": [
           {
            "marker": {
             "colorbar": {
              "outlinewidth": 0,
              "ticks": ""
             }
            },
            "type": "scatterternary"
           }
          ],
          "surface": [
           {
            "colorbar": {
             "outlinewidth": 0,
             "ticks": ""
            },
            "colorscale": [
             [
              0,
              "#0d0887"
             ],
             [
              0.1111111111111111,
              "#46039f"
             ],
             [
              0.2222222222222222,
              "#7201a8"
             ],
             [
              0.3333333333333333,
              "#9c179e"
             ],
             [
              0.4444444444444444,
              "#bd3786"
             ],
             [
              0.5555555555555556,
              "#d8576b"
             ],
             [
              0.6666666666666666,
              "#ed7953"
             ],
             [
              0.7777777777777778,
              "#fb9f3a"
             ],
             [
              0.8888888888888888,
              "#fdca26"
             ],
             [
              1,
              "#f0f921"
             ]
            ],
            "type": "surface"
           }
          ],
          "table": [
           {
            "cells": {
             "fill": {
              "color": "#EBF0F8"
             },
             "line": {
              "color": "white"
             }
            },
            "header": {
             "fill": {
              "color": "#C8D4E3"
             },
             "line": {
              "color": "white"
             }
            },
            "type": "table"
           }
          ]
         },
         "layout": {
          "annotationdefaults": {
           "arrowcolor": "#2a3f5f",
           "arrowhead": 0,
           "arrowwidth": 1
          },
          "autotypenumbers": "strict",
          "coloraxis": {
           "colorbar": {
            "outlinewidth": 0,
            "ticks": ""
           }
          },
          "colorscale": {
           "diverging": [
            [
             0,
             "#8e0152"
            ],
            [
             0.1,
             "#c51b7d"
            ],
            [
             0.2,
             "#de77ae"
            ],
            [
             0.3,
             "#f1b6da"
            ],
            [
             0.4,
             "#fde0ef"
            ],
            [
             0.5,
             "#f7f7f7"
            ],
            [
             0.6,
             "#e6f5d0"
            ],
            [
             0.7,
             "#b8e186"
            ],
            [
             0.8,
             "#7fbc41"
            ],
            [
             0.9,
             "#4d9221"
            ],
            [
             1,
             "#276419"
            ]
           ],
           "sequential": [
            [
             0,
             "#0d0887"
            ],
            [
             0.1111111111111111,
             "#46039f"
            ],
            [
             0.2222222222222222,
             "#7201a8"
            ],
            [
             0.3333333333333333,
             "#9c179e"
            ],
            [
             0.4444444444444444,
             "#bd3786"
            ],
            [
             0.5555555555555556,
             "#d8576b"
            ],
            [
             0.6666666666666666,
             "#ed7953"
            ],
            [
             0.7777777777777778,
             "#fb9f3a"
            ],
            [
             0.8888888888888888,
             "#fdca26"
            ],
            [
             1,
             "#f0f921"
            ]
           ],
           "sequentialminus": [
            [
             0,
             "#0d0887"
            ],
            [
             0.1111111111111111,
             "#46039f"
            ],
            [
             0.2222222222222222,
             "#7201a8"
            ],
            [
             0.3333333333333333,
             "#9c179e"
            ],
            [
             0.4444444444444444,
             "#bd3786"
            ],
            [
             0.5555555555555556,
             "#d8576b"
            ],
            [
             0.6666666666666666,
             "#ed7953"
            ],
            [
             0.7777777777777778,
             "#fb9f3a"
            ],
            [
             0.8888888888888888,
             "#fdca26"
            ],
            [
             1,
             "#f0f921"
            ]
           ]
          },
          "colorway": [
           "#636efa",
           "#EF553B",
           "#00cc96",
           "#ab63fa",
           "#FFA15A",
           "#19d3f3",
           "#FF6692",
           "#B6E880",
           "#FF97FF",
           "#FECB52"
          ],
          "font": {
           "color": "#2a3f5f"
          },
          "geo": {
           "bgcolor": "white",
           "lakecolor": "white",
           "landcolor": "#E5ECF6",
           "showlakes": true,
           "showland": true,
           "subunitcolor": "white"
          },
          "hoverlabel": {
           "align": "left"
          },
          "hovermode": "closest",
          "mapbox": {
           "style": "light"
          },
          "paper_bgcolor": "white",
          "plot_bgcolor": "#E5ECF6",
          "polar": {
           "angularaxis": {
            "gridcolor": "white",
            "linecolor": "white",
            "ticks": ""
           },
           "bgcolor": "#E5ECF6",
           "radialaxis": {
            "gridcolor": "white",
            "linecolor": "white",
            "ticks": ""
           }
          },
          "scene": {
           "xaxis": {
            "backgroundcolor": "#E5ECF6",
            "gridcolor": "white",
            "gridwidth": 2,
            "linecolor": "white",
            "showbackground": true,
            "ticks": "",
            "zerolinecolor": "white"
           },
           "yaxis": {
            "backgroundcolor": "#E5ECF6",
            "gridcolor": "white",
            "gridwidth": 2,
            "linecolor": "white",
            "showbackground": true,
            "ticks": "",
            "zerolinecolor": "white"
           },
           "zaxis": {
            "backgroundcolor": "#E5ECF6",
            "gridcolor": "white",
            "gridwidth": 2,
            "linecolor": "white",
            "showbackground": true,
            "ticks": "",
            "zerolinecolor": "white"
           }
          },
          "shapedefaults": {
           "line": {
            "color": "#2a3f5f"
           }
          },
          "ternary": {
           "aaxis": {
            "gridcolor": "white",
            "linecolor": "white",
            "ticks": ""
           },
           "baxis": {
            "gridcolor": "white",
            "linecolor": "white",
            "ticks": ""
           },
           "bgcolor": "#E5ECF6",
           "caxis": {
            "gridcolor": "white",
            "linecolor": "white",
            "ticks": ""
           }
          },
          "title": {
           "x": 0.05
          },
          "xaxis": {
           "automargin": true,
           "gridcolor": "white",
           "linecolor": "white",
           "ticks": "",
           "title": {
            "standoff": 15
           },
           "zerolinecolor": "white",
           "zerolinewidth": 2
          },
          "yaxis": {
           "automargin": true,
           "gridcolor": "white",
           "linecolor": "white",
           "ticks": "",
           "title": {
            "standoff": 15
           },
           "zerolinecolor": "white",
           "zerolinewidth": 2
          }
         }
        },
        "title": {
         "text": "Mo Ka have center at channel 1762.0612914863525"
        },
        "xaxis": {
         "title": {
          "text": "Channel"
         }
        },
        "yaxis": {
         "title": {
          "text": "Counts"
         }
        }
       }
      }
     },
     "metadata": {},
     "output_type": "display_data"
    }
   ],
   "source": [
    "# fit Mo Ka with one gaussian\n",
    "fit_vals_mo_ka, _ = curve_fit(gaussian, channels[start2:end2], mo30[start2:end2], p0=[1, 1760, 1])\n",
    "print(fit_vals_mo_ka[1])\n",
    "fig2 = go.Figure()\n",
    "fig2.add_trace(go.Scatter(x=channels[start2:end2], y=mo30[start2:end2], name='data'))\n",
    "fig2.add_trace(go.Scatter(x=channels[start2:end2], y=gaussian(channels[start2:end2], *fit_vals_mo_ka), name='fit'))\n",
    "fig2.update_layout(title=f'Mo Ka have center at channel {fit_vals_mo_ka[1]}', xaxis_title='Channel', yaxis_title='Counts')\n",
    "# fig2.show()"
   ]
  },
  {
   "cell_type": "code",
   "execution_count": 80,
   "metadata": {},
   "outputs": [
    {
     "name": "stdout",
     "output_type": "stream",
     "text": [
      "dispersion: 0.010039892338014457, offset: 21.076486916545974 channels, -0.21160565950569188 keV\n"
     ]
    }
   ],
   "source": [
    "# the dispersion with Mo La and Mo Ka\n",
    "\n",
    "mo_ka = 17.4793 # keV\n",
    "mo_la = 2.2932 # keV\n",
    "dispersion_mo_ka_la = (mo_ka - mo_la) / (fit_vals_mo_ka[1] - fit_vals_mo_la[4])\n",
    "offset_keV_mo_ka_la = mo_la - dispersion_mo_ka_la * fit_vals_mo_la[4]\n",
    "offset_mo_ka_la = fit_vals_mo_la[4] - mo_la / dispersion_mo_ka_la\n",
    "print(f'dispersion: {dispersion_mo_ka_la}, offset: {offset_mo_ka_la} channels, {offset_keV_mo_ka_la} keV')\n",
    "\n",
    "dispersion_mo = 0.010039892338014457\n",
    "offset_mo = 21.076486916545974"
   ]
  },
  {
   "cell_type": "markdown",
   "metadata": {},
   "source": [
    "# Mo calibration\n",
    "## dispersion: 0.010039892338014457, offset: 21.076486916545974 channels"
   ]
  }
 ],
 "metadata": {
  "kernelspec": {
   "display_name": "Python 3.8.13 ('hspy')",
   "language": "python",
   "name": "python3"
  },
  "language_info": {
   "codemirror_mode": {
    "name": "ipython",
    "version": 3
   },
   "file_extension": ".py",
   "mimetype": "text/x-python",
   "name": "python",
   "nbconvert_exporter": "python",
   "pygments_lexer": "ipython3",
   "version": "3.8.13"
  },
  "orig_nbformat": 4,
  "vscode": {
   "interpreter": {
    "hash": "eedee208f6f0fe67ac5ec53646d8853bbb152098f521b748accd5958a126e1a5"
   }
  }
 },
 "nbformat": 4,
 "nbformat_minor": 2
}
