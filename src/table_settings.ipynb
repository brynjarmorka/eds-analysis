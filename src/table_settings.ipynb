{
 "cells": [
  {
   "cell_type": "code",
   "execution_count": 57,
   "metadata": {},
   "outputs": [],
   "source": [
    "import plotly.graph_objects as go\n",
    "import numpy as np\n",
    "import hyperspy.api as hs\n",
    "from plotly.subplots import make_subplots\n",
    "# from scipy.signal import find_peaks\n",
    "\n",
    "from utils.get_raw_data import  locate_raw_data, get_multiple_data_arrays\n",
    "from utils.get_raw_data import get_array_and_names\n",
    "\n",
    "emsa = locate_raw_data()"
   ]
  },
  {
   "cell_type": "code",
   "execution_count": 86,
   "metadata": {},
   "outputs": [],
   "source": [
    "# from my notes\n",
    "i_beam = [0.2, 0.2, 0.4, 0.1, 1.6, 1.6, 0.8, 0.2, 1.6, 1.6, 0.4, 0.2, 1.6, 1.6, 1.6, 1.6, 1.6, 1.6, 0.2, 0.2]\n",
    "dt = [10, 30, 15, 22, 33, 65, 58, 30, 30, 66, 42, 35, 5, 18, 18, 12, 27, 65, 25, 40]"
   ]
  },
  {
   "cell_type": "code",
   "execution_count": 87,
   "metadata": {},
   "outputs": [],
   "source": [
    "s = get_multiple_data_arrays(every=True, normalize=False)"
   ]
  },
  {
   "cell_type": "code",
   "execution_count": 88,
   "metadata": {},
   "outputs": [
    {
     "data": {
      "text/plain": [
       "[120.0,\n",
       " 58.0,\n",
       " 120.0,\n",
       " 120.0,\n",
       " 44.0,\n",
       " 55.0,\n",
       " 46.429515839,\n",
       " 120.0,\n",
       " 120.0,\n",
       " 68.0,\n",
       " 67.0,\n",
       " 44.0,\n",
       " 120.0,\n",
       " 120.0,\n",
       " 120.0,\n",
       " 120.0,\n",
       " 104.0,\n",
       " 45.0,\n",
       " 120.0,\n",
       " 86.834312439]"
      ]
     },
     "execution_count": 88,
     "metadata": {},
     "output_type": "execute_result"
    }
   ],
   "source": [
    "def print_lines(file, lines):\n",
    "    with open(file, 'r') as f:\n",
    "        for i, line in enumerate(f):\n",
    "            if i in lines:\n",
    "                lst = float(line.split(':')[1][1:-1])\n",
    "    return lst\n",
    "\n",
    "def get_live_time():\n",
    "    lst = []\n",
    "    l = [15] \n",
    "    for f in emsa:\n",
    "        lst.append(print_lines(f, l))\n",
    "    return lst\n",
    "\n",
    "live_time = get_live_time()\n",
    "live_time"
   ]
  },
  {
   "cell_type": "code",
   "execution_count": 89,
   "metadata": {},
   "outputs": [
    {
     "data": {
      "text/plain": [
       "['5',\n",
       " '10',\n",
       " '30',\n",
       " '30',\n",
       " '5',\n",
       " '10',\n",
       " '15',\n",
       " '30',\n",
       " '5',\n",
       " '10',\n",
       " '15',\n",
       " '30',\n",
       " '5',\n",
       " '10',\n",
       " '15',\n",
       " '30',\n",
       " '5',\n",
       " '10',\n",
       " '15',\n",
       " '30']"
      ]
     },
     "execution_count": 89,
     "metadata": {},
     "output_type": "execute_result"
    }
   ],
   "source": [
    "sums = []\n",
    "for i in range(len(s)):\n",
    "    sums.append(s[i][1].sum())\n",
    "maxs = []\n",
    "for i in range(len(s)):\n",
    "    maxs.append(s[i][1].max())\n",
    "names = [n.split('_')[0] for n, _ in s]\n",
    "v = [n.split('_')[1][:-2] for n, _ in s]\n",
    "# make 05 into 5 in v\n",
    "for i in range(len(v)):\n",
    "    if v[i][0] == '0':\n",
    "        v[i] = v[i][1:]\n",
    "v"
   ]
  },
  {
   "cell_type": "code",
   "execution_count": 94,
   "metadata": {},
   "outputs": [
    {
     "name": "stdout",
     "output_type": "stream",
     "text": [
      "Sample               & V$_acc$ [kV]    & I$_beam$ [nA]   & Dead time [\\%]    & Live time [s]   & Highest peak [k counts] & Total [k counts] \\\\\n",
      "\\hline\n",
      "Cu                   & 5               &             0.2 &    10 &             120 &              18 &             155 \\\\\n",
      "Cu                   & 10              &             0.2 &    30 &              58 &               5 &              62 \\\\\n",
      "Cu                   & 30              &             0.4 &    15 &             120 &              94 &            1060 \\\\\n",
      "Fe                   & 30              &             0.1 &    22 &             120 &             197 &            1864 \\\\\n",
      "GaAs                 & 5               &             1.6 &    33 &              44 &              49 &            1172 \\\\\n",
      "GaAs                 & 10              &             1.6 &    65 &              55 &             164 &            3715 \\\\\n",
      "GaAs                 & 15              &             0.8 &    58 &              46 &             112 &            2653 \\\\\n",
      "GaAs                 & 30              &             0.2 &    30 &             120 &              72 &            2726 \\\\\n",
      "Mo                   & 5               &             1.6 &    30 &             120 &              72 &            2738 \\\\\n",
      "Mo                   & 10              &             1.6 &    66 &              68 &             151 &            4779 \\\\\n",
      "Mo                   & 15              &             0.4 &    42 &              67 &              80 &            2244 \\\\\n",
      "Mo                   & 30              &             0.2 &    35 &              44 &              45 &            1211 \\\\\n",
      "NW                   & 5               &             1.6 &     5 &             120 &              25 &             834 \\\\\n",
      "NW                   & 10              &             1.6 &    18 &             120 &              50 &            1489 \\\\\n",
      "NW                   & 15              &             1.6 &    18 &             120 &              46 &            1413 \\\\\n",
      "NW                   & 30              &             1.6 &    12 &             120 &              25 &             963 \\\\\n",
      "Si                   & 5               &             1.6 &    27 &             104 &             148 &            1962 \\\\\n",
      "Si                   & 10              &             1.6 &    65 &              45 &             282 &            3160 \\\\\n",
      "Si                   & 15              &             0.2 &    25 &             120 &             209 &            2188 \\\\\n",
      "Si                   & 30              &             0.2 &    40 &              87 &             288 &            2912 \\\\\n",
      "\n",
      "\n",
      "\n",
      "\n",
      "\n",
      "\n",
      "\n",
      "\n",
      "\n"
     ]
    }
   ],
   "source": [
    "# make latex table\n",
    "\n",
    "perc = '\\%'\n",
    "d = '&'\n",
    "\n",
    "header = f'{\"Sample\":20} {d} {\"V$_acc$ [kV]\":15} {d} {\"I$_beam$ [nA]\":15} {d} Dead time [\\\\{\"%]\":5}' \n",
    "header += f' {d} {\"Live time [s]\":15} {d} {\"Highest peak [k counts]\":15} {d} {\"Total [k counts]\":15} \\\\\\\\'\n",
    "header += '\\n\\\\hline'\n",
    "print(header)\n",
    "\n",
    "for i in range(len(names)):\n",
    "    print(f'{names[i]:20} {d} {v[i]:15} {d} {i_beam[i]:15} {d} {dt[i]:5} {d} {live_time[i]:15.0f} {d} {maxs[i]/1000:15.0f} {d} {sums[i]/1000:15.0f} \\\\\\\\')\n",
    "print('\\n\\n\\n\\n\\n\\n\\n\\n')"
   ]
  },
  {
   "cell_type": "code",
   "execution_count": 91,
   "metadata": {},
   "outputs": [
    {
     "data": {
      "application/vnd.plotly.v1+json": {
       "config": {
        "plotlyServerURL": "https://plot.ly"
       },
       "data": [
        {
         "cells": {
          "values": [
           [
            "Cu",
            "Cu",
            "Cu",
            "Fe",
            "GaAs",
            "GaAs",
            "GaAs",
            "GaAs",
            "Mo",
            "Mo",
            "Mo",
            "Mo",
            "NW",
            "NW",
            "NW",
            "NW",
            "Si",
            "Si",
            "Si",
            "Si"
           ],
           [
            "5",
            "10",
            "30",
            "30",
            "5",
            "10",
            "15",
            "30",
            "5",
            "10",
            "15",
            "30",
            "5",
            "10",
            "15",
            "30",
            "5",
            "10",
            "15",
            "30"
           ],
           [
            0.2,
            0.2,
            0.4,
            0.1,
            1.6,
            1.6,
            0.8,
            0.2,
            1.6,
            1.6,
            0.4,
            0.2,
            1.6,
            1.6,
            1.6,
            1.6,
            1.6,
            1.6,
            0.2,
            0.2
           ],
           [
            10,
            30,
            15,
            22,
            33,
            65,
            58,
            30,
            30,
            66,
            42,
            35,
            5,
            18,
            18,
            12,
            27,
            65,
            25,
            40
           ],
           [
            120,
            58,
            120,
            120,
            44,
            55,
            46.429515839,
            120,
            120,
            68,
            67,
            44,
            120,
            120,
            120,
            120,
            104,
            45,
            120,
            86.834312439
           ],
           [
            17.528,
            5.045,
            94.044,
            197.069,
            49.076,
            164.47,
            112.396,
            71.692,
            71.918,
            151.308,
            79.86,
            44.638,
            25.372,
            50.252,
            45.5,
            25.43,
            148.446,
            281.605,
            208.97,
            288.403
           ],
           [
            155.106,
            61.854,
            1059.979,
            1863.807,
            1172.123,
            3715.247,
            2652.78,
            2726.371,
            2738.435,
            4778.83,
            2244.287,
            1210.705,
            833.809,
            1489.371,
            1413.134,
            963.305,
            1961.983,
            3160.116,
            2188.021,
            2911.883
           ]
          ]
         },
         "header": {
          "values": [
           "Sample",
           "V$_acc$ [kV]",
           "I$_beam$ [nA]",
           "Dead time [\\%]",
           "Live time [s]",
           "Highest peak [k counts]",
           "Total [k counts]"
          ]
         },
         "type": "table"
        }
       ],
       "layout": {
        "template": {
         "data": {
          "bar": [
           {
            "error_x": {
             "color": "#2a3f5f"
            },
            "error_y": {
             "color": "#2a3f5f"
            },
            "marker": {
             "line": {
              "color": "#E5ECF6",
              "width": 0.5
             },
             "pattern": {
              "fillmode": "overlay",
              "size": 10,
              "solidity": 0.2
             }
            },
            "type": "bar"
           }
          ],
          "barpolar": [
           {
            "marker": {
             "line": {
              "color": "#E5ECF6",
              "width": 0.5
             },
             "pattern": {
              "fillmode": "overlay",
              "size": 10,
              "solidity": 0.2
             }
            },
            "type": "barpolar"
           }
          ],
          "carpet": [
           {
            "aaxis": {
             "endlinecolor": "#2a3f5f",
             "gridcolor": "white",
             "linecolor": "white",
             "minorgridcolor": "white",
             "startlinecolor": "#2a3f5f"
            },
            "baxis": {
             "endlinecolor": "#2a3f5f",
             "gridcolor": "white",
             "linecolor": "white",
             "minorgridcolor": "white",
             "startlinecolor": "#2a3f5f"
            },
            "type": "carpet"
           }
          ],
          "choropleth": [
           {
            "colorbar": {
             "outlinewidth": 0,
             "ticks": ""
            },
            "type": "choropleth"
           }
          ],
          "contour": [
           {
            "colorbar": {
             "outlinewidth": 0,
             "ticks": ""
            },
            "colorscale": [
             [
              0,
              "#0d0887"
             ],
             [
              0.1111111111111111,
              "#46039f"
             ],
             [
              0.2222222222222222,
              "#7201a8"
             ],
             [
              0.3333333333333333,
              "#9c179e"
             ],
             [
              0.4444444444444444,
              "#bd3786"
             ],
             [
              0.5555555555555556,
              "#d8576b"
             ],
             [
              0.6666666666666666,
              "#ed7953"
             ],
             [
              0.7777777777777778,
              "#fb9f3a"
             ],
             [
              0.8888888888888888,
              "#fdca26"
             ],
             [
              1,
              "#f0f921"
             ]
            ],
            "type": "contour"
           }
          ],
          "contourcarpet": [
           {
            "colorbar": {
             "outlinewidth": 0,
             "ticks": ""
            },
            "type": "contourcarpet"
           }
          ],
          "heatmap": [
           {
            "colorbar": {
             "outlinewidth": 0,
             "ticks": ""
            },
            "colorscale": [
             [
              0,
              "#0d0887"
             ],
             [
              0.1111111111111111,
              "#46039f"
             ],
             [
              0.2222222222222222,
              "#7201a8"
             ],
             [
              0.3333333333333333,
              "#9c179e"
             ],
             [
              0.4444444444444444,
              "#bd3786"
             ],
             [
              0.5555555555555556,
              "#d8576b"
             ],
             [
              0.6666666666666666,
              "#ed7953"
             ],
             [
              0.7777777777777778,
              "#fb9f3a"
             ],
             [
              0.8888888888888888,
              "#fdca26"
             ],
             [
              1,
              "#f0f921"
             ]
            ],
            "type": "heatmap"
           }
          ],
          "heatmapgl": [
           {
            "colorbar": {
             "outlinewidth": 0,
             "ticks": ""
            },
            "colorscale": [
             [
              0,
              "#0d0887"
             ],
             [
              0.1111111111111111,
              "#46039f"
             ],
             [
              0.2222222222222222,
              "#7201a8"
             ],
             [
              0.3333333333333333,
              "#9c179e"
             ],
             [
              0.4444444444444444,
              "#bd3786"
             ],
             [
              0.5555555555555556,
              "#d8576b"
             ],
             [
              0.6666666666666666,
              "#ed7953"
             ],
             [
              0.7777777777777778,
              "#fb9f3a"
             ],
             [
              0.8888888888888888,
              "#fdca26"
             ],
             [
              1,
              "#f0f921"
             ]
            ],
            "type": "heatmapgl"
           }
          ],
          "histogram": [
           {
            "marker": {
             "pattern": {
              "fillmode": "overlay",
              "size": 10,
              "solidity": 0.2
             }
            },
            "type": "histogram"
           }
          ],
          "histogram2d": [
           {
            "colorbar": {
             "outlinewidth": 0,
             "ticks": ""
            },
            "colorscale": [
             [
              0,
              "#0d0887"
             ],
             [
              0.1111111111111111,
              "#46039f"
             ],
             [
              0.2222222222222222,
              "#7201a8"
             ],
             [
              0.3333333333333333,
              "#9c179e"
             ],
             [
              0.4444444444444444,
              "#bd3786"
             ],
             [
              0.5555555555555556,
              "#d8576b"
             ],
             [
              0.6666666666666666,
              "#ed7953"
             ],
             [
              0.7777777777777778,
              "#fb9f3a"
             ],
             [
              0.8888888888888888,
              "#fdca26"
             ],
             [
              1,
              "#f0f921"
             ]
            ],
            "type": "histogram2d"
           }
          ],
          "histogram2dcontour": [
           {
            "colorbar": {
             "outlinewidth": 0,
             "ticks": ""
            },
            "colorscale": [
             [
              0,
              "#0d0887"
             ],
             [
              0.1111111111111111,
              "#46039f"
             ],
             [
              0.2222222222222222,
              "#7201a8"
             ],
             [
              0.3333333333333333,
              "#9c179e"
             ],
             [
              0.4444444444444444,
              "#bd3786"
             ],
             [
              0.5555555555555556,
              "#d8576b"
             ],
             [
              0.6666666666666666,
              "#ed7953"
             ],
             [
              0.7777777777777778,
              "#fb9f3a"
             ],
             [
              0.8888888888888888,
              "#fdca26"
             ],
             [
              1,
              "#f0f921"
             ]
            ],
            "type": "histogram2dcontour"
           }
          ],
          "mesh3d": [
           {
            "colorbar": {
             "outlinewidth": 0,
             "ticks": ""
            },
            "type": "mesh3d"
           }
          ],
          "parcoords": [
           {
            "line": {
             "colorbar": {
              "outlinewidth": 0,
              "ticks": ""
             }
            },
            "type": "parcoords"
           }
          ],
          "pie": [
           {
            "automargin": true,
            "type": "pie"
           }
          ],
          "scatter": [
           {
            "fillpattern": {
             "fillmode": "overlay",
             "size": 10,
             "solidity": 0.2
            },
            "type": "scatter"
           }
          ],
          "scatter3d": [
           {
            "line": {
             "colorbar": {
              "outlinewidth": 0,
              "ticks": ""
             }
            },
            "marker": {
             "colorbar": {
              "outlinewidth": 0,
              "ticks": ""
             }
            },
            "type": "scatter3d"
           }
          ],
          "scattercarpet": [
           {
            "marker": {
             "colorbar": {
              "outlinewidth": 0,
              "ticks": ""
             }
            },
            "type": "scattercarpet"
           }
          ],
          "scattergeo": [
           {
            "marker": {
             "colorbar": {
              "outlinewidth": 0,
              "ticks": ""
             }
            },
            "type": "scattergeo"
           }
          ],
          "scattergl": [
           {
            "marker": {
             "colorbar": {
              "outlinewidth": 0,
              "ticks": ""
             }
            },
            "type": "scattergl"
           }
          ],
          "scattermapbox": [
           {
            "marker": {
             "colorbar": {
              "outlinewidth": 0,
              "ticks": ""
             }
            },
            "type": "scattermapbox"
           }
          ],
          "scatterpolar": [
           {
            "marker": {
             "colorbar": {
              "outlinewidth": 0,
              "ticks": ""
             }
            },
            "type": "scatterpolar"
           }
          ],
          "scatterpolargl": [
           {
            "marker": {
             "colorbar": {
              "outlinewidth": 0,
              "ticks": ""
             }
            },
            "type": "scatterpolargl"
           }
          ],
          "scatterternary": [
           {
            "marker": {
             "colorbar": {
              "outlinewidth": 0,
              "ticks": ""
             }
            },
            "type": "scatterternary"
           }
          ],
          "surface": [
           {
            "colorbar": {
             "outlinewidth": 0,
             "ticks": ""
            },
            "colorscale": [
             [
              0,
              "#0d0887"
             ],
             [
              0.1111111111111111,
              "#46039f"
             ],
             [
              0.2222222222222222,
              "#7201a8"
             ],
             [
              0.3333333333333333,
              "#9c179e"
             ],
             [
              0.4444444444444444,
              "#bd3786"
             ],
             [
              0.5555555555555556,
              "#d8576b"
             ],
             [
              0.6666666666666666,
              "#ed7953"
             ],
             [
              0.7777777777777778,
              "#fb9f3a"
             ],
             [
              0.8888888888888888,
              "#fdca26"
             ],
             [
              1,
              "#f0f921"
             ]
            ],
            "type": "surface"
           }
          ],
          "table": [
           {
            "cells": {
             "fill": {
              "color": "#EBF0F8"
             },
             "line": {
              "color": "white"
             }
            },
            "header": {
             "fill": {
              "color": "#C8D4E3"
             },
             "line": {
              "color": "white"
             }
            },
            "type": "table"
           }
          ]
         },
         "layout": {
          "annotationdefaults": {
           "arrowcolor": "#2a3f5f",
           "arrowhead": 0,
           "arrowwidth": 1
          },
          "autotypenumbers": "strict",
          "coloraxis": {
           "colorbar": {
            "outlinewidth": 0,
            "ticks": ""
           }
          },
          "colorscale": {
           "diverging": [
            [
             0,
             "#8e0152"
            ],
            [
             0.1,
             "#c51b7d"
            ],
            [
             0.2,
             "#de77ae"
            ],
            [
             0.3,
             "#f1b6da"
            ],
            [
             0.4,
             "#fde0ef"
            ],
            [
             0.5,
             "#f7f7f7"
            ],
            [
             0.6,
             "#e6f5d0"
            ],
            [
             0.7,
             "#b8e186"
            ],
            [
             0.8,
             "#7fbc41"
            ],
            [
             0.9,
             "#4d9221"
            ],
            [
             1,
             "#276419"
            ]
           ],
           "sequential": [
            [
             0,
             "#0d0887"
            ],
            [
             0.1111111111111111,
             "#46039f"
            ],
            [
             0.2222222222222222,
             "#7201a8"
            ],
            [
             0.3333333333333333,
             "#9c179e"
            ],
            [
             0.4444444444444444,
             "#bd3786"
            ],
            [
             0.5555555555555556,
             "#d8576b"
            ],
            [
             0.6666666666666666,
             "#ed7953"
            ],
            [
             0.7777777777777778,
             "#fb9f3a"
            ],
            [
             0.8888888888888888,
             "#fdca26"
            ],
            [
             1,
             "#f0f921"
            ]
           ],
           "sequentialminus": [
            [
             0,
             "#0d0887"
            ],
            [
             0.1111111111111111,
             "#46039f"
            ],
            [
             0.2222222222222222,
             "#7201a8"
            ],
            [
             0.3333333333333333,
             "#9c179e"
            ],
            [
             0.4444444444444444,
             "#bd3786"
            ],
            [
             0.5555555555555556,
             "#d8576b"
            ],
            [
             0.6666666666666666,
             "#ed7953"
            ],
            [
             0.7777777777777778,
             "#fb9f3a"
            ],
            [
             0.8888888888888888,
             "#fdca26"
            ],
            [
             1,
             "#f0f921"
            ]
           ]
          },
          "colorway": [
           "#636efa",
           "#EF553B",
           "#00cc96",
           "#ab63fa",
           "#FFA15A",
           "#19d3f3",
           "#FF6692",
           "#B6E880",
           "#FF97FF",
           "#FECB52"
          ],
          "font": {
           "color": "#2a3f5f"
          },
          "geo": {
           "bgcolor": "white",
           "lakecolor": "white",
           "landcolor": "#E5ECF6",
           "showlakes": true,
           "showland": true,
           "subunitcolor": "white"
          },
          "hoverlabel": {
           "align": "left"
          },
          "hovermode": "closest",
          "mapbox": {
           "style": "light"
          },
          "paper_bgcolor": "white",
          "plot_bgcolor": "#E5ECF6",
          "polar": {
           "angularaxis": {
            "gridcolor": "white",
            "linecolor": "white",
            "ticks": ""
           },
           "bgcolor": "#E5ECF6",
           "radialaxis": {
            "gridcolor": "white",
            "linecolor": "white",
            "ticks": ""
           }
          },
          "scene": {
           "xaxis": {
            "backgroundcolor": "#E5ECF6",
            "gridcolor": "white",
            "gridwidth": 2,
            "linecolor": "white",
            "showbackground": true,
            "ticks": "",
            "zerolinecolor": "white"
           },
           "yaxis": {
            "backgroundcolor": "#E5ECF6",
            "gridcolor": "white",
            "gridwidth": 2,
            "linecolor": "white",
            "showbackground": true,
            "ticks": "",
            "zerolinecolor": "white"
           },
           "zaxis": {
            "backgroundcolor": "#E5ECF6",
            "gridcolor": "white",
            "gridwidth": 2,
            "linecolor": "white",
            "showbackground": true,
            "ticks": "",
            "zerolinecolor": "white"
           }
          },
          "shapedefaults": {
           "line": {
            "color": "#2a3f5f"
           }
          },
          "ternary": {
           "aaxis": {
            "gridcolor": "white",
            "linecolor": "white",
            "ticks": ""
           },
           "baxis": {
            "gridcolor": "white",
            "linecolor": "white",
            "ticks": ""
           },
           "bgcolor": "#E5ECF6",
           "caxis": {
            "gridcolor": "white",
            "linecolor": "white",
            "ticks": ""
           }
          },
          "title": {
           "x": 0.05
          },
          "xaxis": {
           "automargin": true,
           "gridcolor": "white",
           "linecolor": "white",
           "ticks": "",
           "title": {
            "standoff": 15
           },
           "zerolinecolor": "white",
           "zerolinewidth": 2
          },
          "yaxis": {
           "automargin": true,
           "gridcolor": "white",
           "linecolor": "white",
           "ticks": "",
           "title": {
            "standoff": 15
           },
           "zerolinecolor": "white",
           "zerolinewidth": 2
          }
         }
        }
       }
      }
     },
     "metadata": {},
     "output_type": "display_data"
    }
   ],
   "source": [
    "# put into a plotly table\n",
    "\n",
    "fig = go.Figure(data=[go.Table(\n",
    "    header=dict(values=['Sample', 'V$_acc$ [kV]', 'I$_beam$ [nA]', 'Dead time [\\\\%]', 'Live time [s]', 'Highest peak [k counts]', 'Total [k counts]']),\n",
    "    cells=dict(values=[names, v, i_beam, dt, live_time, [m/1000 for m in maxs], [s/1000 for s in sums]]))\n",
    "])\n",
    "\n",
    "fig.show()"
   ]
  },
  {
   "cell_type": "code",
   "execution_count": null,
   "metadata": {},
   "outputs": [],
   "source": []
  }
 ],
 "metadata": {
  "kernelspec": {
   "display_name": "hspy",
   "language": "python",
   "name": "python3"
  },
  "language_info": {
   "codemirror_mode": {
    "name": "ipython",
    "version": 3
   },
   "file_extension": ".py",
   "mimetype": "text/x-python",
   "name": "python",
   "nbconvert_exporter": "python",
   "pygments_lexer": "ipython3",
   "version": "3.8.13"
  },
  "orig_nbformat": 4,
  "vscode": {
   "interpreter": {
    "hash": "eedee208f6f0fe67ac5ec53646d8853bbb152098f521b748accd5958a126e1a5"
   }
  }
 },
 "nbformat": 4,
 "nbformat_minor": 2
}
