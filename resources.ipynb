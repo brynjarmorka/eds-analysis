{
 "cells": [
  {
   "cell_type": "markdown",
   "metadata": {},
   "source": [
    "### Useful resources for this project\n",
    "\n",
    "Made here in nb-md to compile while working on the project"
   ]
  },
  {
   "cell_type": "markdown",
   "metadata": {},
   "source": [
    "# Unmixing\n",
    "\n",
    "- [Populærvitenskapelig forklaring av ICA](https://towardsdatascience.com/independent-component-analysis-ica-in-python-a0ef0db0955e) med jupyter kode og referanse til scikitlearn.\n",
    "\n",
    "- Sivert: Den “vanligste måten” er FastICA, men jeg har noe MATLAB kode som gjør JADE ICA og den har konvergensgarantier, men jeg vet ikke om det er nødvendig.\n"
   ]
  },
  {
   "cell_type": "markdown",
   "metadata": {},
   "source": [
    "# HyperSpy\n",
    "\n",
    "- [«introduction» og «07-EDX» relevant for deg.](https://github.com/TEM-Gemini-Centre/nordtemhub_digitalworkshop_2021) \n",
    "- [hyperSpy.org](https://hyperspy.org)\n",
    "- [HyperSpy documentation](https://hyperspy.org/hyperspy-doc/current/index.html)\n",
    "- [HyperSpy Github](https://github.com/hyperspy/hyperspy)\n"
   ]
  },
  {
   "cell_type": "markdown",
   "metadata": {},
   "source": []
  }
 ],
 "metadata": {
  "kernelspec": {
   "display_name": "Python 3.8.13 ('hspy')",
   "language": "python",
   "name": "python3"
  },
  "language_info": {
   "name": "python",
   "version": "3.8.13"
  },
  "orig_nbformat": 4,
  "vscode": {
   "interpreter": {
    "hash": "eedee208f6f0fe67ac5ec53646d8853bbb152098f521b748accd5958a126e1a5"
   }
  }
 },
 "nbformat": 4,
 "nbformat_minor": 2
}
