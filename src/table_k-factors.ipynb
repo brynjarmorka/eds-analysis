{
 "cells": [
  {
   "cell_type": "markdown",
   "metadata": {},
   "source": [
    "# Table for the k-factors from AZtec, and also their rati as Ga/As"
   ]
  },
  {
   "cell_type": "code",
   "execution_count": 35,
   "metadata": {},
   "outputs": [],
   "source": [
    "kf5 = [1.210, 1.086] # 5kV k-factors, As then Ga on the L-series\n",
    "kf10 = [1.310, 1.223] # 10kV k-factors, Ga and As L-series\n",
    "kf15 = [1.331, 1.259] # 15kV k-factors, Ga and As L-series\n",
    "kf30 = [4.191, 3.268] # 30kV k-factors, Ga and As K-series\n",
    "factors = [kf5, kf10, kf15, kf30] # [As, Ga]\n",
    "ratios = [kf5[1]/kf5[0], kf10[1]/kf10[0], kf15[1]/kf15[0], kf30[1]/kf30[0]] # Ga/As ratios\n",
    "\n",
    "el = ['Ga', 'As'] # elements\n",
    "line = ['L$\\\\alpha$', 'L$\\\\alpha$', 'L$\\\\alpha$', 'K$\\\\alpha$'] # lines\n",
    "rat = 'Ga/As'\n",
    "vacc = [5, 10, 15, 30] # kV\n",
    "d = ' & '"
   ]
  },
  {
   "cell_type": "code",
   "execution_count": 38,
   "metadata": {},
   "outputs": [
    {
     "name": "stdout",
     "output_type": "stream",
     "text": [
      "5    &  L$\\alpha$  &  1.21    &  1.086  &       0.898 \\\\\n",
      "10   &  L$\\alpha$  &  1.31    &  1.223  &       0.934 \\\\\n",
      "15   &  L$\\alpha$  &  1.331   &  1.259  &       0.946 \\\\\n",
      "30   &  K$\\alpha$  &  4.191   &  3.268  &       0.780 \\\\\n"
     ]
    }
   ],
   "source": [
    "# table like:\n",
    "# vacc, line, k-factor Ga, k-factor As, Ga/As ratio\n",
    "for i in range(len(vacc)):\n",
    "    print(f'{vacc[i]:<3} {d} {line[i]} {d} {factors[i][0]:<6} {d} {factors[i][1]} {d} {ratios[i]:10.3f} \\\\\\\\')"
   ]
  },
  {
   "cell_type": "code",
   "execution_count": 39,
   "metadata": {},
   "outputs": [
    {
     "data": {
      "text/plain": [
       "1.1512360000000001"
      ]
     },
     "execution_count": 39,
     "metadata": {},
     "output_type": "execute_result"
    }
   ],
   "source": [
    "1.282*0.898 # 5 kv L"
   ]
  },
  {
   "cell_type": "code",
   "execution_count": 40,
   "metadata": {},
   "outputs": [
    {
     "data": {
      "text/plain": [
       "1.3486960000000001"
      ]
     },
     "execution_count": 40,
     "metadata": {},
     "output_type": "execute_result"
    }
   ],
   "source": [
    "1.444 * 0.934 # 10 kv L"
   ]
  },
  {
   "cell_type": "code",
   "execution_count": 41,
   "metadata": {},
   "outputs": [
    {
     "data": {
      "text/plain": [
       "1.5788739999999999"
      ]
     },
     "execution_count": 41,
     "metadata": {},
     "output_type": "execute_result"
    }
   ],
   "source": [
    "1.669 * 0.946 # 15 kv L"
   ]
  },
  {
   "cell_type": "code",
   "execution_count": 42,
   "metadata": {},
   "outputs": [
    {
     "data": {
      "text/plain": [
       "1.308684"
      ]
     },
     "execution_count": 42,
     "metadata": {},
     "output_type": "execute_result"
    }
   ],
   "source": [
    "1.6778 * 0.780 # 30 kv K"
   ]
  },
  {
   "cell_type": "code",
   "execution_count": null,
   "metadata": {},
   "outputs": [],
   "source": []
  },
  {
   "cell_type": "code",
   "execution_count": null,
   "metadata": {},
   "outputs": [],
   "source": []
  }
 ],
 "metadata": {
  "kernelspec": {
   "display_name": "Python 3.8.13 ('hspy')",
   "language": "python",
   "name": "python3"
  },
  "language_info": {
   "codemirror_mode": {
    "name": "ipython",
    "version": 3
   },
   "file_extension": ".py",
   "mimetype": "text/x-python",
   "name": "python",
   "nbconvert_exporter": "python",
   "pygments_lexer": "ipython3",
   "version": "3.8.13"
  },
  "orig_nbformat": 4,
  "vscode": {
   "interpreter": {
    "hash": "eedee208f6f0fe67ac5ec53646d8853bbb152098f521b748accd5958a126e1a5"
   }
  }
 },
 "nbformat": 4,
 "nbformat_minor": 2
}
