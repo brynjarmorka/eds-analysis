{
 "cells": [
  {
   "cell_type": "code",
   "execution_count": 59,
   "metadata": {},
   "outputs": [],
   "source": [
    "import numpy as np\n",
    "import plotly.graph_objects as go\n",
    "from scipy.signal import find_peaks\n",
    "\n",
    "# utils and helper_files\n",
    "from utils.get_raw_data import get_multiple_data_arrays\n",
    "from helper_files.normalizations import normalize_high_peak\n",
    "from helper_files.gaussian_fitting import gaussian\n",
    "from helper_files.peak_ratios import split_arrs, channel_to_kev, find_peaks_arrs, remove_linear_bg, n_gaussians_and_m_order_bg, print_table, make_fit, find_nearest, fwhm, table_values_FWHM, plotly_table\n"
   ]
  },
  {
   "cell_type": "code",
   "execution_count": 60,
   "metadata": {},
   "outputs": [],
   "source": [
    "ga = get_multiple_data_arrays(filters=['GaAs'], normalize=False)\n",
    "# highest peak normalization\n",
    "norm = normalize_high_peak(ga)\n",
    "norm, names = split_arrs(norm)\n",
    "s = norm[3]"
   ]
  },
  {
   "cell_type": "code",
   "execution_count": 61,
   "metadata": {},
   "outputs": [],
   "source": [
    "dispersion = 0.0100283 # from GaAs, Ga La and As Ka peaks\n",
    "offset = 21.079\n",
    "deg = 12 # degree of the polynomial to the background\n",
    "prominence = 0.01 # prominence of the peaks, for the find_peaks\n",
    "pixel_removal = 50 # removal of pixels before and after each peak\n",
    "channel_points = 2048\n",
    "Vacc = 30\n",
    "\n",
    "channels = np.arange(0, channel_points)\n",
    "res_increase = 10 # resolution increase for fit\n",
    "channels_high_res = np.linspace(0, len(channels), len(channels) * res_increase)\n",
    "# to center the high_res on channels, we need to shift it by half res_increase\n",
    "# channels_high_res -= res_increase / 20\n",
    "\n",
    "keV = channel_to_kev(arr=channels, dispersion=dispersion, offset=offset)\n",
    "keV_high_res = channel_to_kev(arr=channels_high_res, dispersion=dispersion, offset=offset)\n",
    "\n",
    "title = 'GaAs'\n",
    "\n",
    "# the keV of the peaks for the table\n",
    "gaLa = 1.098\n",
    "asLa = 1.282\n",
    "gaKa = 9.251\n",
    "asKa = 10.543\n",
    "gaKb = 10.264\n",
    "asKb = 11.726\n",
    "\n",
    "# p_names = [\"Ga La\", \"As La\", \"Ga Ka\", \"As Ka\", \"Ga Kb\", \"As Kb\"]\n",
    "poi = [gaLa, asLa, gaKa, asKa, gaKb, asKb] # poi, peak of interest"
   ]
  },
  {
   "cell_type": "code",
   "execution_count": 165,
   "metadata": {},
   "outputs": [],
   "source": [
    "peaks, _ = find_peaks(s, prominence=prominence)\n",
    "# fig = go.Figure()\n",
    "# fig.update_layout(title=\"Plot on channels, find the calibration peaks\")\n",
    "# fig.add_trace(go.Scatter(x=channels, y=s, mode=\"markers\", name=names[0]))\n",
    "# for p in peaks:\n",
    "#     fig.add_vline(x=p, line_width=1, line_dash=\"dash\", line_color=\"red\", annotation_text=f\"{p}\")\n",
    "# fig"
   ]
  },
  {
   "cell_type": "code",
   "execution_count": 7,
   "metadata": {},
   "outputs": [
    {
     "data": {
      "text/plain": [
       "'2'"
      ]
     },
     "execution_count": 7,
     "metadata": {},
     "output_type": "execute_result"
    }
   ],
   "source": [
    "bg40 = remove_linear_bg(s, peaks, pixel_removal=40, offset=int(offset))\n",
    "bg100 = remove_linear_bg(s, peaks, pixel_removal=100, offset=int(offset))\n",
    "\n",
    "fig = go.Figure()\n",
    "fig.update_layout(title=\"Plot on channels, find the calibration peaks\")\n",
    "# fig.add_trace(go.Scatter(x=channels, y=s, mode=\"lines\", name='raw'))\n",
    "fig.add_trace(go.Scatter(x=keV, y=bg40, mode=\"lines\", name='bg'))\n",
    "fig.add_trace(go.Scatter(x=keV, y=bg100, mode=\"lines\", name='bg'))\n",
    "for p in peaks:\n",
    "    pk = channel_to_kev(p, dispersion=dispersion, offset=offset)\n",
    "    # fig.add_vline(x=p, line_width=1, line_dash=\"dash\", line_color=\"red\", annotation_text=f\"{p}\")\n",
    "    fig.add_vline(x=pk, line_width=1, line_dash=\"dash\", line_color=\"grey\")\n",
    "\n",
    "fig.update_layout(title=title, xaxis_title='keV', yaxis_title='Normalized intensity')\n",
    "\n",
    "'2'\n"
   ]
  },
  {
   "cell_type": "code",
   "execution_count": 30,
   "metadata": {},
   "outputs": [],
   "source": [
    "fit_vals, _ = make_fit(s, channels, deg=deg)\n",
    "fit_high_res = n_gaussians_and_m_order_bg(channels, deg, *fit_vals, high_res=True, res_increase=res_increase)\n",
    "fig = go.Figure()\n",
    "fig.add_trace(go.Scatter(x=keV, y=s, mode=\"lines\", name='raw'))\n",
    "fig.add_trace(go.Scatter(x=keV_high_res, y=fit_high_res, mode=\"lines\", name='fit high res'))\n",
    "\n",
    "for p in fit_vals[deg + 2::3]:\n",
    "    p = channel_to_kev(p, dispersion=dispersion, offset=offset)\n",
    "    fig.add_vline(x=p, line_width=1, line_dash=\"dash\", annotation_text=f\"{p:.1f}\")\n",
    "\n"
   ]
  },
  {
   "cell_type": "code",
   "execution_count": 34,
   "metadata": {},
   "outputs": [
    {
     "data": {
      "text/plain": [
       "array([ 7.61941376e-38, -5.30834547e-34,  1.31249197e-31,  1.02806676e-26,\n",
       "       -4.72681188e-23,  1.07726058e-19, -1.47828722e-16,  1.28060126e-13,\n",
       "       -6.97005491e-11,  2.28834562e-08, -4.22218372e-06,  4.04519071e-04,\n",
       "       -4.20987153e-03])"
      ]
     },
     "execution_count": 34,
     "metadata": {},
     "output_type": "execute_result"
    }
   ],
   "source": [
    "fit_vals[:deg+1]"
   ]
  },
  {
   "cell_type": "code",
   "execution_count": 166,
   "metadata": {},
   "outputs": [],
   "source": [
    "fit_amp = fit_vals[deg+1::3]\n",
    "fit_peaks = fit_vals[deg+2::3]\n",
    "fit_std = fit_vals[deg+3::3]\n",
    "fit_bg = np.polyval(fit_vals[:deg+1], channels)\n",
    "\n",
    "fit_high_res = n_gaussians_and_m_order_bg(channels, deg, *fit_vals, high_res=True, res_increase=res_increase)\n",
    "fit = n_gaussians_and_m_order_bg(channels, deg, *fit_vals)\n",
    "\n",
    "peaks_keV = channel_to_kev(fit_peaks, dispersion=dispersion, offset=offset)\n",
    "std_keV = channel_to_kev(fit_std, dispersion=dispersion, offset=offset, use_offset=False)\n",
    "\n",
    "fig = go.Figure()\n",
    "fig.update_layout(title=f\"Peak fit and backround fit of GaAs 30 kV\")\n",
    "fig.add_trace(go.Scatter(x=keV, y=s, mode=\"lines\", name='raw'))\n",
    "fig.add_trace(go.Scatter(x=keV_high_res, y=fit_high_res, mode=\"lines\", name = 'fit high res'))\n",
    "fig.add_trace(go.Scatter(x=keV, y=fit, mode=\"lines\", name = 'fit'))\n",
    "fig.add_trace(go.Scatter(x=keV, y=fit_bg, name='bg', mode=\"lines\"))\n",
    "fig.add_trace(go.Scatter(x=keV, y=fit-fit_bg, mode=\"lines\", name = 'fit - bg'))\n",
    "fig.add_trace(go.Scatter(x=keV, y=s-fit_bg, mode=\"lines\", name = 'raw - bg'))\n",
    "\n",
    "# add each gaussian to the plot\n",
    "peaks_high_res = []\n",
    "for i in range(len(fit_peaks)):\n",
    "    p_hr = gaussian(keV, fit_amp[i], peaks_keV[i], std_keV[i], high_res=True, res_increase=res_increase)\n",
    "    fig.add_trace(go.Scatter(x=keV_high_res, y=p_hr, name=f\"{peaks_keV[i]:.1f} keV\"))\n",
    "    # fig.add_trace(go.Scatter(x=keV, y=gaussian(keV, fit_amp[i], peaks_keV[i], std_keV[i]), name=f\"{peaks_keV[i]:.1f} keV\"))\n",
    "    peaks_high_res.append(p_hr)\n",
    "for p in peaks_keV:\n",
    "    fig.add_vline(x=p, line_width=1, line_dash=\"dash\", line_color=\"grey\", annotation_text=f\"{p:.3f}\")\n",
    "\n",
    "# fig\n",
    "# fig.write_html('../plots/final_fit_GaAs.html')"
   ]
  },
  {
   "cell_type": "code",
   "execution_count": 11,
   "metadata": {},
   "outputs": [],
   "source": [
    "# # plot with new background color for presentation\n",
    "# fig = go.Figure()\n",
    "# fig.update_layout(title=f\"Peak fit and backround fit of GaAs 30 kV\")\n",
    "# fig.add_trace(go.Scatter(x=keV, y=s, mode=\"markers\", name='raw', marker=dict(\n",
    "#             color='LightSkyBlue',\n",
    "#             size=4,\n",
    "#         ),))\n",
    "# fig.add_trace(go.Scatter(x=keV_high_res, y=fit_high_res, mode=\"lines\", name = 'fit'))\n",
    "# fig.add_trace(go.Scatter(x=keV, y=fit_bg, name='background', mode=\"lines\"))\n",
    "# fig.update_layout(paper_bgcolor='#018576', plot_bgcolor='#018576', font_color='#fee7a6', font_size=14, xaxis_title=\"Energy [keV]\", yaxis_title=\"Normalized counts\")\n",
    "# # set x max to 12.1 and y max to 0.5\n",
    "# fig.update_xaxes(range=[0, 12.1])\n",
    "# fig.update_yaxes(range=[0, 0.5])\n",
    "# # fig.show()\n",
    "# # fig.write_image('../plots/final_fit_GaAs__presentation.svg', width=1000, height=500, scale=6)\n",
    "# # fig.write_html('../plots/final_fit_GaAs.html')"
   ]
  },
  {
   "cell_type": "code",
   "execution_count": 12,
   "metadata": {},
   "outputs": [],
   "source": [
    "def make_table_ratios(peaks_keV, peaks_high_res, Vacc, stds_keV, poi):\n",
    "    poi_idx_hr = [find_nearest(peaks_keV, p) for p in poi]\n",
    "    p_values_hr = peaks_keV[poi_idx_hr]\n",
    "    p_area = [sum(peaks_high_res[i]) for i in poi_idx_hr]\n",
    "    p_fwhm = [fwhm(stds_keV[i])*1000 for i in poi_idx_hr]\n",
    "\n",
    "    # ratio of la, ka, kb and la+ka and la+ka+kb\n",
    "    la = p_area[0] / p_area[1]\n",
    "    ka = p_area[2] / p_area[3]\n",
    "    kb = p_area[4] / p_area[5]\n",
    "    la_ka = (p_area[0] + p_area[2]) / (p_area[1] + p_area[3])\n",
    "    la_ka_kb = (p_area[0] + p_area[2] + p_area[4]) / (p_area[1] + p_area[3] + p_area[5])\n",
    "\n",
    "    header = [\"Peak\", \"Ratio\", \"Ga value [keV]\", \"As value [keV]\", \"Ga FWHM [eV]\", \"As FWHM [eV]\", \"Ga sum\", \"As sum\"]\n",
    "    # adjust to 3 decimals\n",
    "    row1 = ['La', la, p_values_hr[0], p_values_hr[1], p_fwhm[0], p_fwhm[1], p_area[0], p_area[1]]\n",
    "    row2 = ['Ka', ka, p_values_hr[2], p_values_hr[3], p_fwhm[2], p_fwhm[3], p_area[2], p_area[3]]\n",
    "    row3 = ['Kb', kb, p_values_hr[4], p_values_hr[5], p_fwhm[4], p_fwhm[5], p_area[4], p_area[5]]\n",
    "    row4 = ['La+Ka', la_ka, '-', '-', '-', '-', p_area[0]+p_area[2], p_area[1]+p_area[3]]\n",
    "    row5 = ['La+Ka+Kb', la_ka_kb, '-', '-', '-', '-', p_area[0]+p_area[2]+p_area[4], p_area[1]+p_area[3]+p_area[5]]\n",
    "\n",
    "    # if Vacc is below 15, we only see La\n",
    "    if Vacc < 15:\n",
    "        table = np.array([row1]).T\n",
    "        return header, table\n",
    "    else:\n",
    "        table = np.array([row1, row2, row3, row4, row5]).T\n",
    "        return header, table\n",
    "\n"
   ]
  },
  {
   "cell_type": "code",
   "execution_count": 13,
   "metadata": {},
   "outputs": [],
   "source": [
    "header, table = make_table_ratios(peaks_keV, peaks_high_res, Vacc, std_keV, poi)\n",
    "# plotly_table(header, table, Vacc)"
   ]
  },
  {
   "cell_type": "code",
   "execution_count": 14,
   "metadata": {},
   "outputs": [],
   "source": [
    "factors = [3.268, 4.191] # k-factors for Ga and As from AZtec\n",
    "# factors[0] / factors[1] #  0.780\n",
    "\n",
    "# 1.678 *  factors[0] / factors[1] # 1.308\n",
    "# factors[1] / factors[0] # 1.282"
   ]
  },
  {
   "cell_type": "code",
   "execution_count": 15,
   "metadata": {},
   "outputs": [
    {
     "name": "stdout",
     "output_type": "stream",
     "text": [
      "Peak             & Ratio            & Ga value [keV]   & As value [keV]   & Ga FWHM [eV]     & As FWHM [eV]     & Ga sum           & As sum           & \n",
      "La               & 2.279            & 1.098            & 1.287            & 72.309           & 80.849           & 76.465           & 33.546           & \n",
      "Ka               & 1.678            & 9.253            & 10.542           & 157.799          & 168.238          & 58.718           & 34.994           & \n",
      "Kb               & 1.603            & 10.276           & 11.736           & 171.804          & 185.034          & 8.821            & 5.503            & \n",
      "La+Ka            & 1.972            & -                & -                & -                & -                & 135.184          & 68.540           & \n",
      "La+Ka+Kb         & 1.945            & -                & -                & -                & -                & 144.004          & 74.042           & \n"
     ]
    }
   ],
   "source": [
    "print_table(header, table)"
   ]
  },
  {
   "cell_type": "code",
   "execution_count": 16,
   "metadata": {},
   "outputs": [],
   "source": [
    "def make_final_table(data, Vacc, channels=channels, dispersion=dispersion, offset=offset, prominence=prominence, deg=deg, res_increase=res_increase, keV=keV, keV_high_res=keV_high_res, poi=None, plotlyplot=False, plotlytable=False):\n",
    "    # does fitting and makes a table for one spectrum\n",
    "    print(f'Finding the peaks from {Vacc} kV')\n",
    "    fit_vals, _ = make_fit(data, channels, deg=deg, prominence=prominence, pixel_removal=pixel_removal, offset=offset)\n",
    "    \n",
    "    # using the fit_vals to make curves\n",
    "    fit_hr = n_gaussians_and_m_order_bg(channels, deg, *fit_vals, high_res=True, res_increase=res_increase)\n",
    "    fit_bg = np.polyval(fit_vals[:deg+1], channels)\n",
    "\n",
    "    # making the standalone peaks\n",
    "    fit_amp = fit_vals[deg+1::3]\n",
    "    fit_peaks = fit_vals[deg+2::3]\n",
    "    fit_std = fit_vals[deg+3::3]\n",
    "    peaks_keV = channel_to_kev(fit_peaks, dispersion=dispersion, offset=offset)\n",
    "    std_keV = channel_to_kev(fit_std, dispersion=dispersion, offset=offset, use_offset=False)\n",
    "    peaks_high_res = []\n",
    "    for i in range(len(fit_peaks)):\n",
    "        peaks_high_res.append(gaussian(keV, fit_amp[i], peaks_keV[i], std_keV[i], high_res=True, res_increase=res_increase))\n",
    "\n",
    "    # optional plotting\n",
    "    if plotlyplot:\n",
    "        fig = go.Figure()\n",
    "        fig.update_layout(title=f\"{Vacc} kV, peak fit and backround fit\")\n",
    "        fig.add_trace(go.Scatter(x=keV, y=data, mode=\"lines\", name='raw'))\n",
    "        fig.add_trace(go.Scatter(x=keV_high_res, y=fit_hr, mode=\"lines\", name = 'fit high res'))\n",
    "        fig.add_trace(go.Scatter(x=keV, y=fit_bg, name='bg', mode=\"lines\"))\n",
    "        for i in range(len(fit_peaks)):\n",
    "            p_hr = gaussian(keV, fit_amp[i], peaks_keV[i], std_keV[i], high_res=True, res_increase=res_increase)\n",
    "            fig.add_trace(go.Scatter(x=keV_high_res, y=p_hr, name=f\"{peaks_keV[i]:.1f} keV\", mode=\"lines\"))\n",
    "        for p in peaks_keV:\n",
    "            fig.add_vline(x=p, line_width=1, line_dash=\"dash\", line_color=\"grey\", annotation_text=f\"{p:.3f}\")\n",
    "        fig.show()\n",
    "    \n",
    "    # making the table, either with ratios or just values and FWHM\n",
    "    if poi is not None:\n",
    "        header, table = make_table_ratios(peaks_keV, peaks_high_res, Vacc, std_keV, poi)\n",
    "    else:\n",
    "        header, table = table_values_FWHM(peaks_keV, peaks_high_res, std_keV)\n",
    "    # optional table\n",
    "    if plotlytable:\n",
    "        plotly_table(header, table, Vacc)\n",
    "    \n",
    "    # returning a dict with the essential data\n",
    "    return_dict = {\n",
    "        'Vacc': Vacc,\n",
    "        'fit_vals': fit_vals,\n",
    "        'fit_hr': fit_hr,\n",
    "        'fit_bg': fit_bg,\n",
    "        'fit_amp': fit_amp,\n",
    "        'fit_peaks': fit_peaks,\n",
    "        'fit_std': fit_std,\n",
    "        'peaks_keV': peaks_keV,\n",
    "        'std_keV': std_keV,\n",
    "        'header': header,\n",
    "        'table': table\n",
    "    }\n",
    "    return return_dict\n",
    "    "
   ]
  },
  {
   "cell_type": "code",
   "execution_count": 17,
   "metadata": {},
   "outputs": [
    {
     "name": "stdout",
     "output_type": "stream",
     "text": [
      "Finding the peaks from 5 kV\n",
      "Finding the peaks from 10 kV\n",
      "Finding the peaks from 15 kV\n",
      "Finding the peaks from 30 kV\n"
     ]
    }
   ],
   "source": [
    "s_dicts = []\n",
    "Vaccs = [5, 10, 15, 30]\n",
    "for s in range(len(norm)):\n",
    "    s_dicts.append(make_final_table(norm[s], Vaccs[s], plotlyplot=False, plotlytable=False, poi=poi))\n"
   ]
  },
  {
   "cell_type": "code",
   "execution_count": 18,
   "metadata": {},
   "outputs": [
    {
     "name": "stdout",
     "output_type": "stream",
     "text": [
      "\n",
      "5 kV\n",
      "Peak             |  Ratio            |  Ga value [keV]   |  As value [keV]   |  Ga FWHM [eV]     |  As FWHM [eV]     |  Ga sum           |  As sum           |  \n",
      "La               |  1.282            |  1.101            |  1.288            |  74.010           |  80.921           |  75.462           |  58.844           |  \n",
      "\n",
      "10 kV\n",
      "Peak             |  Ratio            |  Ga value [keV]   |  As value [keV]   |  Ga FWHM [eV]     |  As FWHM [eV]     |  Ga sum           |  As sum           |  \n",
      "La               |  1.444            |  1.100            |  1.287            |  73.841           |  80.827           |  76.222           |  52.770           |  \n",
      "\n",
      "15 kV\n",
      "Peak             |  Ratio            |  Ga value [keV]   |  As value [keV]   |  Ga FWHM [eV]     |  As FWHM [eV]     |  Ga sum           |  As sum           |  \n",
      "La               |  1.669            |  1.100            |  1.287            |  73.830           |  81.137           |  77.001           |  46.146           |  \n",
      "Ka               |  2.445            |  9.253            |  10.536           |  155.080          |  181.951          |  6.013            |  2.459            |  \n",
      "Kb               |  1.000            |  10.536           |  10.536           |  181.951          |  181.951          |  2.459            |  2.459            |  \n",
      "La+Ka            |  1.708            |  -                |  -                |  -                |  -                |  83.014           |  48.605           |  \n",
      "La+Ka+Kb         |  1.674            |  -                |  -                |  -                |  -                |  85.473           |  51.065           |  \n",
      "\n",
      "30 kV\n",
      "Peak             |  Ratio            |  Ga value [keV]   |  As value [keV]   |  Ga FWHM [eV]     |  As FWHM [eV]     |  Ga sum           |  As sum           |  \n",
      "La               |  2.279            |  1.098            |  1.287            |  72.309           |  80.849           |  76.465           |  33.546           |  \n",
      "Ka               |  1.678            |  9.253            |  10.542           |  157.799          |  168.238          |  58.718           |  34.994           |  \n",
      "Kb               |  1.603            |  10.276           |  11.736           |  171.804          |  185.034          |  8.821            |  5.503            |  \n",
      "La+Ka            |  1.972            |  -                |  -                |  -                |  -                |  135.184          |  68.540           |  \n",
      "La+Ka+Kb         |  1.945            |  -                |  -                |  -                |  -                |  144.004          |  74.042           |  \n"
     ]
    }
   ],
   "source": [
    "# print all tables\n",
    "for s in s_dicts:\n",
    "    print(f\"\\n{s['Vacc']} kV\")\n",
    "    print_table(s['header'], s['table'], delim='| ')"
   ]
  },
  {
   "cell_type": "code",
   "execution_count": 19,
   "metadata": {},
   "outputs": [
    {
     "name": "stdout",
     "output_type": "stream",
     "text": [
      "Finding the peaks from 5 kV\n",
      "Finding the peaks from 10 kV\n",
      "Finding the peaks from 15 kV\n",
      "Finding the peaks from 30 kV\n"
     ]
    }
   ],
   "source": [
    "s = get_multiple_data_arrays(filters=['NW'], normalize=False)\n",
    "# highest peak normalization\n",
    "s = normalize_high_peak(s)\n",
    "s, names = split_arrs(s)\n",
    "s_dicts_NW = []\n",
    "Vaccs = [5, 10, 15, 30]\n",
    "plottt = False\n",
    "for i in range(len(s)):\n",
    "    # if Vaccs[i] == 30:\n",
    "    #     plottt = True\n",
    "    s_dicts_NW.append(make_final_table(s[i], Vaccs[i], plotlyplot=plottt, plotlytable=False, poi=poi))\n",
    "\n",
    "# for s in s_dicts_NW:\n",
    "#     print(f\"\\n{s['Vacc']} kV\")\n",
    "#     print_table(s['header'], s['table'], delim='| ')"
   ]
  },
  {
   "cell_type": "code",
   "execution_count": null,
   "metadata": {},
   "outputs": [],
   "source": []
  },
  {
   "cell_type": "code",
   "execution_count": 20,
   "metadata": {},
   "outputs": [
    {
     "name": "stdout",
     "output_type": "stream",
     "text": [
      "Finding the peaks from 5 kV\n",
      "Finding the peaks from 10 kV\n",
      "Finding the peaks from 15 kV\n",
      "Finding the peaks from 30 kV\n"
     ]
    }
   ],
   "source": [
    "#\n",
    "##  trying with dispersion and offset from .emsa file, ie. AZtec\n",
    "#\n",
    "disp_AZtec = 0.01\n",
    "offs_AZtec = 20\n",
    "keV_AZtec = channel_to_kev(channels, dispersion=disp_AZtec, offset=offs_AZtec)\n",
    "keV_AZtec_high_res = channel_to_kev(arr=np.linspace(0, len(channels), len(channels) * res_increase), dispersion=dispersion, offset=offset)\n",
    "\n",
    "s = get_multiple_data_arrays(filters=['Ga'], normalize=False)\n",
    "# highest peak normalization\n",
    "s = normalize_high_peak(s)\n",
    "s, names = split_arrs(s)\n",
    "s_dicts_AZtec = []\n",
    "Vaccs = [5, 10, 15, 30]\n",
    "plottt = False\n",
    "for i in range(len(s)):\n",
    "    # if Vaccs[i] == 30:\n",
    "    #     plottt = True\n",
    "    s_dicts_AZtec.append(make_final_table(s[i], Vaccs[i], plotlyplot=plottt, plotlytable=False, poi=poi, dispersion=disp_AZtec, offset=offs_AZtec, keV=keV_AZtec, keV_high_res=keV_AZtec_high_res))\n",
    "\n",
    "# print('Dispersion and offset from AZtec')\n",
    "# for s in s_dicts_AZtec:\n",
    "#     print(f\"\\n{s['Vacc']} kV\")\n",
    "#     print_table(s['header'], s['table'], delim='| ')"
   ]
  },
  {
   "cell_type": "code",
   "execution_count": 23,
   "metadata": {},
   "outputs": [
    {
     "data": {
      "text/plain": [
       "[{'Vacc': 5,\n",
       "  'fit_vals': array([-1.60501138e-37,  2.64162151e-33, -1.88160861e-29,  7.69253147e-26,\n",
       "         -2.01049346e-22,  3.53155181e-19, -4.25825888e-16,  3.52980489e-13,\n",
       "         -1.97794122e-10,  7.18881537e-08, -1.54959053e-05,  1.56636526e-03,\n",
       "         -1.50166022e-02,  5.03441389e-02,  2.17602962e+01,  1.44734478e+00,\n",
       "          2.23839916e-02,  4.59115661e+01,  1.52995287e+00,  4.71879788e-02,\n",
       "          7.17181713e+01,  2.72926829e+00,  6.60224634e-02,  1.16688645e+02,\n",
       "          3.82231391e+00,  9.60147823e-01,  1.30893184e+02,  3.13405766e+00,\n",
       "          6.84770336e-01,  1.49465864e+02,  3.42670746e+00]),\n",
       "  'fit_hr': array([-0.01423763, -0.01408275, -0.01392819, ...,  0.00039502,\n",
       "          0.00039799,  0.00040097]),\n",
       "  'fit_bg': array([-0.0150166 , -0.01346566, -0.01194528, ...,  0.00034327,\n",
       "          0.0003716 ,  0.00040097]),\n",
       "  'fit_amp': array([0.05034414, 0.02238399, 0.04718798, 0.06602246, 0.96014782,\n",
       "         0.68477034]),\n",
       "  'fit_peaks': array([ 21.76029616,  45.91156615,  71.7181713 , 116.68864502,\n",
       "         130.89318357, 149.46586439]),\n",
       "  'fit_std': array([1.44734478, 1.52995287, 2.72926829, 3.82231391, 3.13405766,\n",
       "         3.42670746]),\n",
       "  'peaks_keV': array([0.00684227, 0.24903845, 0.50783483, 0.95881223, 1.10125961,\n",
       "         1.28751202]),\n",
       "  'std_keV': array([0.01451441, 0.01534283, 0.02736992, 0.03833131, 0.03142927,\n",
       "         0.03436405]),\n",
       "  'header': ['Peak',\n",
       "   'Ratio',\n",
       "   'Ga value [keV]',\n",
       "   'As value [keV]',\n",
       "   'Ga FWHM [eV]',\n",
       "   'As FWHM [eV]',\n",
       "   'Ga sum',\n",
       "   'As sum'],\n",
       "  'table': array([['La'],\n",
       "         ['1.2823988375387432'],\n",
       "         ['1.1012596054219717'],\n",
       "         ['1.2875120204484654'],\n",
       "         ['74.01027606973321'],\n",
       "         ['80.92115475079675'],\n",
       "         ['75.46158477707486'],\n",
       "         ['58.84408389039503']], dtype='<U32')},\n",
       " {'Vacc': 10,\n",
       "  'fit_vals': array([-1.65394901e-36,  2.16628731e-32, -1.25534836e-28,  4.23835718e-25,\n",
       "         -9.24008940e-22,  1.36240166e-18, -1.38337832e-15,  9.66452847e-13,\n",
       "         -4.56225913e-10,  1.39993048e-07, -2.59552609e-05,  2.47355559e-03,\n",
       "         -6.21610787e-02,  1.64211190e-02,  2.15731225e+01,  1.76695846e+00,\n",
       "          1.01975311e-01, -2.79202676e+01,  2.77762088e+01,  1.26575551e-02,\n",
       "          7.17374162e+01,  1.84057226e+00,  6.78062901e-02,  1.16773958e+02,\n",
       "          3.77207049e+00,  9.72045022e-01,  1.30812267e+02,  3.12689511e+00,\n",
       "          6.14800476e-01,  1.49440754e+02,  3.42271635e+00]),\n",
       "  'fit_hr': array([-0.00051358, -0.00049162, -0.00047012, ..., -0.00112619,\n",
       "         -0.00113608, -0.00114601]),\n",
       "  'fit_bg': array([-0.06216108, -0.05971334, -0.05731668, ..., -0.00095508,\n",
       "         -0.00104851, -0.00114601]),\n",
       "  'fit_amp': array([0.01642112, 0.10197531, 0.01265756, 0.06780629, 0.97204502,\n",
       "         0.61480048]),\n",
       "  'fit_peaks': array([ 21.57312248, -27.92026765,  71.73741621, 116.7739579 ,\n",
       "         130.8122675 , 149.44075402]),\n",
       "  'fit_std': array([ 1.76695846, 27.77620884,  1.84057226,  3.77207049,  3.12689511,\n",
       "          3.42271635]),\n",
       "  'peaks_keV': array([ 0.00496524, -0.49136933,  0.50802782,  0.95966777,  1.10044815,\n",
       "          1.28726021]),\n",
       "  'std_keV': array([0.01771959, 0.27854816, 0.01845781, 0.03782745, 0.03135744,\n",
       "         0.03432403]),\n",
       "  'header': ['Peak',\n",
       "   'Ratio',\n",
       "   'Ga value [keV]',\n",
       "   'As value [keV]',\n",
       "   'Ga FWHM [eV]',\n",
       "   'As FWHM [eV]',\n",
       "   'Ga sum',\n",
       "   'As sum'],\n",
       "  'table': array([['La'],\n",
       "         ['1.4444236441012115'],\n",
       "         ['1.1004481547653513'],\n",
       "         ['1.2872602060973999'],\n",
       "         ['73.84113344753716'],\n",
       "         ['80.82690536802563'],\n",
       "         ['76.22203348941727'],\n",
       "         ['52.76986000658153']], dtype='<U32')},\n",
       " {'Vacc': 15,\n",
       "  'fit_vals': array([ 2.04042010e-37, -2.37877185e-33,  1.18309329e-29, -3.23566444e-26,\n",
       "          5.15069100e-23, -4.36914409e-20,  6.84055004e-18,  2.51480340e-14,\n",
       "         -2.79880500e-11,  1.42884658e-08, -3.90216595e-06,  5.06952295e-04,\n",
       "         -5.83713664e-03,  1.99171016e-02,  2.15696402e+01,  1.63126452e+00,\n",
       "          1.23264490e-02,  4.67010000e+01,  1.40005905e+00,  6.99837487e-02,\n",
       "          1.16738283e+02,  4.34792891e+00,  9.82123473e-01,  1.30739638e+02,\n",
       "          3.12643348e+00,  5.35579294e-01,  1.49414015e+02,  3.43583673e+00,\n",
       "          3.65112149e-02,  9.43736850e+02,  6.56707237e+00,  1.27269602e-02,\n",
       "          1.07169075e+03,  7.70494588e+00]),\n",
       "  'fit_hr': array([-0.00558474, -0.0055345 , -0.00548433, ...,  0.00032911,\n",
       "          0.0003318 ,  0.00033449]),\n",
       "  'fit_bg': array([-0.00583714, -0.00533407, -0.00483873, ...,  0.00028263,\n",
       "          0.00030803,  0.00033449]),\n",
       "  'fit_amp': array([0.0199171 , 0.01232645, 0.06998375, 0.98212347, 0.53557929,\n",
       "         0.03651121, 0.01272696]),\n",
       "  'fit_peaks': array([  21.56964016,   46.70100005,  116.73828278,  130.73963762,\n",
       "          149.41401534,  943.7368502 , 1071.690755  ]),\n",
       "  'fit_std': array([1.63126452, 1.40005905, 4.34792891, 3.12643348, 3.43583673,\n",
       "         6.56707237, 7.70494588]),\n",
       "  'peaks_keV': array([4.93031502e-03, 2.56955131e-01, 9.59310014e-01, 1.09971980e+00,\n",
       "         1.28699206e+00, 9.25269975e+00, 1.05358599e+01]),\n",
       "  'std_keV': array([0.01635881, 0.01404021, 0.04360234, 0.03135281, 0.0344556 ,\n",
       "         0.06585657, 0.07726751]),\n",
       "  'header': ['Peak',\n",
       "   'Ratio',\n",
       "   'Ga value [keV]',\n",
       "   'As value [keV]',\n",
       "   'Ga FWHM [eV]',\n",
       "   'As FWHM [eV]',\n",
       "   'Ga sum',\n",
       "   'As sum'],\n",
       "  'table': array([['La', 'Ka', 'Kb', 'La+Ka', 'La+Ka+Kb'],\n",
       "         ['1.6686259272900497', '2.4451404463985575', '1.0',\n",
       "          '1.7079121244414992', '1.6738214761589005'],\n",
       "         ['1.0997198005468793', '9.25269974741698', '10.535859890960936',\n",
       "          '-', '-'],\n",
       "         ['1.286992062649416', '10.535859890960936', '10.535859890960936',\n",
       "          '-', '-'],\n",
       "         ['73.83023227514857', '155.08037537516972', '181.95107853702015',\n",
       "          '-', '-'],\n",
       "         ['81.1367410018233', '181.95107853702015', '181.95107853702015',\n",
       "          '-', '-'],\n",
       "         ['77.00095675086611', '6.012829986221276', '2.4590939122035143',\n",
       "          '83.01378673708739', '85.4728806492909'],\n",
       "         ['46.146326442332324', '2.4590939122035143', '2.4590939122035143',\n",
       "          '48.60542035453584', '51.06451426673935']], dtype='<U32')},\n",
       " {'Vacc': 30,\n",
       "  'fit_vals': array([ 7.61941376e-38, -5.30834547e-34,  1.31249197e-31,  1.02806676e-26,\n",
       "         -4.72681188e-23,  1.07726058e-19, -1.47828722e-16,  1.28060126e-13,\n",
       "         -6.97005491e-11,  2.28834562e-08, -4.22218372e-06,  4.04519071e-04,\n",
       "         -4.20987153e-03,  1.12532490e-01,  2.18740101e+01,  1.84489216e+00,\n",
       "          1.42344546e-02,  4.66639244e+01,  1.63641493e+00,  6.64559176e-02,\n",
       "          1.16965749e+02,  4.61406176e+00,  9.95808798e-01,  1.30598187e+02,\n",
       "          3.06202158e+00,  3.90717536e-01,  1.49404095e+02,  3.42366628e+00,\n",
       "          3.50407769e-01,  9.43746698e+02,  6.68219496e+00,  4.83471575e-02,\n",
       "          1.04574759e+03,  7.27525070e+00,  1.95872376e-01,  1.07233209e+03,\n",
       "          7.12426180e+00,  2.80044496e-02,  1.19140790e+03,  7.83547518e+00]),\n",
       "  'fit_hr': array([-0.00400875, -0.00396878, -0.00392889, ...,  0.00119845,\n",
       "          0.00120136,  0.00120428]),\n",
       "  'fit_bg': array([-0.00420987, -0.00380955, -0.00341754, ...,  0.00114818,\n",
       "          0.0011756 ,  0.00120428]),\n",
       "  'fit_amp': array([0.11253249, 0.01423445, 0.06645592, 0.9958088 , 0.39071754,\n",
       "         0.35040777, 0.04834716, 0.19587238, 0.02800445]),\n",
       "  'fit_peaks': array([  21.87401012,   46.66392441,  116.96574904,  130.59818726,\n",
       "          149.40409522,  943.74669824, 1045.74759189, 1072.33209366,\n",
       "         1191.40789906]),\n",
       "  'fit_std': array([1.84489216, 1.63641493, 4.61406176, 3.06202158, 3.42366628,\n",
       "         6.68219496, 7.2752507 , 7.1242618 , 7.83547518]),\n",
       "  'peaks_keV': array([7.98262833e-03, 2.56583326e-01, 9.61591114e-01, 1.09830129e+00,\n",
       "         1.28689258e+00, 9.25279851e+00, 1.02756941e+01, 1.05422914e+01,\n",
       "         1.17364193e+01]),\n",
       "  'std_keV': array([0.01850113, 0.01641046, 0.0462712 , 0.03070687, 0.03433355,\n",
       "         0.06701106, 0.0729584 , 0.07144423, 0.0785765 ]),\n",
       "  'header': ['Peak',\n",
       "   'Ratio',\n",
       "   'Ga value [keV]',\n",
       "   'As value [keV]',\n",
       "   'Ga FWHM [eV]',\n",
       "   'As FWHM [eV]',\n",
       "   'Ga sum',\n",
       "   'As sum'],\n",
       "  'table': array([['La', 'Ka', 'Kb', 'La+Ka', 'La+Ka+Kb'],\n",
       "         ['2.279448982144539', '1.6779530552766457', '1.6029741860203532',\n",
       "          '1.9723452742571275', '1.9448943834217574'],\n",
       "         ['1.0983012939009378', '9.252798506583302', '10.275694068349877',\n",
       "          '-', '-'],\n",
       "         ['1.2868925806739624', '10.542291427406552', '11.736419326750209',\n",
       "          '-', '-'],\n",
       "         ['72.30915531718102', '157.79897725172762', '171.8038948539428',\n",
       "          '-', '-'],\n",
       "         ['80.84933783244144', '168.23831583549165', '185.03350715576397',\n",
       "          '-', '-'],\n",
       "         ['76.46541386306325', '58.71833146956824', '8.820632873690533',\n",
       "          '135.18374533263147', '144.004378206322'],\n",
       "         ['33.54556932926986', '34.9940251814061', '5.502666824341821',\n",
       "          '68.53959451067595', '74.04226133501777']], dtype='<U32')}]"
      ]
     },
     "execution_count": 23,
     "metadata": {},
     "output_type": "execute_result"
    }
   ],
   "source": [
    "s_dicts"
   ]
  },
  {
   "cell_type": "code",
   "execution_count": 22,
   "metadata": {},
   "outputs": [
    {
     "name": "stdout",
     "output_type": "stream",
     "text": [
      "Dispersion and offset from calibration of Ga La and As Ka\n",
      "\n",
      "5 kV\n",
      "Peak             &  Ratio            &  Ga value [keV]   &  As value [keV]   &  Ga FWHM [eV]     &  As FWHM [eV]     &  Ga sum           &  As sum           &  \n",
      "La               &  1.282            &  1.101            &  1.288            &  74.010           &  80.921           &  75.462           &  58.844           &  \n",
      "\n",
      "10 kV\n",
      "Peak             &  Ratio            &  Ga value [keV]   &  As value [keV]   &  Ga FWHM [eV]     &  As FWHM [eV]     &  Ga sum           &  As sum           &  \n",
      "La               &  1.444            &  1.100            &  1.287            &  73.841           &  80.827           &  76.222           &  52.770           &  \n",
      "\n",
      "15 kV\n",
      "Peak             &  Ratio            &  Ga value [keV]   &  As value [keV]   &  Ga FWHM [eV]     &  As FWHM [eV]     &  Ga sum           &  As sum           &  \n",
      "La               &  1.669            &  1.100            &  1.287            &  73.830           &  81.137           &  77.001           &  46.146           &  \n",
      "Ka               &  2.445            &  9.253            &  10.536           &  155.080          &  181.951          &  6.013            &  2.459            &  \n",
      "Kb               &  1.000            &  10.536           &  10.536           &  181.951          &  181.951          &  2.459            &  2.459            &  \n",
      "La+Ka            &  1.708            &  -                &  -                &  -                &  -                &  83.014           &  48.605           &  \n",
      "La+Ka+Kb         &  1.674            &  -                &  -                &  -                &  -                &  85.473           &  51.065           &  \n",
      "\n",
      "30 kV\n",
      "Peak             &  Ratio            &  Ga value [keV]   &  As value [keV]   &  Ga FWHM [eV]     &  As FWHM [eV]     &  Ga sum           &  As sum           &  \n",
      "La               &  2.279            &  1.098            &  1.287            &  72.309           &  80.849           &  76.465           &  33.546           &  \n",
      "Ka               &  1.678            &  9.253            &  10.542           &  157.799          &  168.238          &  58.718           &  34.994           &  \n",
      "Kb               &  1.603            &  10.276           &  11.736           &  171.804          &  185.034          &  8.821            &  5.503            &  \n",
      "La+Ka            &  1.972            &  -                &  -                &  -                &  -                &  135.184          &  68.540           &  \n",
      "La+Ka+Kb         &  1.945            &  -                &  -                &  -                &  -                &  144.004          &  74.042           &  \n"
     ]
    }
   ],
   "source": [
    "print('Dispersion and offset from calibration of Ga La and As Ka')\n",
    "\n",
    "# kf5 = [1.210, 1.086] # 5kV k-factors, As then Ga on the L-series\n",
    "# kf10 = [1.310, 1.223] # 10kV k-factors, Ga and As L-series\n",
    "# kf15 = [1.331, 1.259] # 15kV k-factors, Ga and As L-series\n",
    "# kf30 = [4.191, 3.268] # 30kV k-factors, Ga and As K-series\n",
    "# factors = [kf5, kf10, kf15, kf30] # [As, Ga]\n",
    "# ratios = [kf5[1]/kf5[0], kf10[1]/kf10[0], kf15[1]/kf15[0], kf30[1]/kf30[0]] # Ga/As ratios\n",
    "\n",
    "for s in s_dicts:\n",
    "    print(f\"\\n{s['Vacc']} kV\")\n",
    "    print_table(s['header'], s['table'], delim='& ')"
   ]
  },
  {
   "cell_type": "code",
   "execution_count": null,
   "metadata": {},
   "outputs": [],
   "source": []
  }
 ],
 "metadata": {
  "kernelspec": {
   "display_name": "Python 3.8.13 ('hspy')",
   "language": "python",
   "name": "python3"
  },
  "language_info": {
   "codemirror_mode": {
    "name": "ipython",
    "version": 3
   },
   "file_extension": ".py",
   "mimetype": "text/x-python",
   "name": "python",
   "nbconvert_exporter": "python",
   "pygments_lexer": "ipython3",
   "version": "3.8.13"
  },
  "orig_nbformat": 4,
  "vscode": {
   "interpreter": {
    "hash": "eedee208f6f0fe67ac5ec53646d8853bbb152098f521b748accd5958a126e1a5"
   }
  }
 },
 "nbformat": 4,
 "nbformat_minor": 2
}
