{
 "cells": [
  {
   "cell_type": "code",
   "execution_count": 1,
   "metadata": {},
   "outputs": [],
   "source": [
    "import plotly.graph_objects as go\n",
    "import numpy as np\n",
    "from scipy.signal import find_peaks\n",
    "\n",
    "from utils.get_raw_data import locate_raw_data, get_multiple_data_arrays"
   ]
  },
  {
   "cell_type": "code",
   "execution_count": 5,
   "metadata": {},
   "outputs": [],
   "source": [
    "# expected plot from theory, i.e. only lines\n",
    "disp =  0.0100283 # keV / channel\n",
    "offs = 21.078\n",
    "\n",
    "ch = np.arange(0, 2048)\n",
    "e = disp * (ch - offs)\n",
    "\n",
    "def ch_to_e(ch):\n",
    "    return disp * (ch - offs)\n",
    "\n",
    "s = get_multiple_data_arrays(filters=['GaAs_30'], normalize=False)[0][1]\n",
    "m = s.max()\n",
    "sn = s/m\n",
    "peaks, dic = find_peaks(sn, prominence=0.01, height=0.01)\n",
    "pm = s[peaks]"
   ]
  },
  {
   "cell_type": "code",
   "execution_count": null,
   "metadata": {},
   "outputs": [],
   "source": []
  },
  {
   "cell_type": "code",
   "execution_count": 13,
   "metadata": {},
   "outputs": [],
   "source": [
    "fig = go.Figure()\n",
    "for p in range(1, len(peaks)):\n",
    "    fig.add_trace(go.Scatter(x=[ch_to_e(peaks[p]), ch_to_e(peaks[p])], y=[0, pm[p]], mode='lines', name=f'{ch_to_e(peaks[p]):.2f} keV', line=dict(width=5)))\n",
    "fig.update_layout(margin=dict(l=0, r=0, t=0, b=0))\n",
    "fig.update_layout(width=800, height=400)\n",
    "fig.update_layout(yaxis_range=[-100,75000], xaxis_range=[0.11,12], xaxis_title=\"Energy [keV]\", yaxis_title=\"Intensity [counts]\")\n",
    "fig.update_layout(legend=dict(x=.85, y=.95, font=dict(family=\"sans-serif\", size=12, color=\"black\"), bgcolor=\"LightSteelBlue\", bordercolor=\"Black\", borderwidth=2))\n",
    "\n",
    "fig.update_layout(font=dict(family=\"EB Garamond SemiBold\", size=14, color=\"black\"))\n",
    "fig.write_image(\"../plots/expected_lines.png\", scale=2)\n"
   ]
  },
  {
   "cell_type": "code",
   "execution_count": 46,
   "metadata": {},
   "outputs": [],
   "source": [
    "# actual plot from data\n",
    "\n",
    "fig = go.Figure()\n",
    "fig.add_trace(go.Scatter(x=e, y=s, mode='lines', name='Actual data', line=dict(width=4)))\n",
    "fig.update_layout(margin=dict(l=0, r=0, t=0, b=0))\n",
    "fig.update_layout(width=800, height=400)\n",
    "fig.update_layout(yaxis_range=[-100,75000], xaxis_range=[0.11,12], xaxis_title=\"Energy [keV]\", yaxis_title=\"Intensity [counts]\")\n",
    "fig.update_layout(legend=dict(x=.85, y=.95, traceorder=\"normal\", font=dict(family=\"sans-serif\", size=12, color=\"black\"), bgcolor=\"LightSteelBlue\", bordercolor=\"Black\", borderwidth=2))\n",
    "fig.update_layout(legend=dict(x=.85, y=.95, font=dict(family=\"sans-serif\", size=12, color=\"black\"), bgcolor=\"LightSteelBlue\", bordercolor=\"Black\", borderwidth=2))\n",
    "fig.update_layout(showlegend=True)\n",
    "\n",
    "# annotate \"Peaks broaden at higher peaks\"\n",
    "fig.add_annotation(x=0.5, y=0.5, xref=\"paper\", yref=\"paper\", text=\"Broadening of peaks at higher energy\", showarrow=False, font=dict(size=14))\n",
    "\n",
    "fig.add_annotation(x=0.9, y=35500, xref=\"x\", yref=\"y\", text=\"→\", showarrow=False, font=dict(size=18))\n",
    "fig.add_annotation(x=1.31, y=35500, xref=\"x\", yref=\"y\", text=\"←\", showarrow=False, font=dict(size=18))\n",
    "\n",
    "fig.add_annotation(x=9.00, y=25760/2, xref=\"x\", yref=\"y\", text=\"→\", showarrow=False, font=dict(size=18))\n",
    "fig.add_annotation(x=9.51, y=25760/2, xref=\"x\", yref=\"y\", text=\"←\", showarrow=False, font=dict(size=18))\n",
    "\n",
    "fig.update_layout(font=dict(family=\"EB Garamond SemiBold\", size=14, color=\"black\"))\n",
    "fig.write_image(\"../plots/actual_peaks.png\", scale=2)\n"
   ]
  },
  {
   "cell_type": "code",
   "execution_count": 47,
   "metadata": {},
   "outputs": [],
   "source": [
    "# background shape\n",
    "\n",
    "# data where the peaks are set to np.nan\n",
    "bg = s.copy()\n",
    "\n",
    "def remove_peaks(data, peaks, buffer=45):\n",
    "    for i in range(len(peaks)):\n",
    "        data[int((peaks[i] - buffer)) : int((peaks[i] + buffer))] = np.nan\n",
    "    return data\n",
    "\n",
    "bg = remove_peaks(bg, peaks)\n",
    "bg[194:210] = np.nan\n",
    "bg[120:210] = np.linspace(0, bg[210], 210-120)\n",
    "bg[890:1240] = np.linspace(bg[890], bg[1240], 1240-890)\n",
    "bg = bg[120:]\n",
    "\n",
    "bg_m = bg.max()\n",
    "bg = bg/bg_m\n",
    "\n",
    "# polyfit bg\n",
    "bg_fit = np.polyfit(e[120:], bg, 6)\n",
    "bg_fit = np.poly1d(bg_fit)\n",
    "bg_fit = bg_fit(e)\n",
    "\n",
    "bg_fit=bg_fit*bg_m\n",
    "\n",
    "fig = go.Figure()\n",
    "# fig.add_trace(go.Scatter(x=e, y=bg, mode=\"lines\"))\n",
    "fig.add_trace(go.Scatter(x=e[30:], y=bg_fit[120:1700], mode=\"lines\", name='Expected background', line=dict(width=4)))\n",
    "fig.update_layout(margin=dict(l=0, r=0, t=0, b=0))\n",
    "fig.update_layout(width=800, height=400)\n",
    "fig.update_layout(xaxis_title=\"Energy [keV]\", yaxis_title=\"Intensity [counts]\", yaxis_range=[-10,1300])#, xaxis_range=[0.11,12])\n",
    "fig.update_layout(legend=dict(x=.75, y=.95, traceorder=\"normal\", font=dict(family=\"sans-serif\", size=12, color=\"black\"), bgcolor=\"LightSteelBlue\", bordercolor=\"Black\", borderwidth=2))\n",
    "fig.update_layout(showlegend=True)\n",
    "\n",
    "fig.add_annotation(x=0.1, y=0.15, xref=\"paper\", yref=\"paper\", text=\"Background radiation is absorbed below ~2 keV \", showarrow=False, font=dict(size=14))\n",
    "fig.add_annotation(x=0.6, y=0.6, xref=\"paper\", yref=\"paper\", text=\"Background radiation decrease exponentially\", showarrow=False, font=dict(size=14))\n",
    "\n",
    "fig.update_layout(font=dict(family=\"EB Garamond SemiBold\", size=14, color=\"black\"))\n",
    "# save as expected_background.png\n",
    "fig.write_image(\"../plots/expected_background.png\", scale=2)"
   ]
  },
  {
   "cell_type": "code",
   "execution_count": null,
   "metadata": {},
   "outputs": [],
   "source": []
  },
  {
   "cell_type": "code",
   "execution_count": null,
   "metadata": {},
   "outputs": [],
   "source": []
  }
 ],
 "metadata": {
  "kernelspec": {
   "display_name": "hspy",
   "language": "python",
   "name": "python3"
  },
  "language_info": {
   "codemirror_mode": {
    "name": "ipython",
    "version": 3
   },
   "file_extension": ".py",
   "mimetype": "text/x-python",
   "name": "python",
   "nbconvert_exporter": "python",
   "pygments_lexer": "ipython3",
   "version": "3.8.13"
  },
  "orig_nbformat": 4,
  "vscode": {
   "interpreter": {
    "hash": "eedee208f6f0fe67ac5ec53646d8853bbb152098f521b748accd5958a126e1a5"
   }
  }
 },
 "nbformat": 4,
 "nbformat_minor": 2
}
